{
  "nbformat": 4,
  "nbformat_minor": 0,
  "metadata": {
    "colab": {
      "name": "data-mining-nfts.ipynb",
      "provenance": [],
      "collapsed_sections": [],
      "toc_visible": true,
      "include_colab_link": true
    },
    "kernelspec": {
      "display_name": "Python 3",
      "language": "python",
      "name": "python3"
    },
    "language_info": {
      "codemirror_mode": {
        "name": "ipython",
        "version": 3
      },
      "file_extension": ".py",
      "mimetype": "text/x-python",
      "name": "python",
      "nbconvert_exporter": "python",
      "pygments_lexer": "ipython3",
      "version": "3.6.8"
    }
  },
  "cells": [
    {
      "cell_type": "markdown",
      "metadata": {
        "id": "view-in-github",
        "colab_type": "text"
      },
      "source": [
        "<a href=\"https://colab.research.google.com/github/dinuka-rp/nerdy-panda/blob/main/Prototype/Data%20Collection/data_mining_nfts.ipynb\" target=\"_parent\"><img src=\"https://colab.research.google.com/assets/colab-badge.svg\" alt=\"Open In Colab\"/></a>"
      ]
    },
    {
      "cell_type": "markdown",
      "metadata": {
        "id": "yMQzsKyvFlJ2"
      },
      "source": [
        "# Data Mining NFT Data\n",
        "\n",
        "## 2.1. NFT Data Collection \n",
        "\n",
        "OpenSea provides different APIs for fetching NFTs data. We will be using 2 of them:\n",
        "- [OpenSea Assets API](https://docs.opensea.io/reference#getting-assets)\n",
        "- [OpenSea Events API](https://docs.opensea.io/reference#retrieving-asset-events)\n",
        "\n",
        "```\n",
        "\n",
        "### 2.1.2. Fetching Data from OpenSea APIs\n",
        "\n",
        "We will use Python to fetch data from 2 OpenSea APIs:\n",
        "\n",
        "* [OpenSea Assets API](https://docs.opensea.io/reference#getting-assets): We will be using this API to retrieve the following data about each NFT:\n",
        "\n",
        "    - The Meebit's Id.\n",
        "    - The creator's username and address. The creator is the person who minted the Meebit to the blockchain.\n",
        "    - The owner's username and address.\n",
        "    - The Meebit's traits.\n",
        "    - The number of times the Meebit has been sold.\n",
        "\n",
        "* [OpenSea Events API](https://docs.opensea.io/reference#retrieving-asset-events): We will be using this API to retrieve the following data about each Meebit’s sale transaction:\n",
        "\n",
        "    - The Meebit's Id.\n",
        "    - The seller's username and address.\n",
        "    - The buyer's username and address.\n",
        "    - The sale's timestamp.\n",
        "    - The sale transaction's hash.\n",
        "    - The price.\n",
        "    - The token used for the sale.\n",
        "    - The price in USD.\n",
        "    - If the sale is a bundle of Meebits.\n",
        "\n",
        "I prepared [2 python functions](https://github.com/adilmoujahid/data-mining-nfts/blob/main/helpers.py) ```parse_meebit_data(meebit_dict)``` and ```parse_sale_data(sale_dict)``` for parsing the data that we’ll fetch from the OpenSea APIs. \n",
        "\n",
        "Next, from a Jupyter notebook, we import the Python libaries that we'll use for the analysis."
      ]
    },
    {
      "cell_type": "markdown",
      "metadata": {
        "id": "BOBhUfG3lFWJ"
      },
      "source": [
        "## Mount Google Drive\n",
        "\n"
      ]
    },
    {
      "cell_type": "code",
      "metadata": {
        "id": "Pjk2AogglEja",
        "colab": {
          "base_uri": "https://localhost:8080/"
        },
        "outputId": "61fd758c-2a8e-4cd9-a0dd-77d2c98cd874"
      },
      "source": [
        "from google.colab import drive\n",
        "drive.mount('drive')"
      ],
      "execution_count": null,
      "outputs": [
        {
          "output_type": "stream",
          "name": "stdout",
          "text": [
            "Mounted at drive\n"
          ]
        }
      ]
    },
    {
      "cell_type": "code",
      "metadata": {
        "id": "NWDSJsAWFlJ3"
      },
      "source": [
        "%matplotlib inline"
      ],
      "execution_count": null,
      "outputs": []
    },
    {
      "cell_type": "code",
      "metadata": {
        "id": "EPBnVc_XFlJ4"
      },
      "source": [
        "# from helpers import parse_meebit_data, parse_sale_data\n",
        "import requests\n",
        "import pandas as pd\n",
        "import datetime, os"
      ],
      "execution_count": 9,
      "outputs": []
    },
    {
      "cell_type": "code",
      "metadata": {
        "id": "Zg_thYo7FlJ4"
      },
      "source": [
        "import matplotlib\n",
        "import matplotlib.pyplot as plt"
      ],
      "execution_count": null,
      "outputs": []
    },
    {
      "cell_type": "code",
      "metadata": {
        "id": "25_0GY6bFlJ4"
      },
      "source": [
        "plt.style.use('ggplot')"
      ],
      "execution_count": null,
      "outputs": []
    },
    {
      "cell_type": "code",
      "source": [
        "collection_dict = {} # {collection name: total NFTs in the collection}\n",
        "collection_slug = \"boredapeyachtclub\""
      ],
      "metadata": {
        "id": "ap3iIcemYmmm"
      },
      "execution_count": 10,
      "outputs": []
    },
    {
      "cell_type": "markdown",
      "source": [
        "## Get Collection stats\n",
        "to get the count of NFTs in a collection - this is needed to calculate rarity\n",
        "\n",
        "Can get this by calling the collection stats endpoint for each asset using the collection slug.\n",
        "\n",
        "Store this amount in an in-memory dictionary, so that the endpoint doesn't have to be called for each NFT."
      ],
      "metadata": {
        "id": "Vnu5rP_Id9W7"
      }
    },
    {
      "cell_type": "code",
      "source": [
        "def get_collection_total_supply_from_stats(collection_slug):\n",
        "  url = \"https://api.opensea.io/api/v1/collection/boredapeyachtclub/stats\"\n",
        "\n",
        "  payload={}\n",
        "  headers = {\n",
        "    'x-api-key': '9ef4a36cc8064a929723d5af5a3c3531',\n",
        "    'Cookie': '__cf_bm=EVZwjesj4IUTDZ46LVzydsiYMUCio2BVM3leYwyewM8-1644475667-0-AdheWp/egmMJxedEP1mAp5s0WPmmEhj6fBlVUM+3RJRHlESFcsbJdv7f8/03C9Fp8jhEXmtEAPQgMhjFaqSrsPE='\n",
        "  }\n",
        "\n",
        "  response = requests.request(\"GET\", url, headers=headers, data=payload)\n",
        "\n",
        "  print(response.text)\n",
        "\n",
        "  total_supply = response.json()['stats']['total_supply']\n",
        "\n",
        "  collection_dict[collection_slug] = total_supply\n",
        "\n",
        "  return total_supply"
      ],
      "metadata": {
        "id": "BpN4ZDJieE3f"
      },
      "execution_count": 14,
      "outputs": []
    },
    {
      "cell_type": "code",
      "source": [
        "get_collection_total_supply_from_stats(collection_slug)"
      ],
      "metadata": {
        "colab": {
          "base_uri": "https://localhost:8080/"
        },
        "id": "E07fMVpCAsna",
        "outputId": "25c196af-12e4-4a48-ecbc-3d2360e10232"
      },
      "execution_count": 16,
      "outputs": [
        {
          "output_type": "stream",
          "name": "stdout",
          "text": [
            "{\"stats\":{\"one_day_volume\":746.98,\"one_day_change\":-0.11498406454746864,\"one_day_sales\":7.0,\"one_day_average_price\":106.71142857142857,\"seven_day_volume\":9067.900999999996,\"seven_day_change\":-0.716946086246689,\"seven_day_sales\":81.0,\"seven_day_average_price\":111.94939506172835,\"thirty_day_volume\":74552.58360000003,\"thirty_day_change\":0.2970499356223441,\"thirty_day_sales\":708.0,\"thirty_day_average_price\":105.30025932203394,\"total_volume\":389738.8434963736,\"total_sales\":24584.0,\"total_supply\":9999.0,\"count\":9999.0,\"num_owners\":6313,\"average_price\":15.853353542807257,\"num_reports\":65,\"market_cap\":1119382.0012222216,\"floor_price\":91.0}}\n"
          ]
        },
        {
          "output_type": "execute_result",
          "data": {
            "text/plain": [
              "9999.0"
            ]
          },
          "metadata": {},
          "execution_count": 16
        }
      ]
    },
    {
      "cell_type": "code",
      "source": [
        "collection_dict[collection_slug]"
      ],
      "metadata": {
        "colab": {
          "base_uri": "https://localhost:8080/"
        },
        "id": "r2_-QaBga7Bo",
        "outputId": "9a23c783-481e-4ba3-c9fc-ce889707c72e"
      },
      "execution_count": 17,
      "outputs": [
        {
          "output_type": "execute_result",
          "data": {
            "text/plain": [
              "9999.0"
            ]
          },
          "metadata": {},
          "execution_count": 17
        }
      ]
    },
    {
      "cell_type": "markdown",
      "source": [
        "# Helper Methods"
      ],
      "metadata": {
        "id": "5T0KaFgGCv5r"
      }
    },
    {
      "cell_type": "code",
      "metadata": {
        "id": "Io_t7u9WzLGx"
      },
      "source": [
        "assets_file_path = \"/content/drive/MyDrive/Datasets/FYP/bayc-nft-assets\" #Bored Ape Yacht Club\n",
        "# assets_file_path = \"/content/drive/MyDrive/Datasets/FYP/cryptokitties-nft-assets\"\n",
        "# assets_file_path = \"/content/drive/MyDrive/Datasets/FYP/collected-nft-assets\""
      ],
      "execution_count": null,
      "outputs": []
    },
    {
      "cell_type": "code",
      "source": [
        "# log_time = datetime.datetime.now().strftime(\"%Y%m%d-%H%M%S\")"
      ],
      "metadata": {
        "id": "x8U68thOp4Im"
      },
      "execution_count": null,
      "outputs": []
    },
    {
      "cell_type": "code",
      "metadata": {
        "id": "kMfRpcjeF8Ii"
      },
      "source": [
        "def parse_nft_asset_data(nft_dict):\n",
        "\n",
        "    try:\n",
        "        collection_slug = nft_dict['collection']['slug']\n",
        "        \n",
        "        #  get Collection total supply of tokens - to calculate rarity of each NFT\n",
        "        # check if the slug is available in the collection_dict first\n",
        "        try:\n",
        "          total_supply = collection_dict[collection_slug]\n",
        "        except:\n",
        "          total_supply = get_collection_total_supply_from_stats(collection_slug)\n",
        "\n",
        "    except:\n",
        "        collection_slug = None\n",
        "\n",
        "    \n",
        "    nft_id = nft_dict['token_id']\n",
        "    \n",
        "    try:\n",
        "        name = nft_dict['name']\n",
        "    except:\n",
        "        name = None\n",
        "\n",
        "    try:\n",
        "        asset_description = nft_dict['description']\n",
        "    except:\n",
        "        asset_description = None\n",
        "\n",
        "    try:\n",
        "        asset_contract_address = nft_dict['asset_contract']['address']\n",
        "    except:\n",
        "        asset_contract_address = None\n",
        "\n",
        "    try:\n",
        "        collection_name = nft_dict['collection']['name']\n",
        "    except:\n",
        "        collection_name = None\n",
        "    try:\n",
        "        collection_description = nft_dict['collection']['description']\n",
        "    except:\n",
        "        collection_description = None\n",
        "\n",
        "    try:\n",
        "        if nft_dict['collection']['safelist_request_status'] == 'verified':\n",
        "          collection_verification = True\n",
        "        else:\n",
        "          collection_verification = False\n",
        "    except:\n",
        "        collection_verification = None\n",
        "\n",
        "    try:\n",
        "        creator_username = nft_dict['creator']['user']['username']\n",
        "    except:\n",
        "        creator_username = None\n",
        "    try:\n",
        "        creator_address = nft_dict['creator']['address']\n",
        "    except:\n",
        "        creator_address = None\n",
        "    \n",
        "    try:\n",
        "        owner_username = nft_dict['owner']['user']['username']\n",
        "\n",
        "    except:\n",
        "        owner_username = None\n",
        "    \n",
        "    owner_address = nft_dict['owner']['address']\n",
        "    # if (owner_address == \"0x0000000000000000000000000000000000000000\"):\n",
        "    #   owner_address = None\n",
        "\n",
        "    \n",
        "    traits = nft_dict['traits']\n",
        "\n",
        "    traits_string = \"\"\n",
        "\n",
        "    # save total rarity in a separate column\n",
        "    total_rarity = 0\n",
        "    for trait in traits:\n",
        "      # for each trait, extract the trait_count and calculate rarity\n",
        "\n",
        "      if (total_supply) and (total_supply != 0):\n",
        "        trait_rarity = 1/ (trait['trait_count']/total_supply)\n",
        "\n",
        "        total_rarity += trait_rarity\n",
        "\n",
        "      # save all trait type and values in a ; separated string. This will have to be split into an array when loaded - for content based filtering\n",
        "      # lowercase -> remove any spaces between the words before adding into the string\n",
        "      trait_type = trait['trait_type'].lower()\n",
        "      trait_value = trait['value'].lower()\n",
        "\n",
        "      trait_string = trait_type + trait_value\n",
        "      trait_string.replace(\" \", \"\")\n",
        "      traits_string = traits_string + trait_string + \";\"    # typevalue;typevalue\n",
        "\n",
        "    num_sales = int(nft_dict['num_sales'])\n",
        "\n",
        "    # this data may be valuable for a price prediction & to identify who owned the nft before and the transacted amount - might be able to get all these from the events api itself. \n",
        "    try:\n",
        "        last_sale = nft_dict['last_sale']\n",
        "    except:\n",
        "        last_sale = None\n",
        "\n",
        "    try:\n",
        "        top_bid = nft_dict['top_bid']\n",
        "    except:\n",
        "        top_bid = None\n",
        "\n",
        "\n",
        "    # save img urls, can be used to make the UIs colourful & attractive\n",
        "    try:\n",
        "        image_url = nft_dict['image_url']\n",
        "    except:\n",
        "        image_url = None\n",
        "\n",
        "    try:\n",
        "        collection_image_url = nft_dict['collection']['image_url']\n",
        "    except:\n",
        "        collection_image_url = None\n",
        "\n",
        "    try:\n",
        "        owner_profile_img_url = nft_dict['owner']['profile_img_url']\n",
        "    except:\n",
        "        owner_profile_img_url = None\n",
        "\n",
        "    try:\n",
        "        creator_profile_img_url = nft_dict['creator']['profile_img_url']\n",
        "    except:\n",
        "        creator_profile_img_url = None\n",
        "\n",
        "    try:\n",
        "        open_sea_link = nft_dict['permalink']\n",
        "    except:\n",
        "        open_sea_link = None\n",
        "\n",
        "\n",
        "    result = {'nft_id': nft_id,\n",
        "              'name': name,\n",
        "              'asset_description': asset_description,\n",
        "              'asset_contract_address': asset_contract_address,\n",
        "              'collection_name': collection_name,\n",
        "              'collection_description': collection_description,\n",
        "              'collection_slug': collection_slug,\n",
        "              'collection_verification':collection_verification,\n",
        "              'creator_username': creator_username,\n",
        "              'creator_address': creator_address,\n",
        "              'creator_profile_img_url': creator_profile_img_url,\n",
        "              'owner_username': owner_username,\n",
        "              'owner_address': owner_address,\n",
        "              'owner_profile_img_url': owner_profile_img_url,\n",
        "              'traits_string': traits_string,\n",
        "              'total_rarity': total_rarity,\n",
        "              'num_sales': num_sales,\n",
        "              'last_sale': last_sale,\n",
        "              'top_bid': top_bid,\n",
        "              'open_sea_link': open_sea_link,\n",
        "              'image_url': image_url,\n",
        "              }\n",
        "    \n",
        "    return result\n",
        "\n",
        "\n",
        "def parse_sale_data(sale_dict):\n",
        "    \n",
        "    is_bundle = False\n",
        "\n",
        "    if sale_dict['asset'] != None:\n",
        "        nft_id = sale_dict['asset']['token_id']\n",
        "    elif sale_dict['asset_bundle'] != None:\n",
        "        nft_id = [asset['token_id'] for asset in sale_dict['asset_bundle']['assets']]\n",
        "        is_bundle = True\n",
        "    \n",
        "    \n",
        "    seller_address = sale_dict['seller']['address']\n",
        "    buyer_address = sale_dict['winner_account']['address']\n",
        "    \n",
        "    try:\n",
        "        seller_username = sale_dict['seller']['user']['username']\n",
        "    except:\n",
        "        seller_username = None    \n",
        "    try:\n",
        "        buyer_username = sale_dict['winner_account']['user']['username']\n",
        "    except:\n",
        "        buyer_username = None\n",
        "    \n",
        "    timestamp = sale_dict['transaction']['timestamp']\n",
        "    total_price = float(sale_dict['total_price'])\n",
        "    payment_token = sale_dict['payment_token']['symbol']\n",
        "    usd_price = float(sale_dict['payment_token']['usd_price'])\n",
        "    transaction_hash = sale_dict['transaction']['transaction_hash']\n",
        "    \n",
        "\n",
        "    result = {'is_bundle': is_bundle,\n",
        "              'nft_id': nft_id,\n",
        "              'seller_address': seller_address,\n",
        "              'buyer_address': buyer_address,\n",
        "              'buyer_username': buyer_username,\n",
        "              'seller_username':seller_username,\n",
        "              'timestamp': timestamp,\n",
        "              'total_price': total_price, \n",
        "              'payment_token': payment_token,\n",
        "              'usd_price': usd_price,\n",
        "              'transaction_hash': transaction_hash}\n",
        "    \n",
        "    return result"
      ],
      "execution_count": 18,
      "outputs": []
    },
    {
      "cell_type": "markdown",
      "metadata": {
        "id": "BwSBj_aiFlJ6"
      },
      "source": [
        "# Getting NFT Assets Data\n",
        "\n",
        "The source code below collects assets data about the 20,000 NFTs. The API has a limit of 50 items per call, and therefore we need to create a loop with 100 iterations to collect the required amount of NFT data."
      ]
    },
    {
      "cell_type": "markdown",
      "metadata": {
        "id": "T4KVJFFW6HLM"
      },
      "source": [
        "## **TODO: get data from popular collections that have had transactions before**\n",
        "\n",
        " - new NFTs don't have much events data to offer.\n",
        " - Both data sets will be needed to show how effective the Recommendation Model is for different scenarios."
      ]
    },
    {
      "cell_type": "markdown",
      "source": [
        "## Fetch NFT Asset Data"
      ],
      "metadata": {
        "id": "2bxDs_DHa-Sv"
      }
    },
    {
      "cell_type": "code",
      "metadata": {
        "id": "CJ6e0J5GFlJ6"
      },
      "source": [
        "def fetch_nft_asset_data():\n",
        "  url = \"https://api.opensea.io/api/v1/assets\"\n",
        "\n",
        "  for i in range(0, 1):\n",
        "      # offset= 50 * i\n",
        "\n",
        "      querystring = {\n",
        "          \"token_ids\":\"9974\",\n",
        "          \"order_direction\": \"desc\",\n",
        "          # \"offset\": offset,\n",
        "          # \"limit\": \"50\",\n",
        "          \"collection\": collection_slug\n",
        "          }\n",
        "\n",
        "      headers = {'x-api-key': \"9ef4a36cc8064a929723d5af5a3c3531\"}\n",
        "\n",
        "      response = requests.get(url, params=querystring, headers=headers)\n",
        "      \n",
        "      # print(response.json()['assets'])\n",
        "      if response.status_code != 200:\n",
        "          print('error')\n",
        "          break\n",
        "      \n",
        "      #Getting NFT data\n",
        "      nfts = response.json()['assets']\n",
        "\n",
        "      #Parsing NFT data\n",
        "      parsed_nft_assets = [parse_nft_asset_data(nft) for nft in nfts]\n",
        "\n",
        "      # convert json to pandas dataframe\n",
        "      nft_assets_df = pd.DataFrame(parsed_nft_assets)\n",
        "      return nft_assets_df\n",
        "\n",
        "\n",
        "      # save dataframe to csv & save csv to Google Drive\n",
        "      # nft_assets_df.to_csv(assets_file_path, mode='a', sep='\\t', index=False, header=(not os.path.exists(assets_file_path)), encoding='utf-8')\n",
        "\n",
        "      # save dataframe to json and save json to Google Drive\n",
        "      #  - difficult to append. Need to read all existing data and then append\n",
        "      # nft_assets_df.to_json(assets_file_path, index=False, header=(not os.path.exists(assets_file_path)), encoding='utf-8')\n",
        "\n",
        "      # save dataframe to MongoDB\n"
      ],
      "execution_count": 22,
      "outputs": []
    },
    {
      "cell_type": "code",
      "source": [
        "nft_assets_df = fetch_nft_asset_data()\n",
        "\n",
        "nft_assets_df.head()"
      ],
      "metadata": {
        "colab": {
          "base_uri": "https://localhost:8080/",
          "height": 214
        },
        "id": "2QKPXcwwLw9o",
        "outputId": "fc705a6f-490e-4b09-c010-14322677f798"
      },
      "execution_count": 24,
      "outputs": [
        {
          "output_type": "execute_result",
          "data": {
            "text/html": [
              "\n",
              "  <div id=\"df-64b378d1-3e9d-4bcd-8831-64cf3b0d6773\">\n",
              "    <div class=\"colab-df-container\">\n",
              "      <div>\n",
              "<style scoped>\n",
              "    .dataframe tbody tr th:only-of-type {\n",
              "        vertical-align: middle;\n",
              "    }\n",
              "\n",
              "    .dataframe tbody tr th {\n",
              "        vertical-align: top;\n",
              "    }\n",
              "\n",
              "    .dataframe thead th {\n",
              "        text-align: right;\n",
              "    }\n",
              "</style>\n",
              "<table border=\"1\" class=\"dataframe\">\n",
              "  <thead>\n",
              "    <tr style=\"text-align: right;\">\n",
              "      <th></th>\n",
              "      <th>nft_id</th>\n",
              "      <th>name</th>\n",
              "      <th>asset_description</th>\n",
              "      <th>asset_contract_address</th>\n",
              "      <th>collection_name</th>\n",
              "      <th>collection_description</th>\n",
              "      <th>collection_slug</th>\n",
              "      <th>collection_verification</th>\n",
              "      <th>creator_username</th>\n",
              "      <th>creator_address</th>\n",
              "      <th>creator_profile_img_url</th>\n",
              "      <th>owner_username</th>\n",
              "      <th>owner_address</th>\n",
              "      <th>owner_profile_img_url</th>\n",
              "      <th>traits_string</th>\n",
              "      <th>total_rarity</th>\n",
              "      <th>num_sales</th>\n",
              "      <th>last_sale</th>\n",
              "      <th>top_bid</th>\n",
              "      <th>open_sea_link</th>\n",
              "      <th>image_url</th>\n",
              "    </tr>\n",
              "  </thead>\n",
              "  <tbody>\n",
              "    <tr>\n",
              "      <th>0</th>\n",
              "      <td>9974</td>\n",
              "      <td>None</td>\n",
              "      <td>None</td>\n",
              "      <td>0xbc4ca0eda7647a8ab7c2061c2e118a18a936f13d</td>\n",
              "      <td>Bored Ape Yacht Club</td>\n",
              "      <td>The Bored Ape Yacht Club is a collection of 10...</td>\n",
              "      <td>boredapeyachtclub</td>\n",
              "      <td>True</td>\n",
              "      <td>BoredApeYachtClub</td>\n",
              "      <td>0xaba7161a7fb69c88e16ed9f455ce62b791ee4d03</td>\n",
              "      <td>https://storage.googleapis.com/opensea-static/...</td>\n",
              "      <td>mo31985</td>\n",
              "      <td>0x994cf01f34c51426bcb12bd30ff7079e280e1140</td>\n",
              "      <td>https://storage.googleapis.com/opensea-static/...</td>\n",
              "      <td>;earringsilver hoop;backgroundaquamarine;furda...</td>\n",
              "      <td>204.031386</td>\n",
              "      <td>2</td>\n",
              "      <td>{'asset': {'decimals': 0, 'token_id': '9974'},...</td>\n",
              "      <td>None</td>\n",
              "      <td>https://opensea.io/assets/0xbc4ca0eda7647a8ab7...</td>\n",
              "      <td>https://lh3.googleusercontent.com/G60LFd7Xhb4-...</td>\n",
              "    </tr>\n",
              "  </tbody>\n",
              "</table>\n",
              "</div>\n",
              "      <button class=\"colab-df-convert\" onclick=\"convertToInteractive('df-64b378d1-3e9d-4bcd-8831-64cf3b0d6773')\"\n",
              "              title=\"Convert this dataframe to an interactive table.\"\n",
              "              style=\"display:none;\">\n",
              "        \n",
              "  <svg xmlns=\"http://www.w3.org/2000/svg\" height=\"24px\"viewBox=\"0 0 24 24\"\n",
              "       width=\"24px\">\n",
              "    <path d=\"M0 0h24v24H0V0z\" fill=\"none\"/>\n",
              "    <path d=\"M18.56 5.44l.94 2.06.94-2.06 2.06-.94-2.06-.94-.94-2.06-.94 2.06-2.06.94zm-11 1L8.5 8.5l.94-2.06 2.06-.94-2.06-.94L8.5 2.5l-.94 2.06-2.06.94zm10 10l.94 2.06.94-2.06 2.06-.94-2.06-.94-.94-2.06-.94 2.06-2.06.94z\"/><path d=\"M17.41 7.96l-1.37-1.37c-.4-.4-.92-.59-1.43-.59-.52 0-1.04.2-1.43.59L10.3 9.45l-7.72 7.72c-.78.78-.78 2.05 0 2.83L4 21.41c.39.39.9.59 1.41.59.51 0 1.02-.2 1.41-.59l7.78-7.78 2.81-2.81c.8-.78.8-2.07 0-2.86zM5.41 20L4 18.59l7.72-7.72 1.47 1.35L5.41 20z\"/>\n",
              "  </svg>\n",
              "      </button>\n",
              "      \n",
              "  <style>\n",
              "    .colab-df-container {\n",
              "      display:flex;\n",
              "      flex-wrap:wrap;\n",
              "      gap: 12px;\n",
              "    }\n",
              "\n",
              "    .colab-df-convert {\n",
              "      background-color: #E8F0FE;\n",
              "      border: none;\n",
              "      border-radius: 50%;\n",
              "      cursor: pointer;\n",
              "      display: none;\n",
              "      fill: #1967D2;\n",
              "      height: 32px;\n",
              "      padding: 0 0 0 0;\n",
              "      width: 32px;\n",
              "    }\n",
              "\n",
              "    .colab-df-convert:hover {\n",
              "      background-color: #E2EBFA;\n",
              "      box-shadow: 0px 1px 2px rgba(60, 64, 67, 0.3), 0px 1px 3px 1px rgba(60, 64, 67, 0.15);\n",
              "      fill: #174EA6;\n",
              "    }\n",
              "\n",
              "    [theme=dark] .colab-df-convert {\n",
              "      background-color: #3B4455;\n",
              "      fill: #D2E3FC;\n",
              "    }\n",
              "\n",
              "    [theme=dark] .colab-df-convert:hover {\n",
              "      background-color: #434B5C;\n",
              "      box-shadow: 0px 1px 3px 1px rgba(0, 0, 0, 0.15);\n",
              "      filter: drop-shadow(0px 1px 2px rgba(0, 0, 0, 0.3));\n",
              "      fill: #FFFFFF;\n",
              "    }\n",
              "  </style>\n",
              "\n",
              "      <script>\n",
              "        const buttonEl =\n",
              "          document.querySelector('#df-64b378d1-3e9d-4bcd-8831-64cf3b0d6773 button.colab-df-convert');\n",
              "        buttonEl.style.display =\n",
              "          google.colab.kernel.accessAllowed ? 'block' : 'none';\n",
              "\n",
              "        async function convertToInteractive(key) {\n",
              "          const element = document.querySelector('#df-64b378d1-3e9d-4bcd-8831-64cf3b0d6773');\n",
              "          const dataTable =\n",
              "            await google.colab.kernel.invokeFunction('convertToInteractive',\n",
              "                                                     [key], {});\n",
              "          if (!dataTable) return;\n",
              "\n",
              "          const docLinkHtml = 'Like what you see? Visit the ' +\n",
              "            '<a target=\"_blank\" href=https://colab.research.google.com/notebooks/data_table.ipynb>data table notebook</a>'\n",
              "            + ' to learn more about interactive tables.';\n",
              "          element.innerHTML = '';\n",
              "          dataTable['output_type'] = 'display_data';\n",
              "          await google.colab.output.renderOutput(dataTable, element);\n",
              "          const docLink = document.createElement('div');\n",
              "          docLink.innerHTML = docLinkHtml;\n",
              "          element.appendChild(docLink);\n",
              "        }\n",
              "      </script>\n",
              "    </div>\n",
              "  </div>\n",
              "  "
            ],
            "text/plain": [
              "  nft_id  ...                                          image_url\n",
              "0   9974  ...  https://lh3.googleusercontent.com/G60LFd7Xhb4-...\n",
              "\n",
              "[1 rows x 21 columns]"
            ]
          },
          "metadata": {},
          "execution_count": 24
        }
      ]
    },
    {
      "cell_type": "markdown",
      "metadata": {
        "id": "Jr7b5hoysAe2"
      },
      "source": [
        "## Read CSV - check collected NFT data"
      ]
    },
    {
      "cell_type": "code",
      "metadata": {
        "id": "_1SfWLU9r_64",
        "colab": {
          "base_uri": "https://localhost:8080/"
        },
        "outputId": "7f6ffa0e-03c3-41ec-e723-8d06bd89da35"
      },
      "source": [
        "nft_assets_df = pd.read_csv(assets_file_path, sep='\\t')\n",
        "\n",
        "nft_assets_df.info()"
      ],
      "execution_count": null,
      "outputs": [
        {
          "output_type": "stream",
          "name": "stdout",
          "text": [
            "<class 'pandas.core.frame.DataFrame'>\n",
            "RangeIndex: 10000 entries, 0 to 9999\n",
            "Data columns (total 19 columns):\n",
            " #   Column                   Non-Null Count  Dtype  \n",
            "---  ------                   --------------  -----  \n",
            " 0   nft_id                   10000 non-null  int64  \n",
            " 1   name                     0 non-null      float64\n",
            " 2   asset_description        0 non-null      float64\n",
            " 3   asset_contract_address   10000 non-null  object \n",
            " 4   collection_name          10000 non-null  object \n",
            " 5   collection_description   10000 non-null  object \n",
            " 6   collection_slug          10000 non-null  object \n",
            " 7   collection_verification  10000 non-null  bool   \n",
            " 8   creator_username         10000 non-null  object \n",
            " 9   creator_address          10000 non-null  object \n",
            " 10  creator_profile_img_url  10000 non-null  object \n",
            " 11  owner_username           7125 non-null   object \n",
            " 12  owner_address            10000 non-null  object \n",
            " 13  owner_profile_img_url    10000 non-null  object \n",
            " 14  traits                   10000 non-null  object \n",
            " 15  num_sales                10000 non-null  int64  \n",
            " 16  last_sale                8516 non-null   object \n",
            " 17  top_bid                  0 non-null      float64\n",
            " 18  image_url                10000 non-null  object \n",
            "dtypes: bool(1), float64(3), int64(2), object(13)\n",
            "memory usage: 1.4+ MB\n"
          ]
        }
      ]
    },
    {
      "cell_type": "code",
      "source": [
        "# remove duplicated NFTs from df\n",
        "\n",
        "# nft_assets_df.duplicated(subset=['nft_id']).sum()\n",
        "\n",
        "# nft_assets_df.loc[nft_assets_df.duplicated(), :]\n",
        "\n",
        "# nft_assets_df=nft_assets_df.drop_duplicates(subset=['nft_id'], keep=\"first\")"
      ],
      "metadata": {
        "id": "WAf4gQpgjtb_"
      },
      "execution_count": null,
      "outputs": []
    },
    {
      "cell_type": "markdown",
      "source": [
        "# Analyze NFT Assets Data"
      ],
      "metadata": {
        "id": "J6npelfft3Oo"
      }
    },
    {
      "cell_type": "code",
      "source": [
        "# number of unique names\n",
        "len(nft_assets_df['traits'].unique())\n",
        "\n",
        "# nft_assets_df['traits'][3]\n",
        "# nft_assets_df['traits'][0]"
      ],
      "metadata": {
        "colab": {
          "base_uri": "https://localhost:8080/"
        },
        "id": "B0qRRp8ibNKT",
        "outputId": "6f37b185-9759-4ac4-944c-671f365ec765"
      },
      "execution_count": null,
      "outputs": [
        {
          "output_type": "execute_result",
          "data": {
            "text/plain": [
              "10000"
            ]
          },
          "metadata": {},
          "execution_count": 8
        }
      ]
    },
    {
      "cell_type": "markdown",
      "source": [
        "Inspect data columns with no values"
      ],
      "metadata": {
        "id": "9TyGUUHon8S1"
      }
    },
    {
      "cell_type": "code",
      "source": [
        "data = nft_assets_df\n",
        "\n",
        "data_null = data.isna().sum()\n",
        "plt.figure(figsize=(8,8))\n",
        "data_null[data_null!=0].plot(kind='barh');"
      ],
      "metadata": {
        "colab": {
          "base_uri": "https://localhost:8080/",
          "height": 483
        },
        "id": "hQapg6wynpUv",
        "outputId": "27435b9c-d6fa-4e74-8f56-bd4a9550a368"
      },
      "execution_count": null,
      "outputs": [
        {
          "output_type": "display_data",
          "data": {
            "image/png": "[encoded data removed]",
            "text/plain": [
              "<Figure size 576x576 with 1 Axes>"
            ]
          },
          "metadata": {
            "needs_background": "light"
          }
        }
      ]
    },
    {
      "cell_type": "code",
      "source": [
        "print(nft_assets_df.shape)"
      ],
      "metadata": {
        "colab": {
          "base_uri": "https://localhost:8080/"
        },
        "id": "SDnfSYayhwpb",
        "outputId": "6e407de5-2d5d-41a3-9ce9-eb0dbc8c019f"
      },
      "execution_count": null,
      "outputs": [
        {
          "output_type": "stream",
          "name": "stdout",
          "text": [
            "(10000, 19)\n"
          ]
        }
      ]
    },
    {
      "cell_type": "code",
      "source": [
        "nft_assets_df.head()"
      ],
      "metadata": {
        "colab": {
          "base_uri": "https://localhost:8080/",
          "height": 617
        },
        "id": "mU5SYBkjsocc",
        "outputId": "1d81b285-a264-4b68-8dd8-a949c1ffab06"
      },
      "execution_count": null,
      "outputs": [
        {
          "output_type": "execute_result",
          "data": {
            "text/html": [
              "\n",
              "  <div id=\"df-048abf3c-100c-403d-8ac3-21eec02b2a07\">\n",
              "    <div class=\"colab-df-container\">\n",
              "      <div>\n",
              "<style scoped>\n",
              "    .dataframe tbody tr th:only-of-type {\n",
              "        vertical-align: middle;\n",
              "    }\n",
              "\n",
              "    .dataframe tbody tr th {\n",
              "        vertical-align: top;\n",
              "    }\n",
              "\n",
              "    .dataframe thead th {\n",
              "        text-align: right;\n",
              "    }\n",
              "</style>\n",
              "<table border=\"1\" class=\"dataframe\">\n",
              "  <thead>\n",
              "    <tr style=\"text-align: right;\">\n",
              "      <th></th>\n",
              "      <th>nft_id</th>\n",
              "      <th>name</th>\n",
              "      <th>asset_description</th>\n",
              "      <th>asset_contract_address</th>\n",
              "      <th>collection_name</th>\n",
              "      <th>collection_description</th>\n",
              "      <th>collection_slug</th>\n",
              "      <th>collection_verification</th>\n",
              "      <th>creator_username</th>\n",
              "      <th>creator_address</th>\n",
              "      <th>creator_profile_img_url</th>\n",
              "      <th>owner_username</th>\n",
              "      <th>owner_address</th>\n",
              "      <th>owner_profile_img_url</th>\n",
              "      <th>traits</th>\n",
              "      <th>num_sales</th>\n",
              "      <th>last_sale</th>\n",
              "      <th>top_bid</th>\n",
              "      <th>image_url</th>\n",
              "    </tr>\n",
              "  </thead>\n",
              "  <tbody>\n",
              "    <tr>\n",
              "      <th>0</th>\n",
              "      <td>9974</td>\n",
              "      <td>NaN</td>\n",
              "      <td>NaN</td>\n",
              "      <td>0xbc4ca0eda7647a8ab7c2061c2e118a18a936f13d</td>\n",
              "      <td>Bored Ape Yacht Club</td>\n",
              "      <td>The Bored Ape Yacht Club is a collection of 10...</td>\n",
              "      <td>boredapeyachtclub</td>\n",
              "      <td>True</td>\n",
              "      <td>BoredApeYachtClub</td>\n",
              "      <td>0xaba7161a7fb69c88e16ed9f455ce62b791ee4d03</td>\n",
              "      <td>https://storage.googleapis.com/opensea-static/...</td>\n",
              "      <td>mo31985</td>\n",
              "      <td>0x994cf01f34c51426bcb12bd30ff7079e280e1140</td>\n",
              "      <td>https://storage.googleapis.com/opensea-static/...</td>\n",
              "      <td>[{'trait_type': 'Eyes', 'value': 'Eyepatch', '...</td>\n",
              "      <td>2</td>\n",
              "      <td>{'asset': {'token_id': '9974', 'decimals': 0},...</td>\n",
              "      <td>NaN</td>\n",
              "      <td>https://lh3.googleusercontent.com/G60LFd7Xhb4-...</td>\n",
              "    </tr>\n",
              "    <tr>\n",
              "      <th>1</th>\n",
              "      <td>9973</td>\n",
              "      <td>NaN</td>\n",
              "      <td>NaN</td>\n",
              "      <td>0xbc4ca0eda7647a8ab7c2061c2e118a18a936f13d</td>\n",
              "      <td>Bored Ape Yacht Club</td>\n",
              "      <td>The Bored Ape Yacht Club is a collection of 10...</td>\n",
              "      <td>boredapeyachtclub</td>\n",
              "      <td>True</td>\n",
              "      <td>BoredApeYachtClub</td>\n",
              "      <td>0xaba7161a7fb69c88e16ed9f455ce62b791ee4d03</td>\n",
              "      <td>https://storage.googleapis.com/opensea-static/...</td>\n",
              "      <td>accubed</td>\n",
              "      <td>0x6e0c6bf243232bcfef85a88eb61062626ffc1e2a</td>\n",
              "      <td>https://storage.googleapis.com/opensea-static/...</td>\n",
              "      <td>[{'trait_type': 'Fur', 'value': 'Dmt', 'displa...</td>\n",
              "      <td>1</td>\n",
              "      <td>{'asset': {'token_id': '9973', 'decimals': 0},...</td>\n",
              "      <td>NaN</td>\n",
              "      <td>https://lh3.googleusercontent.com/-4Pz6B1FkH8k...</td>\n",
              "    </tr>\n",
              "    <tr>\n",
              "      <th>2</th>\n",
              "      <td>9949</td>\n",
              "      <td>NaN</td>\n",
              "      <td>NaN</td>\n",
              "      <td>0xbc4ca0eda7647a8ab7c2061c2e118a18a936f13d</td>\n",
              "      <td>Bored Ape Yacht Club</td>\n",
              "      <td>The Bored Ape Yacht Club is a collection of 10...</td>\n",
              "      <td>boredapeyachtclub</td>\n",
              "      <td>True</td>\n",
              "      <td>BoredApeYachtClub</td>\n",
              "      <td>0xaba7161a7fb69c88e16ed9f455ce62b791ee4d03</td>\n",
              "      <td>https://storage.googleapis.com/opensea-static/...</td>\n",
              "      <td>NaN</td>\n",
              "      <td>0xd3b38f645ac56e0b8ab7b6071a1cfc12a6e8c05d</td>\n",
              "      <td>https://storage.googleapis.com/opensea-static/...</td>\n",
              "      <td>[{'trait_type': 'Mouth', 'value': 'Grin Gold G...</td>\n",
              "      <td>7</td>\n",
              "      <td>{'asset': {'token_id': '9949', 'decimals': 0},...</td>\n",
              "      <td>NaN</td>\n",
              "      <td>https://lh3.googleusercontent.com/RcXAgekWgaH5...</td>\n",
              "    </tr>\n",
              "    <tr>\n",
              "      <th>3</th>\n",
              "      <td>9972</td>\n",
              "      <td>NaN</td>\n",
              "      <td>NaN</td>\n",
              "      <td>0xbc4ca0eda7647a8ab7c2061c2e118a18a936f13d</td>\n",
              "      <td>Bored Ape Yacht Club</td>\n",
              "      <td>The Bored Ape Yacht Club is a collection of 10...</td>\n",
              "      <td>boredapeyachtclub</td>\n",
              "      <td>True</td>\n",
              "      <td>BoredApeYachtClub</td>\n",
              "      <td>0xaba7161a7fb69c88e16ed9f455ce62b791ee4d03</td>\n",
              "      <td>https://storage.googleapis.com/opensea-static/...</td>\n",
              "      <td>ARC001</td>\n",
              "      <td>0x0b31cc882a2b3937257ccf785b04b7c8f931207b</td>\n",
              "      <td>https://storage.googleapis.com/opensea-static/...</td>\n",
              "      <td>[{'trait_type': 'Eyes', 'value': 'Hypnotized',...</td>\n",
              "      <td>1</td>\n",
              "      <td>{'asset': {'token_id': '9972', 'decimals': 0},...</td>\n",
              "      <td>NaN</td>\n",
              "      <td>https://lh3.googleusercontent.com/vcL_TRKR8FRq...</td>\n",
              "    </tr>\n",
              "    <tr>\n",
              "      <th>4</th>\n",
              "      <td>9948</td>\n",
              "      <td>NaN</td>\n",
              "      <td>NaN</td>\n",
              "      <td>0xbc4ca0eda7647a8ab7c2061c2e118a18a936f13d</td>\n",
              "      <td>Bored Ape Yacht Club</td>\n",
              "      <td>The Bored Ape Yacht Club is a collection of 10...</td>\n",
              "      <td>boredapeyachtclub</td>\n",
              "      <td>True</td>\n",
              "      <td>BoredApeYachtClub</td>\n",
              "      <td>0xaba7161a7fb69c88e16ed9f455ce62b791ee4d03</td>\n",
              "      <td>https://storage.googleapis.com/opensea-static/...</td>\n",
              "      <td>MAJE</td>\n",
              "      <td>0xecba5f51925e6ccec26da38dcd7d5305f6bdfbcb</td>\n",
              "      <td>https://storage.googleapis.com/opensea-static/...</td>\n",
              "      <td>[{'trait_type': 'Hat', 'value': \"Trippy Captai...</td>\n",
              "      <td>2</td>\n",
              "      <td>{'asset': {'token_id': '9948', 'decimals': 0},...</td>\n",
              "      <td>NaN</td>\n",
              "      <td>https://lh3.googleusercontent.com/jMsgIXhlR0Xe...</td>\n",
              "    </tr>\n",
              "  </tbody>\n",
              "</table>\n",
              "</div>\n",
              "      <button class=\"colab-df-convert\" onclick=\"convertToInteractive('df-048abf3c-100c-403d-8ac3-21eec02b2a07')\"\n",
              "              title=\"Convert this dataframe to an interactive table.\"\n",
              "              style=\"display:none;\">\n",
              "        \n",
              "  <svg xmlns=\"http://www.w3.org/2000/svg\" height=\"24px\"viewBox=\"0 0 24 24\"\n",
              "       width=\"24px\">\n",
              "    <path d=\"M0 0h24v24H0V0z\" fill=\"none\"/>\n",
              "    <path d=\"M18.56 5.44l.94 2.06.94-2.06 2.06-.94-2.06-.94-.94-2.06-.94 2.06-2.06.94zm-11 1L8.5 8.5l.94-2.06 2.06-.94-2.06-.94L8.5 2.5l-.94 2.06-2.06.94zm10 10l.94 2.06.94-2.06 2.06-.94-2.06-.94-.94-2.06-.94 2.06-2.06.94z\"/><path d=\"M17.41 7.96l-1.37-1.37c-.4-.4-.92-.59-1.43-.59-.52 0-1.04.2-1.43.59L10.3 9.45l-7.72 7.72c-.78.78-.78 2.05 0 2.83L4 21.41c.39.39.9.59 1.41.59.51 0 1.02-.2 1.41-.59l7.78-7.78 2.81-2.81c.8-.78.8-2.07 0-2.86zM5.41 20L4 18.59l7.72-7.72 1.47 1.35L5.41 20z\"/>\n",
              "  </svg>\n",
              "      </button>\n",
              "      \n",
              "  <style>\n",
              "    .colab-df-container {\n",
              "      display:flex;\n",
              "      flex-wrap:wrap;\n",
              "      gap: 12px;\n",
              "    }\n",
              "\n",
              "    .colab-df-convert {\n",
              "      background-color: #E8F0FE;\n",
              "      border: none;\n",
              "      border-radius: 50%;\n",
              "      cursor: pointer;\n",
              "      display: none;\n",
              "      fill: #1967D2;\n",
              "      height: 32px;\n",
              "      padding: 0 0 0 0;\n",
              "      width: 32px;\n",
              "    }\n",
              "\n",
              "    .colab-df-convert:hover {\n",
              "      background-color: #E2EBFA;\n",
              "      box-shadow: 0px 1px 2px rgba(60, 64, 67, 0.3), 0px 1px 3px 1px rgba(60, 64, 67, 0.15);\n",
              "      fill: #174EA6;\n",
              "    }\n",
              "\n",
              "    [theme=dark] .colab-df-convert {\n",
              "      background-color: #3B4455;\n",
              "      fill: #D2E3FC;\n",
              "    }\n",
              "\n",
              "    [theme=dark] .colab-df-convert:hover {\n",
              "      background-color: #434B5C;\n",
              "      box-shadow: 0px 1px 3px 1px rgba(0, 0, 0, 0.15);\n",
              "      filter: drop-shadow(0px 1px 2px rgba(0, 0, 0, 0.3));\n",
              "      fill: #FFFFFF;\n",
              "    }\n",
              "  </style>\n",
              "\n",
              "      <script>\n",
              "        const buttonEl =\n",
              "          document.querySelector('#df-048abf3c-100c-403d-8ac3-21eec02b2a07 button.colab-df-convert');\n",
              "        buttonEl.style.display =\n",
              "          google.colab.kernel.accessAllowed ? 'block' : 'none';\n",
              "\n",
              "        async function convertToInteractive(key) {\n",
              "          const element = document.querySelector('#df-048abf3c-100c-403d-8ac3-21eec02b2a07');\n",
              "          const dataTable =\n",
              "            await google.colab.kernel.invokeFunction('convertToInteractive',\n",
              "                                                     [key], {});\n",
              "          if (!dataTable) return;\n",
              "\n",
              "          const docLinkHtml = 'Like what you see? Visit the ' +\n",
              "            '<a target=\"_blank\" href=https://colab.research.google.com/notebooks/data_table.ipynb>data table notebook</a>'\n",
              "            + ' to learn more about interactive tables.';\n",
              "          element.innerHTML = '';\n",
              "          dataTable['output_type'] = 'display_data';\n",
              "          await google.colab.output.renderOutput(dataTable, element);\n",
              "          const docLink = document.createElement('div');\n",
              "          docLink.innerHTML = docLinkHtml;\n",
              "          element.appendChild(docLink);\n",
              "        }\n",
              "      </script>\n",
              "    </div>\n",
              "  </div>\n",
              "  "
            ],
            "text/plain": [
              "   nft_id  name  ...  top_bid                                          image_url\n",
              "0    9974   NaN  ...      NaN  https://lh3.googleusercontent.com/G60LFd7Xhb4-...\n",
              "1    9973   NaN  ...      NaN  https://lh3.googleusercontent.com/-4Pz6B1FkH8k...\n",
              "2    9949   NaN  ...      NaN  https://lh3.googleusercontent.com/RcXAgekWgaH5...\n",
              "3    9972   NaN  ...      NaN  https://lh3.googleusercontent.com/vcL_TRKR8FRq...\n",
              "4    9948   NaN  ...      NaN  https://lh3.googleusercontent.com/jMsgIXhlR0Xe...\n",
              "\n",
              "[5 rows x 19 columns]"
            ]
          },
          "metadata": {},
          "execution_count": 57
        }
      ]
    },
    {
      "cell_type": "code",
      "source": [
        "data.describe(percentiles=[0.1,0.25,0.5,0.75,0.9])"
      ],
      "metadata": {
        "colab": {
          "base_uri": "https://localhost:8080/",
          "height": 363
        },
        "id": "y785-MOMuzQ1",
        "outputId": "3fb147e6-7197-41bd-a323-94cc7190aff7"
      },
      "execution_count": null,
      "outputs": [
        {
          "output_type": "execute_result",
          "data": {
            "text/html": [
              "\n",
              "  <div id=\"df-42f8debc-8d8f-434a-97c0-8e8544b26ced\">\n",
              "    <div class=\"colab-df-container\">\n",
              "      <div>\n",
              "<style scoped>\n",
              "    .dataframe tbody tr th:only-of-type {\n",
              "        vertical-align: middle;\n",
              "    }\n",
              "\n",
              "    .dataframe tbody tr th {\n",
              "        vertical-align: top;\n",
              "    }\n",
              "\n",
              "    .dataframe thead th {\n",
              "        text-align: right;\n",
              "    }\n",
              "</style>\n",
              "<table border=\"1\" class=\"dataframe\">\n",
              "  <thead>\n",
              "    <tr style=\"text-align: right;\">\n",
              "      <th></th>\n",
              "      <th>nft_id</th>\n",
              "      <th>name</th>\n",
              "      <th>asset_description</th>\n",
              "      <th>num_sales</th>\n",
              "      <th>top_bid</th>\n",
              "    </tr>\n",
              "  </thead>\n",
              "  <tbody>\n",
              "    <tr>\n",
              "      <th>count</th>\n",
              "      <td>10000.00000</td>\n",
              "      <td>0.0</td>\n",
              "      <td>0.0</td>\n",
              "      <td>10000.000000</td>\n",
              "      <td>0.0</td>\n",
              "    </tr>\n",
              "    <tr>\n",
              "      <th>mean</th>\n",
              "      <td>4999.50000</td>\n",
              "      <td>NaN</td>\n",
              "      <td>NaN</td>\n",
              "      <td>2.442800</td>\n",
              "      <td>NaN</td>\n",
              "    </tr>\n",
              "    <tr>\n",
              "      <th>std</th>\n",
              "      <td>2886.89568</td>\n",
              "      <td>NaN</td>\n",
              "      <td>NaN</td>\n",
              "      <td>2.039349</td>\n",
              "      <td>NaN</td>\n",
              "    </tr>\n",
              "    <tr>\n",
              "      <th>min</th>\n",
              "      <td>0.00000</td>\n",
              "      <td>NaN</td>\n",
              "      <td>NaN</td>\n",
              "      <td>0.000000</td>\n",
              "      <td>NaN</td>\n",
              "    </tr>\n",
              "    <tr>\n",
              "      <th>10%</th>\n",
              "      <td>999.90000</td>\n",
              "      <td>NaN</td>\n",
              "      <td>NaN</td>\n",
              "      <td>0.000000</td>\n",
              "      <td>NaN</td>\n",
              "    </tr>\n",
              "    <tr>\n",
              "      <th>25%</th>\n",
              "      <td>2499.75000</td>\n",
              "      <td>NaN</td>\n",
              "      <td>NaN</td>\n",
              "      <td>1.000000</td>\n",
              "      <td>NaN</td>\n",
              "    </tr>\n",
              "    <tr>\n",
              "      <th>50%</th>\n",
              "      <td>4999.50000</td>\n",
              "      <td>NaN</td>\n",
              "      <td>NaN</td>\n",
              "      <td>2.000000</td>\n",
              "      <td>NaN</td>\n",
              "    </tr>\n",
              "    <tr>\n",
              "      <th>75%</th>\n",
              "      <td>7499.25000</td>\n",
              "      <td>NaN</td>\n",
              "      <td>NaN</td>\n",
              "      <td>3.000000</td>\n",
              "      <td>NaN</td>\n",
              "    </tr>\n",
              "    <tr>\n",
              "      <th>90%</th>\n",
              "      <td>8999.10000</td>\n",
              "      <td>NaN</td>\n",
              "      <td>NaN</td>\n",
              "      <td>5.000000</td>\n",
              "      <td>NaN</td>\n",
              "    </tr>\n",
              "    <tr>\n",
              "      <th>max</th>\n",
              "      <td>9999.00000</td>\n",
              "      <td>NaN</td>\n",
              "      <td>NaN</td>\n",
              "      <td>15.000000</td>\n",
              "      <td>NaN</td>\n",
              "    </tr>\n",
              "  </tbody>\n",
              "</table>\n",
              "</div>\n",
              "      <button class=\"colab-df-convert\" onclick=\"convertToInteractive('df-42f8debc-8d8f-434a-97c0-8e8544b26ced')\"\n",
              "              title=\"Convert this dataframe to an interactive table.\"\n",
              "              style=\"display:none;\">\n",
              "        \n",
              "  <svg xmlns=\"http://www.w3.org/2000/svg\" height=\"24px\"viewBox=\"0 0 24 24\"\n",
              "       width=\"24px\">\n",
              "    <path d=\"M0 0h24v24H0V0z\" fill=\"none\"/>\n",
              "    <path d=\"M18.56 5.44l.94 2.06.94-2.06 2.06-.94-2.06-.94-.94-2.06-.94 2.06-2.06.94zm-11 1L8.5 8.5l.94-2.06 2.06-.94-2.06-.94L8.5 2.5l-.94 2.06-2.06.94zm10 10l.94 2.06.94-2.06 2.06-.94-2.06-.94-.94-2.06-.94 2.06-2.06.94z\"/><path d=\"M17.41 7.96l-1.37-1.37c-.4-.4-.92-.59-1.43-.59-.52 0-1.04.2-1.43.59L10.3 9.45l-7.72 7.72c-.78.78-.78 2.05 0 2.83L4 21.41c.39.39.9.59 1.41.59.51 0 1.02-.2 1.41-.59l7.78-7.78 2.81-2.81c.8-.78.8-2.07 0-2.86zM5.41 20L4 18.59l7.72-7.72 1.47 1.35L5.41 20z\"/>\n",
              "  </svg>\n",
              "      </button>\n",
              "      \n",
              "  <style>\n",
              "    .colab-df-container {\n",
              "      display:flex;\n",
              "      flex-wrap:wrap;\n",
              "      gap: 12px;\n",
              "    }\n",
              "\n",
              "    .colab-df-convert {\n",
              "      background-color: #E8F0FE;\n",
              "      border: none;\n",
              "      border-radius: 50%;\n",
              "      cursor: pointer;\n",
              "      display: none;\n",
              "      fill: #1967D2;\n",
              "      height: 32px;\n",
              "      padding: 0 0 0 0;\n",
              "      width: 32px;\n",
              "    }\n",
              "\n",
              "    .colab-df-convert:hover {\n",
              "      background-color: #E2EBFA;\n",
              "      box-shadow: 0px 1px 2px rgba(60, 64, 67, 0.3), 0px 1px 3px 1px rgba(60, 64, 67, 0.15);\n",
              "      fill: #174EA6;\n",
              "    }\n",
              "\n",
              "    [theme=dark] .colab-df-convert {\n",
              "      background-color: #3B4455;\n",
              "      fill: #D2E3FC;\n",
              "    }\n",
              "\n",
              "    [theme=dark] .colab-df-convert:hover {\n",
              "      background-color: #434B5C;\n",
              "      box-shadow: 0px 1px 3px 1px rgba(0, 0, 0, 0.15);\n",
              "      filter: drop-shadow(0px 1px 2px rgba(0, 0, 0, 0.3));\n",
              "      fill: #FFFFFF;\n",
              "    }\n",
              "  </style>\n",
              "\n",
              "      <script>\n",
              "        const buttonEl =\n",
              "          document.querySelector('#df-42f8debc-8d8f-434a-97c0-8e8544b26ced button.colab-df-convert');\n",
              "        buttonEl.style.display =\n",
              "          google.colab.kernel.accessAllowed ? 'block' : 'none';\n",
              "\n",
              "        async function convertToInteractive(key) {\n",
              "          const element = document.querySelector('#df-42f8debc-8d8f-434a-97c0-8e8544b26ced');\n",
              "          const dataTable =\n",
              "            await google.colab.kernel.invokeFunction('convertToInteractive',\n",
              "                                                     [key], {});\n",
              "          if (!dataTable) return;\n",
              "\n",
              "          const docLinkHtml = 'Like what you see? Visit the ' +\n",
              "            '<a target=\"_blank\" href=https://colab.research.google.com/notebooks/data_table.ipynb>data table notebook</a>'\n",
              "            + ' to learn more about interactive tables.';\n",
              "          element.innerHTML = '';\n",
              "          dataTable['output_type'] = 'display_data';\n",
              "          await google.colab.output.renderOutput(dataTable, element);\n",
              "          const docLink = document.createElement('div');\n",
              "          docLink.innerHTML = docLinkHtml;\n",
              "          element.appendChild(docLink);\n",
              "        }\n",
              "      </script>\n",
              "    </div>\n",
              "  </div>\n",
              "  "
            ],
            "text/plain": [
              "            nft_id  name  asset_description     num_sales  top_bid\n",
              "count  10000.00000   0.0                0.0  10000.000000      0.0\n",
              "mean    4999.50000   NaN                NaN      2.442800      NaN\n",
              "std     2886.89568   NaN                NaN      2.039349      NaN\n",
              "min        0.00000   NaN                NaN      0.000000      NaN\n",
              "10%      999.90000   NaN                NaN      0.000000      NaN\n",
              "25%     2499.75000   NaN                NaN      1.000000      NaN\n",
              "50%     4999.50000   NaN                NaN      2.000000      NaN\n",
              "75%     7499.25000   NaN                NaN      3.000000      NaN\n",
              "90%     8999.10000   NaN                NaN      5.000000      NaN\n",
              "max     9999.00000   NaN                NaN     15.000000      NaN"
            ]
          },
          "metadata": {},
          "execution_count": 58
        }
      ]
    },
    {
      "cell_type": "code",
      "source": [
        "# data_new_stripped = data.drop([ 'name', 'asset_description', 'top_bid'],axis=1)"
      ],
      "metadata": {
        "id": "Ywf1z5SRQRG9"
      },
      "execution_count": null,
      "outputs": []
    },
    {
      "cell_type": "code",
      "source": [
        "# import seaborn as sns\n",
        "\n",
        "# plt.figure(figsize=(25,20))\n",
        "# sns.set(font_scale=1)\n",
        "# sns.heatmap(data.corr(),annot=True);"
      ],
      "metadata": {
        "id": "v5MsNNp_SR7e"
      },
      "execution_count": null,
      "outputs": []
    },
    {
      "cell_type": "markdown",
      "source": [
        "## Cluster NFTs based on Trait Rarity"
      ],
      "metadata": {
        "id": "uIgf4X04hqDj"
      }
    },
    {
      "cell_type": "markdown",
      "source": [
        "calculate rarity of each NFT and have a separate column for this in the dataframe\n",
        "\n",
        "*Rarity Score for a Trait Value = 1 / ([Number of Items with that Trait Value] / [Total Number of Items in Collection])*"
      ],
      "metadata": {
        "id": "SphBgqecq6GT"
      }
    },
    {
      "cell_type": "markdown",
      "source": [
        "### Failed attempt at extracting json saved in csv"
      ],
      "metadata": {
        "id": "WlghlJX0c4xu"
      }
    },
    {
      "cell_type": "code",
      "source": [
        "import json"
      ],
      "metadata": {
        "id": "8GlTztS-VmNg"
      },
      "execution_count": null,
      "outputs": []
    },
    {
      "cell_type": "code",
      "source": [
        "result = data.iloc[0:].to_json()\n",
        "parsed = json.loads(result)\n",
        "json_string = json.dumps(parsed, indent=4)  \n",
        "\n",
        "print(json_string)"
      ],
      "metadata": {
        "colab": {
          "base_uri": "https://localhost:8080/"
        },
        "id": "GTXedYI1djbM",
        "outputId": "5354a3e2-5d96-470d-e73d-43f0c0ac7fd5"
      },
      "execution_count": null,
      "outputs": [
        {
          "output_type": "stream",
          "name": "stderr",
          "text": [
            "IOPub data rate exceeded.\n",
            "The notebook server will temporarily stop sending output\n",
            "to the client in order to avoid crashing it.\n",
            "To change this limit, set the config variable\n",
            "`--NotebookApp.iopub_data_rate_limit`.\n",
            "\n",
            "Current values:\n",
            "NotebookApp.iopub_data_rate_limit=1000000.0 (bytes/sec)\n",
            "NotebookApp.rate_limit_window=3.0 (secs)\n",
            "\n"
          ]
        }
      ]
    },
    {
      "cell_type": "code",
      "source": [
        "parsed[0]['traits']"
      ],
      "metadata": {
        "colab": {
          "base_uri": "https://localhost:8080/",
          "height": 122
        },
        "id": "vyUA-jrXejP1",
        "outputId": "dcd634a1-3958-47b6-945e-847c940c8228"
      },
      "execution_count": null,
      "outputs": [
        {
          "output_type": "execute_result",
          "data": {
            "application/vnd.google.colaboratory.intrinsic+json": {
              "type": "string"
            },
            "text/plain": [
              "'[{\\'trait_type\\': \\'Eyes\\', \\'value\\': \\'Eyepatch\\', \\'display_type\\': None, \\'max_value\\': None, \\'trait_count\\': 333, \\'order\\': None}, {\\'trait_type\\': \\'Hat\\', \\'value\\': \"Seaman\\'s Hat\", \\'display_type\\': None, \\'max_value\\': None, \\'trait_count\\': 420, \\'order\\': None}, {\\'trait_type\\': \\'Clothes\\', \\'value\\': \\'Rainbow Suspenders\\', \\'display_type\\': None, \\'max_value\\': None, \\'trait_count\\': 135, \\'order\\': None}, {\\'trait_type\\': \\'Background\\', \\'value\\': \\'Aquamarine\\', \\'display_type\\': None, \\'max_value\\': None, \\'trait_count\\': 1266, \\'order\\': None}, {\\'trait_type\\': \\'Fur\\', \\'value\\': \\'Dark Brown\\', \\'display_type\\': None, \\'max_value\\': None, \\'trait_count\\': 1352, \\'order\\': None}, {\\'trait_type\\': \\'Earring\\', \\'value\\': \\'Silver Hoop\\', \\'display_type\\': None, \\'max_value\\': None, \\'trait_count\\': 882, \\'order\\': None}, {\\'trait_type\\': \\'Mouth\\', \\'value\\': \\'Tongue Out\\', \\'display_type\\': None, \\'max_value\\': None, \\'trait_count\\': 202, \\'order\\': None}]'"
            ]
          },
          "metadata": {},
          "execution_count": 89
        }
      ]
    },
    {
      "cell_type": "markdown",
      "source": [
        "once saved in a CSV column/ pandas column, the array converts into a string. So, nothing will work after that."
      ],
      "metadata": {
        "id": "KEucxNfCbpFc"
      }
    },
    {
      "cell_type": "code",
      "source": [
        "# loop through data frame\n",
        "# for index, row in data.iterrows():\n",
        "#   traits = row['traits']\n",
        "#   print(traits)\n",
        "#   # traits_string = \"{'traits':\" + traits + \"}\"\n",
        "#   # traits_string = '''\n",
        "#   #                 {\"traits\":{traits}}\n",
        "#   #                 '''\n",
        "\n",
        "#   # traits_json = json.loads(traits_string)\n",
        "#   # parsed = json.loads(traits)\n",
        "#   # traits_string = json.dumps(traits, indent=4)  \n",
        "\n",
        "#   # print(traits_string)\n",
        "#   # break;\n",
        "\n",
        "#   # traits_json = json.loads(traits)\n",
        "\n",
        "#   for trait in traits:\n",
        "#     print(trait)\n",
        "#     trait_string = json.dumps(trait, indent=4)  \n",
        "#     print(trait_string)\n",
        "#     break;\n",
        "#   break\n",
        "\n",
        "    # print(row['nft_id'], row['traits'])\n",
        "# calculate rarity for each trait\n",
        "\n",
        "# add all rarity counts and calculate total rarity for each NFT\n"
      ],
      "metadata": {
        "colab": {
          "base_uri": "https://localhost:8080/"
        },
        "id": "Y3XbCFsDVEba",
        "outputId": "8c463852-29d8-4e54-ffa0-61bb2fd1e4a7"
      },
      "execution_count": null,
      "outputs": [
        {
          "output_type": "stream",
          "name": "stdout",
          "text": [
            "[{'trait_type': 'Eyes', 'value': 'Eyepatch', 'display_type': None, 'max_value': None, 'trait_count': 333, 'order': None}, {'trait_type': 'Hat', 'value': \"Seaman's Hat\", 'display_type': None, 'max_value': None, 'trait_count': 420, 'order': None}, {'trait_type': 'Clothes', 'value': 'Rainbow Suspenders', 'display_type': None, 'max_value': None, 'trait_count': 135, 'order': None}, {'trait_type': 'Background', 'value': 'Aquamarine', 'display_type': None, 'max_value': None, 'trait_count': 1266, 'order': None}, {'trait_type': 'Fur', 'value': 'Dark Brown', 'display_type': None, 'max_value': None, 'trait_count': 1352, 'order': None}, {'trait_type': 'Earring', 'value': 'Silver Hoop', 'display_type': None, 'max_value': None, 'trait_count': 882, 'order': None}, {'trait_type': 'Mouth', 'value': 'Tongue Out', 'display_type': None, 'max_value': None, 'trait_count': 202, 'order': None}]\n",
            "[\n",
            "\"[\"\n"
          ]
        }
      ]
    },
    {
      "cell_type": "code",
      "source": [
        "import ast\n",
        "import numpy as np\n",
        "def from_np_array(array_string):\n",
        "    array_string = ','.join(array_string.replace('[ ', '[').split())\n",
        "    return np.array(ast.literal_eval(array_string))\n",
        "\n",
        "\n",
        "df2 = pd.read_csv(assets_file_path, converters={'traits': from_np_array})\n",
        "print(df2)"
      ],
      "metadata": {
        "colab": {
          "base_uri": "https://localhost:8080/"
        },
        "id": "6Kdgr-1hca6O",
        "outputId": "a6653fd7-d314-40e4-9a3e-ba789b812747"
      },
      "execution_count": null,
      "outputs": [
        {
          "output_type": "stream",
          "name": "stdout",
          "text": [
            "                                                                                                                                                                                                                                                                                                                                                                                                                                                                                                                                                                                                                                                                                                                                                                                                                                                                                                                                                                                                                                                                                                                                                                                                                                                                                                                                                                                                                                                                                                                                                                                                                                                                                                                                                                                                                                                                                                                                                                                                                                                                                                                                                                                                                                                                                                                                                                                                                                                                                                                                                                                                                                                                                                                                                                                            nft_id\\tname\\tasset_description\\tasset_contract_address\\tcollection_name\\tcollection_description\\tcollection_slug\\tcollection_verification\\tcreator_username\\tcreator_address\\tcreator_profile_img_url\\towner_username\\towner_address\\towner_profile_img_url\\ttraits\\tnum_sales\\tlast_sale\\ttop_bid\\timage_url\n",
            "9974\\t\\t\\t0xbc4ca0eda7647a8ab7c2061c2e118a18a93... 000 unique Bored Ape NFTs— unique digital colle...  and grants access to members-only benefits  the first of which is access to THE BATHROOM  a collaborative graffiti board. Future areas a...  'value': 'Eyepatch'                'display_type': None  'max_value': None  'trait_count': 333   'order': None}  {'trait_type': 'Hat'         'value': \"\"Seaman's Hat\"\"      'display_type': None  'max_value': None  'trait_count': 420   'order': None}  {'trait_type': 'Clothes'     'value': 'Rainbow Suspenders'  'display_type': None  'max_value': None  'trait_count': 135   'order': None}  {'trait_type': 'Background'  'value': 'Aquamarine'     'display_type': None  'max_value': None  'trait_count': 1266  'order': None}  {'trait_type': 'Fur'         'value': 'Dark Brown'           'display_type': None  'max_value': None  'trait_count': 1352  'order': None}                                     {'trait_type': 'Earring'     'value': 'Silver Hoop'       'display_type': None        'max_value': None                         'trait_count': 882    'order': None}                                     {'trait_type': 'Mouth'     'value': 'Tongue Out'  'display_type': None                               'max_value': None                                  'trait_count': 202    'order': None}]\"\\t2\\t{'asset': {'token_id': '9...  'decimals': 0}                    'asset_bundle': None                     'event_type': 'successful'                         'event_timestamp': '2021-05-09T16:46:27'           'auction_type': None                               'total_price': '500000000000000000'                'payment_token': {'id': 1                          'symbol': 'ETH'                          'address': '0x00000000000000000000000000000000...  'image_url': 'https://storage.opensea.io/files...  'name': 'Ether'                                    'decimals': 18                                     'eth_price': '1.000000000000000'                   'usd_price': '3020.360000000000127000'}  'transaction': {'block_hash': '0xb2554b4c899a3...  'block_number': '12401311'          'from_account': {'user': {'username': 'mo31985'}   'profile_img_url': 'https://storage.googleapis...  'address': '0x994cf01f34c51426bcb12bd30ff7079e...  'config': ''}          'id': 111986825                                    'timestamp': '2021-05-09T16:46:27'  'to_account': {'user': {'username': 'OpenSea-O...  'profile_img_url': 'https://storage.googleapis...  'address': '0x7be8076f4ea4a4ad08075c2508e481d6...  'config': 'verified'}  'transaction_hash': '0x04f4668dfa8e737c0b345c2...  'transaction_index': '216'}  'created_date': '2021-05-09T16:46:57.354471'   'quantity': '1'}\\t\\thttps://lh3.googleusercon...                                                                                                                                                                                                                                                            \n",
            "9973\\t\\t\\t0xbc4ca0eda7647a8ab7c2061c2e118a18a93... 000 unique Bored Ape NFTs— unique digital colle...  and grants access to members-only benefits  the first of which is access to THE BATHROOM  a collaborative graffiti board. Future areas a...  'value': 'Dmt'                     'display_type': None  'max_value': None  'trait_count': 215   'order': None}  {'trait_type': 'Hat'         'value': \"\"Girl's Hair Pink\"\"  'display_type': None  'max_value': None  'trait_count': 105   'order': None}  {'trait_type': 'Eyes'        'value': 'Robot'               'display_type': None  'max_value': None  'trait_count': 350   'order': None}  {'trait_type': 'Background'  'value': 'Yellow'         'display_type': None  'max_value': None  'trait_count': 1283  'order': None}  {'trait_type': 'Mouth'       'value': 'Bored'                'display_type': None  'max_value': None  'trait_count': 2272  'order': None}]\"\\t1\\t{'asset': {'token_id': '9...  'decimals': 0}               'asset_bundle': None         'event_type': 'successful'  'event_timestamp': '2021-05-01T16:24:22'  'auction_type': None  'total_price': '580000000000000000'                'payment_token': {'id': 1  'symbol': 'ETH'        'address': '0x00000000000000000000000000000000...  'image_url': 'https://storage.opensea.io/files...  'name': 'Ether'       'decimals': 18                                     'eth_price': '1.000000000000000'  'usd_price': '3020.360000000000127000'}  'transaction': {'block_hash': '0x0db0e57f0affb...  'block_number': '12349383'                         'from_account': {'user': {'username': 'acsquar...  'profile_img_url': 'https://storage.googleapis...  'address': '0x078ad2aa3b4527e4996d087906b2a3da...  'config': ''}                            'id': 108653034                                    'timestamp': '2021-05-01T16:24:22'                 'to_account': {'user': {'username': 'OpenSea-O...  'profile_img_url': 'https://storage.googleapis...  'address': '0x7be8076f4ea4a4ad08075c2508e481d6...  'config': 'verified'}                    'transaction_hash': '0xb0655f440a002fab70c6cd2...  'transaction_index': '187'}         'created_date': '2021-05-01T16:24:56.449530'       'quantity': '1'}\\t\\thttps://lh3.googleusercont... NaN                                                NaN                    NaN                                                NaN                                 NaN                                                NaN                                                NaN                                                NaN                    NaN                                                NaN                          NaN                                                                                          NaN                                                                                                                                                                                                                                                            \n",
            "9949\\t\\t\\t0xbc4ca0eda7647a8ab7c2061c2e118a18a93... 000 unique Bored Ape NFTs— unique digital colle...  and grants access to members-only benefits  the first of which is access to THE BATHROOM  a collaborative graffiti board. Future areas a...  'value': 'Grin Gold Grill'         'display_type': None  'max_value': None  'trait_count': 91    'order': None}  {'trait_type': 'Fur'         'value': 'Tan'                 'display_type': None  'max_value': None  'trait_count': 626   'order': None}  {'trait_type': 'Hat'         'value': \"\"Seaman's Hat\"\"      'display_type': None  'max_value': None  'trait_count': 420   'order': None}  {'trait_type': 'Eyes'        'value': '3d'             'display_type': None  'max_value': None  'trait_count': 487   'order': None}  {'trait_type': 'Clothes'     'value': 'Guayabera'            'display_type': None  'max_value': None  'trait_count': 232   'order': None}                                     {'trait_type': 'Background'  'value': 'Army Green'        'display_type': None        'max_value': None                         'trait_count': 1243   'order': None}]\"\\t7\\t{'asset': {'token_id': '9...  'decimals': 0}             'asset_bundle': None   'event_type': 'successful'                         'event_timestamp': '2021-11-21T10:04:02'           'auction_type': None  'total_price': '85800000000000000000'              'payment_token': {'id': 1         'symbol': 'ETH'                          'address': '0x00000000000000000000000000000000...  'image_url': 'https://storage.opensea.io/files...  'name': 'Ether'                                    'decimals': 18                                     'eth_price': '1.000000000000000'                   'usd_price': '3020.360000000000127000'}  'transaction': {'block_hash': '0xd5a5a9e99d746...  'block_number': '13657520'                         'from_account': {'user': None                      'profile_img_url': 'https://storage.googleapis...  'address': '0x91e1543bf18cc3c7a25e682f9c20cf8b...  'config': ''}                            'id': 205541245                                    'timestamp': '2021-11-21T10:04:02'  'to_account': {'user': {'username': 'OpenSea-O...  'profile_img_url': 'https://storage.googleapis...  'address': '0x7be8076f4ea4a4ad08075c2508e481d6...  'config': 'verified'}  'transaction_hash': '0xaa9d446cfcbc4efc6d27cff...  'transaction_index': '278'}         'created_date': '2021-11-21T10:05:12.118043'       'quantity': '1'}\\t\\thttps://lh3.googleusercont... NaN                                                NaN                    NaN                                                NaN                          NaN                                                                                          NaN                                                                                                                                                                                                                                                            \n",
            "9972\\t\\t\\t0xbc4ca0eda7647a8ab7c2061c2e118a18a93... 000 unique Bored Ape NFTs— unique digital colle...  and grants access to members-only benefits  the first of which is access to THE BATHROOM  a collaborative graffiti board. Future areas a...  'value': 'Hypnotized'              'display_type': None  'max_value': None  'trait_count': 220   'order': None}  {'trait_type': 'Mouth'       'value': 'Rage'                'display_type': None  'max_value': None  'trait_count': 266   'order': None}  {'trait_type': 'Background'  'value': 'Aquamarine'          'display_type': None  'max_value': None  'trait_count': 1266  'order': None}  {'trait_type': 'Fur'         'value': 'Brown'          'display_type': None  'max_value': None  'trait_count': 1370  'order': None}  {'trait_type': 'Hat'         'value': 'Bunny Ears'           'display_type': None  'max_value': None  'trait_count': 195   'order': None}]\\t1\\t{'asset': {'token_id': '9972'  'decimals': 0}               'asset_bundle': None         'event_type': 'successful'  'event_timestamp': '2021-05-01T11:03:09'  'auction_type': None  'total_price': '150000000000000000'                'payment_token': {'id': 1  'symbol': 'ETH'        'address': '0x00000000000000000000000000000000...  'image_url': 'https://storage.opensea.io/files...  'name': 'Ether'       'decimals': 18                                     'eth_price': '1.000000000000000'  'usd_price': '3020.360000000000127000'}  'transaction': {'block_hash': '0xfc8283d0c5881...  'block_number': '12347896'                         'from_account': {'user': {'username': 'sabet'}     'profile_img_url': 'https://storage.googleapis...  'address': '0x02eb75be1e72e988de64f0088d654d8e...  'config': 'verified'}                    'id': 108562132                                    'timestamp': '2021-05-01T11:03:09'                 'to_account': {'user': {'username': 'OpenSea-O...  'profile_img_url': 'https://storage.googleapis...  'address': '0x7be8076f4ea4a4ad08075c2508e481d6...  'config': 'verified'}                    'transaction_hash': '0x293d72b21991e7d5b09f957...  'transaction_index': '203'}         'created_date': '2021-05-01T11:03:27.036476'       'quantity': '1'}\\t\\thttps://lh3.googleusercont... NaN                                                NaN                    NaN                                                NaN                                 NaN                                                NaN                                                NaN                                                NaN                    NaN                                                NaN                          NaN                                                                                          NaN                                                                                                                                                                                                                                                            \n",
            "9948\\t\\t\\t0xbc4ca0eda7647a8ab7c2061c2e118a18a93... 000 unique Bored Ape NFTs— unique digital colle...  and grants access to members-only benefits  the first of which is access to THE BATHROOM  a collaborative graffiti board. Future areas a...  'value': \"\"Trippy Captain's Hat\"\"  'display_type': None  'max_value': None  'trait_count': 65    'order': None}  {'trait_type': 'Fur'         'value': 'Cream'               'display_type': None  'max_value': None  'trait_count': 636   'order': None}  {'trait_type': 'Eyes'        'value': 'Bloodshot'           'display_type': None  'max_value': None  'trait_count': 846   'order': None}  {'trait_type': 'Mouth'       'value': 'Tongue Out'     'display_type': None  'max_value': None  'trait_count': 202   'order': None}  {'trait_type': 'Background'  'value': 'Purple'               'display_type': None  'max_value': None  'trait_count': 1291  'order': None}                                     {'trait_type': 'Clothes'     'value': 'Navy Striped Tee'  'display_type': None        'max_value': None                         'trait_count': 334    'order': None}]\"\\t2\\t{'asset': {'token_id': '9...  'decimals': 0}             'asset_bundle': None   'event_type': 'successful'                         'event_timestamp': '2021-05-03T02:45:55'           'auction_type': None  'total_price': '1750000000000000000'               'payment_token': {'id': 1         'symbol': 'ETH'                          'address': '0x00000000000000000000000000000000...  'image_url': 'https://storage.opensea.io/files...  'name': 'Ether'                                    'decimals': 18                                     'eth_price': '1.000000000000000'                   'usd_price': '3020.360000000000127000'}  'transaction': {'block_hash': '0x4e1c2ab72e2ea...  'block_number': '12358620'                         'from_account': {'user': {'username': 'MAJE'}      'profile_img_url': 'https://storage.googleapis...  'address': '0xecba5f51925e6ccec26da38dcd7d5305...  'config': ''}                            'id': 109254894                                    'timestamp': '2021-05-03T02:45:55'  'to_account': {'user': {'username': 'OpenSea-O...  'profile_img_url': 'https://storage.googleapis...  'address': '0x7be8076f4ea4a4ad08075c2508e481d6...  'config': 'verified'}  'transaction_hash': '0xe8193a750316f15a81cc6f8...  'transaction_index': '29'}          'created_date': '2021-05-03T02:46:21.915618'       'quantity': '1'}\\t\\thttps://lh3.googleusercont... NaN                                                NaN                    NaN                                                NaN                          NaN                                                                                          NaN                                                                                                                                                                                                                                                            \n",
            "...                                                                                                                                                                                                                                                                                                                                                                                                                                                                                                                                                                                                                                                                                                                                                                                                                                                                                                                                                                                                                                                                                                                                                                                                                                                                                                                                                                                                                                                                                                                                                                                                                                                                                                                                                                                                                                                                                                                                                                                                                                                                                                                                                                                                                                                                                                                                                                                                                                                                                                                                                                                                                                                                                                                                                                                                                                        ...                                                                                                                                                                                                                                                            \n",
            "4\\t\\t\\t0xbc4ca0eda7647a8ab7c2061c2e118a18a936f1... 000 unique Bored Ape NFTs— unique digital colle...  and grants access to members-only benefits  the first of which is access to THE BATHROOM  a collaborative graffiti board. Future areas a...  'value': 'Phoneme L'               'display_type': None  'max_value': None  'trait_count': 241   'order': None}  {'trait_type': 'Eyes'        'value': 'Closed'              'display_type': None  'max_value': None  'trait_count': 710   'order': None}  {'trait_type': 'Hat'         'value': 'Party Hat 2'         'display_type': None  'max_value': None  'trait_count': 107   'order': None}  {'trait_type': 'Fur'         'value': 'Golden Brown'   'display_type': None  'max_value': None  'trait_count': 778   'order': None}  {'trait_type': 'Background'  'value': 'Blue'                 'display_type': None  'max_value': None  'trait_count': 1242  'order': None}                                     {'trait_type': 'Clothes'     'value': 'Navy Striped Tee'  'display_type': None        'max_value': None                         'trait_count': 334    'order': None}]\\t0\\t\\t\\thttps://lh3.googleuser... NaN                        NaN                    NaN                                                NaN                                                NaN                   NaN                                                NaN                               NaN                                      NaN                                                NaN                                                NaN                                                NaN                                                NaN                                                NaN                                      NaN                                                NaN                                                NaN                                                NaN                                                NaN                                                NaN                                      NaN                                                NaN                                 NaN                                                NaN                                                NaN                                                NaN                    NaN                                                NaN                                 NaN                                                NaN                                                NaN                                                NaN                    NaN                                                NaN                          NaN                                                                                          NaN                                                                                                                                                                                                                                                            \n",
            "3\\t\\t\\t0xbc4ca0eda7647a8ab7c2061c2e118a18a936f1... 000 unique Bored Ape NFTs— unique digital colle...  and grants access to members-only benefits  the first of which is access to THE BATHROOM  a collaborative graffiti board. Future areas a...  'value': 'Bored'                   'display_type': None  'max_value': None  'trait_count': 1714  'order': None}  {'trait_type': 'Mouth'       'value': 'Tongue Out'          'display_type': None  'max_value': None  'trait_count': 202   'order': None}  {'trait_type': 'Fur'         'value': 'Cheetah'             'display_type': None  'max_value': None  'trait_count': 406   'order': None}  {'trait_type': 'Clothes'     'value': 'Bone Necklace'  'display_type': None  'max_value': None  'trait_count': 203   'order': None}  {'trait_type': 'Background'  'value': 'Purple'               'display_type': None  'max_value': None  'trait_count': 1291  'order': None}]\\t0\\t\\t\\thttps://lh3.googleuser... NaN                          NaN                          NaN                         NaN                                       NaN                   NaN                                                NaN                        NaN                    NaN                                                NaN                                                NaN                   NaN                                                NaN                               NaN                                      NaN                                                NaN                                                NaN                                                NaN                                                NaN                                                NaN                                      NaN                                                NaN                                                NaN                                                NaN                                                NaN                                                NaN                                      NaN                                                NaN                                 NaN                                                NaN                                                NaN                                                NaN                    NaN                                                NaN                                 NaN                                                NaN                                                NaN                                                NaN                    NaN                                                NaN                          NaN                                                                                          NaN                                                                                                                                                                                                                                                            \n",
            "2\\t\\t\\t0xbc4ca0eda7647a8ab7c2061c2e118a18a936f1... 000 unique Bored Ape NFTs— unique digital colle...  and grants access to members-only benefits  the first of which is access to THE BATHROOM  a collaborative graffiti board. Future areas a...  'value': 'Aquamarine'              'display_type': None  'max_value': None  'trait_count': 1266  'order': None}  {'trait_type': 'Eyes'        'value': '3d'                  'display_type': None  'max_value': None  'trait_count': 487   'order': None}  {'trait_type': 'Mouth'       'value': 'Bored Cigarette'     'display_type': None  'max_value': None  'trait_count': 710   'order': None}  {'trait_type': 'Fur'         'value': 'Robot'          'display_type': None  'max_value': None  'trait_count': 265   'order': None}  {'trait_type': 'Hat'         'value': \"\"Sea Captain's Hat\"\"  'display_type': None  'max_value': None  'trait_count': 304   'order': None}]\"\\t0\\t\\t\\thttps://lh3.googleuse... NaN                          NaN                          NaN                         NaN                                       NaN                   NaN                                                NaN                        NaN                    NaN                                                NaN                                                NaN                   NaN                                                NaN                               NaN                                      NaN                                                NaN                                                NaN                                                NaN                                                NaN                                                NaN                                      NaN                                                NaN                                                NaN                                                NaN                                                NaN                                                NaN                                      NaN                                                NaN                                 NaN                                                NaN                                                NaN                                                NaN                    NaN                                                NaN                                 NaN                                                NaN                                                NaN                                                NaN                    NaN                                                NaN                          NaN                                                                                          NaN                                                                                                                                                                                                                                                            \n",
            "1\\t\\t\\t0xbc4ca0eda7647a8ab7c2061c2e118a18a936f1... 000 unique Bored Ape NFTs— unique digital colle...  and grants access to members-only benefits  the first of which is access to THE BATHROOM  a collaborative graffiti board. Future areas a...  'value': 'Grin'                    'display_type': None  'max_value': None  'trait_count': 713   'order': None}  {'trait_type': 'Background'  'value': 'Orange'              'display_type': None  'max_value': None  'trait_count': 1273  'order': None}  {'trait_type': 'Eyes'        'value': 'Blue Beams'          'display_type': None  'max_value': None  'trait_count': 49    'order': None}  {'trait_type': 'Fur'         'value': 'Robot'          'display_type': None  'max_value': None  'trait_count': 265   'order': None}  {'trait_type': 'Clothes'     'value': 'Vietnam Jacket'       'display_type': None  'max_value': None  'trait_count': 224   'order': None}]\\t0\\t\\t\\thttps://lh3.googleuser... NaN                          NaN                          NaN                         NaN                                       NaN                   NaN                                                NaN                        NaN                    NaN                                                NaN                                                NaN                   NaN                                                NaN                               NaN                                      NaN                                                NaN                                                NaN                                                NaN                                                NaN                                                NaN                                      NaN                                                NaN                                                NaN                                                NaN                                                NaN                                                NaN                                      NaN                                                NaN                                 NaN                                                NaN                                                NaN                                                NaN                    NaN                                                NaN                                 NaN                                                NaN                                                NaN                                                NaN                    NaN                                                NaN                          NaN                                                                                          NaN                                                                                                                                                                                                                                                            \n",
            "0\\t\\t\\t0xbc4ca0eda7647a8ab7c2061c2e118a18a936f1... 000 unique Bored Ape NFTs— unique digital colle...  and grants access to members-only benefits  the first of which is access to THE BATHROOM  a collaborative graffiti board. Future areas a...  'value': 'X Eyes'                  'display_type': None  'max_value': None  'trait_count': 243   'order': None}  {'trait_type': 'Mouth'       'value': 'Discomfort'          'display_type': None  'max_value': None  'trait_count': 208   'order': None}  {'trait_type': 'Clothes'     'value': 'Striped Tee'         'display_type': None  'max_value': None  'trait_count': 412   'order': None}  {'trait_type': 'Background'  'value': 'Orange'         'display_type': None  'max_value': None  'trait_count': 1273  'order': None}  {'trait_type': 'Earring'     'value': 'Silver Hoop'          'display_type': None  'max_value': None  'trait_count': 882   'order': None}                                     {'trait_type': 'Fur'         'value': 'Robot'             'display_type': None        'max_value': None                         'trait_count': 265    'order': None}]\\t0\\t\\t\\thttps://lh3.googleuser... NaN                        NaN                    NaN                                                NaN                                                NaN                   NaN                                                NaN                               NaN                                      NaN                                                NaN                                                NaN                                                NaN                                                NaN                                                NaN                                      NaN                                                NaN                                                NaN                                                NaN                                                NaN                                                NaN                                      NaN                                                NaN                                 NaN                                                NaN                                                NaN                                                NaN                    NaN                                                NaN                                 NaN                                                NaN                                                NaN                                                NaN                    NaN                                                NaN                          NaN                                                                                          NaN                                                                                                                                                                                                                                                            \n",
            "\n",
            "[10000 rows x 1 columns]\n"
          ]
        }
      ]
    },
    {
      "cell_type": "markdown",
      "metadata": {
        "id": "MVIiWcfW4x1D"
      },
      "source": [
        "## Clean Asset Data\n",
        "\n",
        "*   Remove NFTs that have no text that can be worked with at all (descriptions/ sensible names - nouns, non-stop words,etc.) - can have this check when parsing as well (check later)\n"
      ]
    },
    {
      "cell_type": "markdown",
      "metadata": {
        "id": "xj0MoYK8FlJ6"
      },
      "source": [
        "## Getting NFT sales transactions data\n",
        "\n",
        "The source code below collects all sale transactions data. The API has a limit of 50 items per call, and therefore we need to create a loop to collect all sale transactions data.\n",
        "\n",
        "https://docs.cryptosheets.com/providers/opensea/retrieving-events/"
      ]
    },
    {
      "cell_type": "markdown",
      "metadata": {
        "id": "0oVdZ4dM6wdZ"
      },
      "source": [
        "Assets and events will most likely match only in NFTs from collections - that have had a few transactions.\n",
        "\n",
        "Otherwise, events data can be used only to train a price prediction algorithm."
      ]
    },
    {
      "cell_type": "code",
      "metadata": {
        "id": "uMb81Q9t0w0j"
      },
      "source": [
        "sales_file_path = \"/content/drive/MyDrive/Datasets/FYP/bayc-nft-sales\"\n",
        "# sales_file_path = \"/content/drive/MyDrive/Datasets/FYP/collected-nft-sales\""
      ],
      "execution_count": null,
      "outputs": []
    },
    {
      "cell_type": "code",
      "metadata": {
        "id": "mQVPS0fsFlJ7"
      },
      "source": [
        "url = \"https://api.opensea.io/api/v1/events\"\n",
        "\n",
        "for i in range(0, 200):\n",
        "    offset= 50 * i\n",
        "\n",
        "    # query events for each nft asset\n",
        "\n",
        "    querystring = {\n",
        "                   \"event_type\":\"successful\",\n",
        "                   \"only_opensea\":\"true\",\n",
        "                   \"offset\":offset,\n",
        "                   \"limit\":\"50\",\n",
        "                   }\n",
        "\n",
        "    headers = {\"Accept\": \"application/json\"}\n",
        "\n",
        "    response = requests.request(\"GET\", url, headers=headers, params=querystring)\n",
        "\n",
        "    \n",
        "    # print(i)\n",
        "    if response.status_code != 200:\n",
        "        print('error')\n",
        "        break\n",
        "    \n",
        "    #Getting meebits sales data\n",
        "    nft_sales = response.json()['asset_events']\n",
        "\n",
        "    if nft_sales == []:\n",
        "        break\n",
        "    \n",
        "    #Parsing meebits sales data\n",
        "    parsed_nft_sales = [parse_sale_data(sale) for sale in nft_sales]\n",
        "\n",
        "    # convert json to pandas dataframe\n",
        "    nft_sales_df = pd.DataFrame(parsed_nft_sales)\n",
        "\n",
        "  # save dataframe to a separate csv & save csv to Google Drive\n",
        "    nft_sales_df.to_csv(sales_file_path, mode='a', sep='\\t', index=False, header=(not os.path.exists(sales_file_path)), encoding='utf-8')"
      ],
      "execution_count": null,
      "outputs": []
    },
    {
      "cell_type": "markdown",
      "metadata": {
        "id": "E12bEwuXFlJ7"
      },
      "source": [
        "## 2.2. Analyzing Meebits Data and Meebits Sale Transactions\n",
        "\n",
        "Now that we have the data in MongoDB, we can start analyzing it. \n",
        "\n",
        "### 2.2.1. Reading the Data\n",
        "We start by reading both the assets data and the transactions data into 2 Pandas DataFrames."
      ]
    },
    {
      "cell_type": "code",
      "metadata": {
        "id": "ZVYfeu-vFlJ7"
      },
      "source": [
        "meebits = meebits_collection.find()\n",
        "meebits_df = pd.DataFrame(meebits)\n",
        "\n",
        "meebit_sales = sales_collection.find()\n",
        "meebit_sales_df = pd.DataFrame(meebit_sales)"
      ],
      "execution_count": null,
      "outputs": []
    },
    {
      "cell_type": "code",
      "metadata": {
        "id": "Q2DvETfkFlJ7"
      },
      "source": [
        "print(\"The database has information about %d Meebits.\" % len(meebits_df))\n",
        "print(\"The database has information about %d Meebits sale transactions.\" % len(meebit_sales_df))"
      ],
      "execution_count": null,
      "outputs": []
    },
    {
      "cell_type": "markdown",
      "metadata": {
        "id": "N792CR46FlJ8"
      },
      "source": [
        "### 2.2.2. Getting Top 10 Meebits Creators"
      ]
    },
    {
      "cell_type": "code",
      "metadata": {
        "id": "Y-jgVjOVFlJ8"
      },
      "source": [
        "creators = []\n",
        "for creator_address in meebits_df['creator_address'].value_counts().index[:10]:\n",
        "    creator_data = {}\n",
        "    creator_data['creator_address'] = creator_address\n",
        "    creator_data['creator_username'] = meebits_df[meebits_df['creator_address'] == creator_address]['creator_username'].iloc[0]\n",
        "    creator_data['number_meebits'] = len(meebits_df[meebits_df['creator_address'] == creator_address])\n",
        "    creators.append(creator_data)\n",
        "\n",
        "pd.DataFrame(creators)"
      ],
      "execution_count": null,
      "outputs": []
    },
    {
      "cell_type": "code",
      "metadata": {
        "id": "xeLZpPYZFlJ9"
      },
      "source": [
        "#### Getting total number of Meebit Creators and Owners.\n",
        "print(\"There are %d unique Meebit creators.\" % len(meebits_df['creator_address'].unique()))\n",
        "print(\"There are %d unique Meebit owners.\" % len(meebits_df['owner_address'].unique()))"
      ],
      "execution_count": null,
      "outputs": []
    },
    {
      "cell_type": "markdown",
      "metadata": {
        "id": "I7UvBKlwFlJ9"
      },
      "source": [
        "### 2.2.3. Getting Stats about Bundle/Single Sales and Types of Payment"
      ]
    },
    {
      "cell_type": "code",
      "metadata": {
        "id": "tgMdbrK3FlJ9"
      },
      "source": [
        "meebit_sales_df['is_bundle'].value_counts()"
      ],
      "execution_count": null,
      "outputs": []
    },
    {
      "cell_type": "code",
      "metadata": {
        "id": "_po82FnsFlJ9"
      },
      "source": [
        "meebit_sales_df[meebit_sales_df['is_bundle'] == False]['payment_token'].value_counts()"
      ],
      "execution_count": null,
      "outputs": []
    },
    {
      "cell_type": "markdown",
      "metadata": {
        "id": "-rt0b_mxFlJ9"
      },
      "source": [
        "### 2.2.4. Filering Sale Transactions and Adding New Features\n",
        "\n",
        "To make the analysis easier, we will only focus on single sales done in ETH or WETH."
      ]
    },
    {
      "cell_type": "code",
      "metadata": {
        "id": "l7MBAPXXFlJ-"
      },
      "source": [
        "meebit_sales_df = meebit_sales_df[(meebit_sales_df['payment_token'] != 'USDC') & (meebit_sales_df['is_bundle'] == False)].copy()"
      ],
      "execution_count": null,
      "outputs": []
    },
    {
      "cell_type": "markdown",
      "metadata": {
        "id": "ECiww-fSFlJ-"
      },
      "source": [
        "Next, we do some data cleaning and we add a new feature"
      ]
    },
    {
      "cell_type": "code",
      "metadata": {
        "id": "JQyY_hCPFlJ-"
      },
      "source": [
        "# Parsing dates\n",
        "meebit_sales_df['timestamp'] = pd.to_datetime(meebit_sales_df['timestamp'])\n",
        "# Converting sales price from WEI to ETH\n",
        "meebit_sales_df['total_price'] = meebit_sales_df['total_price']/10.**18\n",
        "# Calculating the sale prices in USD\n",
        "meebit_sales_df['total_price_usd'] = meebit_sales_df['total_price'] * meebit_sales_df['usd_price']"
      ],
      "execution_count": null,
      "outputs": []
    },
    {
      "cell_type": "markdown",
      "metadata": {
        "id": "Che2ZxiHFlJ-"
      },
      "source": [
        "### 2.2.5. Meebits Sales Timelines\n",
        "\n",
        "#### Total Number of Sales per Day"
      ]
    },
    {
      "cell_type": "code",
      "metadata": {
        "id": "6nnjTYE0FlJ-",
        "scrolled": false
      },
      "source": [
        "data = meebit_sales_df[['timestamp', 'total_price']].resample('D', on='timestamp').count()['total_price']\n",
        "ax = data.plot.bar(figsize=(18, 6))\n",
        "\n",
        "ax.set_alpha(0.8)\n",
        "ax.set_title(\"Number of Meebits Sales per Day\", fontsize=18)\n",
        "ax.set_ylabel(\"Number of Meebits Sales\", fontsize=18)\n",
        "\n",
        "#https://github.com/pandas-dev/pandas/issues/1918\n",
        "plt.gca().xaxis.set_major_formatter(plt.FixedFormatter(data.index.to_series().dt.strftime(\"%d %b %Y\")))\n",
        "\n",
        "#https://robertmitchellv.com/blog-bar-chart-annotations-pandas-mpl.html\n",
        "for i in ax.patches:\n",
        "    # get_x pulls left or right; get_height pushes up or down\n",
        "    ax.text(i.get_x(), i.get_height()+40, \\\n",
        "            str(round((i.get_height()), 2)), fontsize=11, color='dimgrey',\n",
        "                rotation=45)"
      ],
      "execution_count": null,
      "outputs": []
    },
    {
      "cell_type": "markdown",
      "metadata": {
        "id": "OWaoHpVoFlJ-"
      },
      "source": [
        "#### Total Sales per Day in ETH"
      ]
    },
    {
      "cell_type": "code",
      "metadata": {
        "id": "ctJCf54jFlJ_",
        "scrolled": false
      },
      "source": [
        "data = meebit_sales_df[['timestamp', 'total_price']].resample('D', on='timestamp').sum()['total_price']\n",
        "ax = data.plot(figsize=(18,6), color=\"red\", linewidth=1, marker='o', markerfacecolor='grey', markeredgewidth=0)\n",
        "\n",
        "ax.set_alpha(0.8)\n",
        "ax.set_title(\"Timeline of Total Meebit Sales in ETH\", fontsize=18)\n",
        "ax.set_ylabel(\"Sales in ETH\", fontsize=18);\n",
        "\n",
        "dates = list(data.index)\n",
        "values = list(data.values)\n",
        "\n",
        "for i, j in zip(dates, values):\n",
        "    ax.annotate(s=\"{:.0f}\".format(j), xy=(i, j+200), rotation=45)"
      ],
      "execution_count": null,
      "outputs": []
    },
    {
      "cell_type": "markdown",
      "metadata": {
        "id": "F-L-DravFlJ_"
      },
      "source": [
        "#### Total Sales per day in USD"
      ]
    },
    {
      "cell_type": "code",
      "metadata": {
        "id": "bDwpp1SyFlJ_",
        "scrolled": false
      },
      "source": [
        "data = meebit_sales_df[['timestamp', 'total_price_usd']].resample('D', on='timestamp').sum()['total_price_usd']\n",
        "ax = data.plot(figsize=(18,6), color=\"red\", linewidth=1, marker='o', markerfacecolor='grey', markeredgewidth=0)\n",
        "\n",
        "ax.set_alpha(0.8)\n",
        "ax.set_title(\"Timeline of Total Meebit Sales in Million USD\", fontsize=18)\n",
        "ax.set_ylabel(\"Sales in Million USD\", fontsize=18);\n",
        "\n",
        "dates = list(data.index)\n",
        "values = list(data.values)\n",
        "\n",
        "for i, j in zip(dates, values):\n",
        "    ax.annotate(s=\"{:.2f}\".format(j/10.**6), xy=(i, j), rotation=45)"
      ],
      "execution_count": null,
      "outputs": []
    },
    {
      "cell_type": "markdown",
      "metadata": {
        "id": "St-eFBuOFlJ_"
      },
      "source": [
        "### 2.2.6. Meebits Prices Timelines "
      ]
    },
    {
      "cell_type": "markdown",
      "metadata": {
        "id": "u1Al4nBoFlJ_"
      },
      "source": [
        "#### Average Meebit Price per Day in ETH "
      ]
    },
    {
      "cell_type": "code",
      "metadata": {
        "id": "mjoE0tEtFlJ_"
      },
      "source": [
        "data = meebit_sales_df[['timestamp', 'total_price']].resample('D', on='timestamp').mean()['total_price']\n",
        "ax = data.plot(figsize=(18,6), color=\"green\", linewidth=1, marker='o', markerfacecolor='grey', markeredgewidth=0)\n",
        "\n",
        "ax.set_alpha(0.8)\n",
        "ax.set_title(\"Timeline of Average Meebit Price in ETH\", fontsize=18)\n",
        "ax.set_ylabel(\"Average Price in ETH\", fontsize=18);\n",
        "#ax.annotate(s='sdsdsds', xy=(1, 1))\n",
        "\n",
        "dates = list(data.index)\n",
        "values = list(data.values)\n",
        "\n",
        "for i, j in zip(dates, values):\n",
        "    ax.annotate(s=\"{:.2f}\".format(j), xy=(i, j+.2), rotation=45)"
      ],
      "execution_count": null,
      "outputs": []
    },
    {
      "cell_type": "markdown",
      "metadata": {
        "id": "YNhWrQVGFlKA"
      },
      "source": [
        "#### Floor Meebit Price per Day in ETH"
      ]
    },
    {
      "cell_type": "code",
      "metadata": {
        "id": "y1OQH24eFlKA"
      },
      "source": [
        "data = meebit_sales_df[['timestamp', 'total_price']].resample('D', on='timestamp').min()['total_price']\n",
        "ax = data.plot(figsize=(18,6), color=\"orange\", linewidth=1, marker='o', markerfacecolor='grey', markeredgewidth=0)\n",
        "\n",
        "ax.set_alpha(0.8)\n",
        "ax.set_title(\"Timeline of Floor Meebit Price in ETH\", fontsize=18)\n",
        "ax.set_ylabel(\"Floor Price in ETH\", fontsize=18);\n",
        "\n",
        "dates = list(data.index)\n",
        "values = list(data.values)\n",
        "\n",
        "for d, v in zip(dates, values):\n",
        "    ax.annotate(s=\"{:.2f}\".format(v), xy=(d, v), rotation=45)"
      ],
      "execution_count": null,
      "outputs": []
    },
    {
      "cell_type": "markdown",
      "metadata": {
        "id": "_TzbIHKeFlKA"
      },
      "source": [
        "#### Max Meebit Price per Day in ETH"
      ]
    },
    {
      "cell_type": "code",
      "metadata": {
        "id": "j_rVVo8eFlKA"
      },
      "source": [
        "data = meebit_sales_df[['timestamp', 'total_price']].resample('D', on='timestamp').max()['total_price']\n",
        "ax = data.plot(figsize=(18,6), color=\"red\", linewidth=1, marker='o', markerfacecolor='grey', markeredgewidth=0)\n",
        "\n",
        "ax.set_alpha(0.8)\n",
        "ax.set_title(\"Timeline of Max Meebit Price in ETH\", fontsize=18)\n",
        "ax.set_ylabel(\"Max Price in ETH\", fontsize=18);\n",
        "\n",
        "dates = list(data.index)\n",
        "values = list(data.values)\n",
        "\n",
        "for i, j in zip(dates, values):\n",
        "    ax.annotate(s=\"{:.0f}\".format(j), xy=(i, j+30), rotation=45)"
      ],
      "execution_count": null,
      "outputs": []
    },
    {
      "cell_type": "markdown",
      "metadata": {
        "id": "gb2tfGTcFlKA"
      },
      "source": [
        "### 2.2.6. Analyzing Meebits' Sellers and Buyers"
      ]
    },
    {
      "cell_type": "code",
      "metadata": {
        "id": "zFutDgxyFlKB"
      },
      "source": [
        "print(\"There are %d unique Meebit sellers.\" % len(meebit_sales_df['seller_address'].unique()))\n",
        "print(\"There are %d unique Meebit buyers.\" % len(meebit_sales_df['buyer_address'].unique()))"
      ],
      "execution_count": null,
      "outputs": []
    },
    {
      "cell_type": "markdown",
      "metadata": {
        "id": "SdV69K7QFlKB"
      },
      "source": [
        "#### Getting Top 10 Meebits Buyers"
      ]
    },
    {
      "cell_type": "code",
      "metadata": {
        "id": "jlUI3SQOFlKB"
      },
      "source": [
        "buyers = []\n",
        "for buyer_address in meebit_sales_df['buyer_address'].value_counts().index[:10]:\n",
        "    buyer_data = {}\n",
        "    buyer_data['buyer_address'] = buyer_address\n",
        "    buyer_data['buyer_username'] = meebit_sales_df[meebit_sales_df['buyer_address'] == buyer_address]['buyer_username'].iloc[0]\n",
        "    buyer_data['number_buys'] = len(meebit_sales_df[meebit_sales_df['buyer_address'] == buyer_address])\n",
        "    buyer_data['min_price'] = meebit_sales_df[meebit_sales_df['buyer_address'] == buyer_address]['total_price'].min()\n",
        "    buyer_data['max_price'] = meebit_sales_df[meebit_sales_df['buyer_address'] == buyer_address]['total_price'].max()\n",
        "    buyer_data['mean_price'] = meebit_sales_df[meebit_sales_df['buyer_address'] == buyer_address]['total_price'].mean()\n",
        "    buyers.append(buyer_data)\n",
        "    \n",
        "pd.DataFrame(buyers)"
      ],
      "execution_count": null,
      "outputs": []
    },
    {
      "cell_type": "markdown",
      "metadata": {
        "id": "xHq3s9m4FlKB"
      },
      "source": [
        "#### Getting Top 10 Meebits Sellers"
      ]
    },
    {
      "cell_type": "code",
      "metadata": {
        "id": "K6CHRM6oFlKB"
      },
      "source": [
        "sellers = []\n",
        "for seller_address in meebit_sales_df['seller_address'].value_counts().index[:10]:\n",
        "    seller_data = {}\n",
        "    seller_data['seller_address'] = seller_address\n",
        "    seller_data['seller_username'] = meebit_sales_df[meebit_sales_df['seller_address'] == seller_address]['seller_username'].iloc[0]\n",
        "    seller_data['number_sales'] = len(meebit_sales_df[meebit_sales_df['seller_address'] == seller_address])\n",
        "    seller_data['min_price'] = meebit_sales_df[meebit_sales_df['seller_address'] == seller_address]['total_price'].min()\n",
        "    seller_data['max_price'] = meebit_sales_df[meebit_sales_df['seller_address'] == seller_address]['total_price'].max()\n",
        "    seller_data['mean_price'] = meebit_sales_df[meebit_sales_df['seller_address'] == seller_address]['total_price'].mean()\n",
        "    sellers.append(seller_data)\n",
        "    \n",
        "pd.DataFrame(sellers)"
      ],
      "execution_count": null,
      "outputs": []
    },
    {
      "cell_type": "markdown",
      "metadata": {
        "id": "uyiFnQJAFlKB"
      },
      "source": [
        "#### Intersection of Top 10 Buyers and Top 10 sellers"
      ]
    },
    {
      "cell_type": "code",
      "metadata": {
        "id": "TnReLfpqFlKB"
      },
      "source": [
        "top_10_buyers = meebit_sales_df['buyer_address'].value_counts().index[:10]\n",
        "top_10_sellers = meebit_sales_df['seller_address'].value_counts().index[:10]\n",
        "print(list(set(top_10_buyers) & set(top_10_sellers)))"
      ],
      "execution_count": null,
      "outputs": []
    },
    {
      "cell_type": "markdown",
      "metadata": {
        "id": "HiFKmb7SFlKC"
      },
      "source": [
        "#### Getting Number of Sales between same Buyers and Sellers "
      ]
    },
    {
      "cell_type": "code",
      "metadata": {
        "id": "pW2sY_XYFlKC"
      },
      "source": [
        "(meebit_sales_df['seller_address'] + meebit_sales_df['buyer_address']).value_counts().value_counts()"
      ],
      "execution_count": null,
      "outputs": []
    }
  ]
}