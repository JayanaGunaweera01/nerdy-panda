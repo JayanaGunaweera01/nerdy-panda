{
  "nbformat": 4,
  "nbformat_minor": 0,
  "metadata": {
    "colab": {
      "name": "NFT-DataCollector.ipynb",
      "provenance": [],
      "authorship_tag": "ABX9TyPoNXw7OaW9VQdQ2hLQmK46",
      "include_colab_link": true
    },
    "kernelspec": {
      "name": "python3",
      "display_name": "Python 3"
    },
    "language_info": {
      "name": "python"
    }
  },
  "cells": [
    {
      "cell_type": "markdown",
      "metadata": {
        "id": "view-in-github",
        "colab_type": "text"
      },
      "source": [
        "<a href=\"https://colab.research.google.com/github/dinuka-rp/nerdy-panda/blob/main/Prototype/Data%20Collection/NFT_DataCollector.ipynb\" target=\"_parent\"><img src=\"https://colab.research.google.com/assets/colab-badge.svg\" alt=\"Open In Colab\"/></a>"
      ]
    },
    {
      "cell_type": "markdown",
      "metadata": {
        "id": "5VptGlOgk1Nz"
      },
      "source": [
        "# Fetch data from OpenSea api and save to csv"
      ]
    },
    {
      "cell_type": "markdown",
      "metadata": {
        "id": "MTCqsKbAlzsn"
      },
      "source": [
        "We will use the Python library requests - https://github.com/psf/requests.\n",
        "\n",
        "API Tutorial: https://colab.research.google.com/github/nestauk/im-tutorials/blob/3-ysi-tutorial/notebooks/APIs/API_tutorial.ipynb"
      ]
    },
    {
      "cell_type": "code",
      "metadata": {
        "id": "SkiZQJnxkyQb"
      },
      "source": [
        "import requests   # Import the requests library\n",
        "import pprint   # well-formatted print output"
      ],
      "execution_count": 4,
      "outputs": []
    },
    {
      "cell_type": "code",
      "metadata": {
        "colab": {
          "base_uri": "https://localhost:8080/"
        },
        "id": "Y0c9O25_mE8L",
        "outputId": "b0460667-dbcf-4227-e1eb-c2d7a75ec19c"
      },
      "source": [
        "url = ('https://api.opensea.io/api/v1'\n",
        "       '/assets?'\n",
        "       'token_ids=2600010034'\n",
        "       '&order_direction=desc'\n",
        "       '&offset=0'\n",
        "       '&limit=20'\n",
        "       )\n",
        "\n",
        "print(url)\n",
        "\n",
        "response = requests.get(url)  # Make a GET request to the URL\n",
        "\n",
        "# Print status code (and associated text)\n",
        "print(f\"Request returned {response.status_code} : '{response.reason}'\")\n",
        "\n",
        "\n",
        "# Print data returned (parsing as JSON)\n",
        "payload = response.json()  # Parse `response.text` into JSON\n",
        "\n",
        "pp = pprint.PrettyPrinter(indent=1)\n",
        "pp.pprint(payload)\n",
        "# NOTE: Could use print(response.json()) but this wouldn't be formatted nicely"
      ],
      "execution_count": 7,
      "outputs": [
        {
          "output_type": "stream",
          "name": "stdout",
          "text": [
            "https://api.opensea.io/api/v1/assets?token_ids=2600010034&order_direction=desc&offset=0&limit=20\n",
            "Request returned 200 : 'OK'\n",
            "{'assets': [{'animation_original_url': None,\n",
            "             'animation_url': None,\n",
            "             'asset_contract': {'address': '0x39a54d3484ecfe677640a99b803a01b23385a801',\n",
            "                                'asset_contract_type': 'non-fungible',\n",
            "                                'buyer_fee_basis_points': 0,\n",
            "                                'created_date': '2020-12-14T00:00:31.061928',\n",
            "                                'default_to_fiat': False,\n",
            "                                'description': '',\n",
            "                                'dev_buyer_fee_basis_points': 0,\n",
            "                                'dev_seller_fee_basis_points': 0,\n",
            "                                'external_link': None,\n",
            "                                'image_url': 'https://lh3.googleusercontent.com/aLamJk2M-VjnaXyGYrBWhW_EZm3iAm8wbnB6L-hQk0wFyCjLCr-g3bjAGLIsEyMFpSJrgtsdikhS7IOZGS9jFagrhpi1TMqbLc-aIA=s120',\n",
            "                                'name': 'BROKEN Open Edition by Marc Tudisco',\n",
            "                                'nft_version': '3.0',\n",
            "                                'only_proxied_transfers': False,\n",
            "                                'opensea_buyer_fee_basis_points': 0,\n",
            "                                'opensea_seller_fee_basis_points': 250,\n",
            "                                'opensea_version': None,\n",
            "                                'owner': None,\n",
            "                                'payout_address': None,\n",
            "                                'schema_name': 'ERC721',\n",
            "                                'seller_fee_basis_points': 250,\n",
            "                                'symbol': 'BROKENOPENEDITIONBYMARCTUDISCO',\n",
            "                                'total_supply': '1'},\n",
            "             'background_color': 'ffffff',\n",
            "             'collection': {'banner_image_url': None,\n",
            "                            'chat_url': None,\n",
            "                            'created_date': '2020-12-11T18:56:47.639254',\n",
            "                            'default_to_fiat': False,\n",
            "                            'description': '',\n",
            "                            'dev_buyer_fee_basis_points': '0',\n",
            "                            'dev_seller_fee_basis_points': '0',\n",
            "                            'discord_url': None,\n",
            "                            'display_data': {'card_display_style': 'contain'},\n",
            "                            'external_url': None,\n",
            "                            'featured': False,\n",
            "                            'featured_image_url': None,\n",
            "                            'hidden': False,\n",
            "                            'image_url': 'https://lh3.googleusercontent.com/aLamJk2M-VjnaXyGYrBWhW_EZm3iAm8wbnB6L-hQk0wFyCjLCr-g3bjAGLIsEyMFpSJrgtsdikhS7IOZGS9jFagrhpi1TMqbLc-aIA=s120',\n",
            "                            'instagram_username': 'marctudisco',\n",
            "                            'is_subject_to_whitelist': False,\n",
            "                            'large_image_url': None,\n",
            "                            'medium_username': None,\n",
            "                            'name': 'Marc Tudisco',\n",
            "                            'only_proxied_transfers': False,\n",
            "                            'opensea_buyer_fee_basis_points': '0',\n",
            "                            'opensea_seller_fee_basis_points': '250',\n",
            "                            'payout_address': None,\n",
            "                            'require_email': False,\n",
            "                            'safelist_request_status': 'verified',\n",
            "                            'short_description': None,\n",
            "                            'slug': 'marc-tudisco',\n",
            "                            'telegram_url': None,\n",
            "                            'twitter_username': 'marc_tudisco',\n",
            "                            'wiki_url': None},\n",
            "             'creator': {'address': '0xa8a804aecdd1cc6eebd862bd98e9feca5d17bf5a',\n",
            "                         'config': '',\n",
            "                         'profile_img_url': 'https://storage.googleapis.com/opensea-static/opensea-profile/30.png',\n",
            "                         'user': None},\n",
            "             'decimals': 0,\n",
            "             'description': 'THOUGHTS by Marc Tudisco',\n",
            "             'external_link': 'https://niftygateway.com/#/',\n",
            "             'id': 17231404,\n",
            "             'image_original_url': 'https://res.cloudinary.com/nifty-gateway/image/upload/v1607636903/MarcTudisco/NIFTY01_-_Marc_Tudisco_mublg1.png',\n",
            "             'image_preview_url': 'https://lh3.googleusercontent.com/5MvKT5tVARYV1__9xY3BFLGY2YxHTV3YNYIlkvImvI-Ue-L0oP-9fRqVGkkHelVY2FWyjWQpjhfLGMewHY8o5EVI_fvwO7N7Z16-=s250',\n",
            "             'image_thumbnail_url': 'https://lh3.googleusercontent.com/5MvKT5tVARYV1__9xY3BFLGY2YxHTV3YNYIlkvImvI-Ue-L0oP-9fRqVGkkHelVY2FWyjWQpjhfLGMewHY8o5EVI_fvwO7N7Z16-=s128',\n",
            "             'image_url': 'https://lh3.googleusercontent.com/5MvKT5tVARYV1__9xY3BFLGY2YxHTV3YNYIlkvImvI-Ue-L0oP-9fRqVGkkHelVY2FWyjWQpjhfLGMewHY8o5EVI_fvwO7N7Z16-',\n",
            "             'is_presale': False,\n",
            "             'last_sale': {'asset': {'decimals': 0, 'token_id': '2600010034'},\n",
            "                           'asset_bundle': None,\n",
            "                           'auction_type': None,\n",
            "                           'created_date': '2021-07-20T01:03:29.311198',\n",
            "                           'event_timestamp': '2021-07-20T01:03:13',\n",
            "                           'event_type': 'successful',\n",
            "                           'payment_token': {'address': '0x0000000000000000000000000000000000000000',\n",
            "                                             'decimals': 18,\n",
            "                                             'eth_price': '1.000000000000000',\n",
            "                                             'id': 1,\n",
            "                                             'image_url': 'https://storage.opensea.io/files/6f8e2979d428180222796ff4a33ab929.svg',\n",
            "                                             'name': 'Ether',\n",
            "                                             'symbol': 'ETH',\n",
            "                                             'usd_price': '2937.989999999999782000'},\n",
            "                           'quantity': '1',\n",
            "                           'total_price': '1210000000000000000',\n",
            "                           'transaction': {'block_hash': '0xe99da3c8b6eeae4c0e9f5603832826a265283422abd6371b6a70e2e1720eebc3',\n",
            "                                           'block_number': '12860413',\n",
            "                                           'from_account': {'address': '0x0ec348908ee90adb46622bcb1ecea7f73213ff34',\n",
            "                                                            'config': '',\n",
            "                                                            'profile_img_url': 'https://storage.googleapis.com/opensea-static/opensea-profile/28.png',\n",
            "                                                            'user': {'username': 'Winner_Gagnon'}},\n",
            "                                           'id': 138118570,\n",
            "                                           'timestamp': '2021-07-20T01:03:13',\n",
            "                                           'to_account': {'address': '0x7be8076f4ea4a4ad08075c2508e481d6c946d12b',\n",
            "                                                          'config': 'verified',\n",
            "                                                          'profile_img_url': 'https://storage.googleapis.com/opensea-static/opensea-profile/22.png',\n",
            "                                                          'user': {'username': 'OpenSea-Orders'}},\n",
            "                                           'transaction_hash': '0x4d655e86a98dc3bfafcc65daf7564948c5f87a941e3062783bef11a2b3fb02df',\n",
            "                                           'transaction_index': '13'}},\n",
            "             'listing_date': None,\n",
            "             'name': 'THOUGHTS',\n",
            "             'num_sales': 3,\n",
            "             'owner': {'address': '0x0ec348908ee90adb46622bcb1ecea7f73213ff34',\n",
            "                       'config': '',\n",
            "                       'profile_img_url': 'https://storage.googleapis.com/opensea-static/opensea-profile/28.png',\n",
            "                       'user': {'username': 'Winner_Gagnon'}},\n",
            "             'permalink': 'https://opensea.io/assets/0x39a54d3484ecfe677640a99b803a01b23385a801/2600010034',\n",
            "             'sell_orders': [{'approved_on_chain': False,\n",
            "                              'base_price': '2210000000000000000',\n",
            "                              'bounty_multiple': '0.01',\n",
            "                              'calldata': '0x23b872dd0000000000000000000000000ec348908ee90adb46622bcb1ecea7f73213ff340000000000000000000000000000000000000000000000000000000000000000000000000000000000000000000000000000000000000000000000009af90132',\n",
            "                              'cancelled': False,\n",
            "                              'closing_date': None,\n",
            "                              'closing_extendable': False,\n",
            "                              'created_date': '2021-07-21T01:50:27.249479',\n",
            "                              'current_bounty': '22100000000000000',\n",
            "                              'current_price': '2210000000000000000',\n",
            "                              'exchange': '0x7be8076f4ea4a4ad08075c2508e481d6c946d12b',\n",
            "                              'expiration_time': 0,\n",
            "                              'extra': '0',\n",
            "                              'fee_method': 1,\n",
            "                              'fee_recipient': {'address': '0x5b3256965e7c3cf26e11fcaf296dfc8807c01073',\n",
            "                                                'config': 'verified',\n",
            "                                                'profile_img_url': 'https://storage.googleapis.com/opensea-static/opensea-profile/28.png',\n",
            "                                                'user': 3585},\n",
            "                              'finalized': False,\n",
            "                              'how_to_call': 0,\n",
            "                              'listing_time': 1626832117,\n",
            "                              'maker': {'address': '0x0ec348908ee90adb46622bcb1ecea7f73213ff34',\n",
            "                                        'config': '',\n",
            "                                        'profile_img_url': 'https://storage.googleapis.com/opensea-static/opensea-profile/28.png',\n",
            "                                        'user': 518633},\n",
            "                              'maker_protocol_fee': '0',\n",
            "                              'maker_referrer_fee': '0',\n",
            "                              'maker_relayer_fee': '250',\n",
            "                              'marked_invalid': False,\n",
            "                              'metadata': {'asset': {'address': '0x39a54d3484ecfe677640a99b803a01b23385a801',\n",
            "                                                     'id': '2600010034'},\n",
            "                                           'schema': 'ERC721'},\n",
            "                              'order_hash': '0xd11bbf05d746c7da9a48e716c42b7c9ce2a9e600eb7a0bde9f1e54d3112b25b1',\n",
            "                              'payment_token': '0x0000000000000000000000000000000000000000',\n",
            "                              'payment_token_contract': {'address': '0x0000000000000000000000000000000000000000',\n",
            "                                                         'decimals': 18,\n",
            "                                                         'eth_price': '1.000000000000000',\n",
            "                                                         'id': 1,\n",
            "                                                         'image_url': 'https://storage.opensea.io/files/6f8e2979d428180222796ff4a33ab929.svg',\n",
            "                                                         'name': 'Ether',\n",
            "                                                         'symbol': 'ETH',\n",
            "                                                         'usd_price': '2937.989999999999782000'},\n",
            "                              'prefixed_hash': '0xeb4310b9eef82a83696801b72c07b279b17e5839b4ba3808bcdc8c001492acd7',\n",
            "                              'quantity': '1',\n",
            "                              'r': '0x533b50a7a9aa9315b54efa6283808dbbdadbcd40889de971fad20daf7f441fd1',\n",
            "                              'replacement_pattern': '0x000000000000000000000000000000000000000000000000000000000000000000000000ffffffffffffffffffffffffffffffffffffffffffffffffffffffffffffffff0000000000000000000000000000000000000000000000000000000000000000',\n",
            "                              's': '0x770c60862a06341c13e1904fdf3a21e1c9062951139b3e2ef7d50ac038a87877',\n",
            "                              'sale_kind': 0,\n",
            "                              'salt': '89275319939251444994026070943308977993750344082098921741644049814849395040578',\n",
            "                              'side': 1,\n",
            "                              'static_extradata': '0x',\n",
            "                              'static_target': '0x0000000000000000000000000000000000000000',\n",
            "                              'taker': {'address': '0x0000000000000000000000000000000000000000',\n",
            "                                        'config': '',\n",
            "                                        'profile_img_url': 'https://storage.googleapis.com/opensea-static/opensea-profile/1.png',\n",
            "                                        'user': 1766},\n",
            "                              'taker_protocol_fee': '0',\n",
            "                              'taker_relayer_fee': '0',\n",
            "                              'target': '0x39a54d3484ecfe677640a99b803a01b23385a801',\n",
            "                              'v': 27}],\n",
            "             'token_id': '2600010034',\n",
            "             'token_metadata': 'https://api.niftygateway.com/marctudiscoopen/2600010034',\n",
            "             'top_bid': None,\n",
            "             'traits': [],\n",
            "             'transfer_fee': None,\n",
            "             'transfer_fee_payment_token': None}]}\n"
          ]
        }
      ]
    },
    {
      "cell_type": "markdown",
      "metadata": {
        "id": "RbVxU21mo5hk"
      },
      "source": [
        "## Extract JSON data into Pandas dataframe"
      ]
    },
    {
      "cell_type": "markdown",
      "metadata": {
        "id": "XTsvCc0Eo2es"
      },
      "source": [
        "## Filter Required fields from data\n",
        "\n",
        "Remove useless fields from pandas dataframe"
      ]
    },
    {
      "cell_type": "markdown",
      "metadata": {
        "id": "M8JNuNmipFEN"
      },
      "source": [
        "## Save pandas dataframe in a csv\n",
        "\n",
        "append data to CSV: https://stackoverflow.com/a/17975690/11005638"
      ]
    }
  ]
}