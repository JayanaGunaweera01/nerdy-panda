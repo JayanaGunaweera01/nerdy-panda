{
  "nbformat": 4,
  "nbformat_minor": 0,
  "metadata": {
    "colab": {
      "name": "Trends-DataAnalysis.ipynb",
      "provenance": [],
      "authorship_tag": "ABX9TyO3qs1HtTQAzaX5SUzg2ZwE",
      "include_colab_link": true
    },
    "kernelspec": {
      "name": "python3",
      "display_name": "Python 3"
    },
    "language_info": {
      "name": "python"
    }
  },
  "cells": [
    {
      "cell_type": "markdown",
      "metadata": {
        "id": "view-in-github",
        "colab_type": "text"
      },
      "source": [
        "<a href=\"https://colab.research.google.com/github/dinuka-rp/nerdy-panda/blob/main/Prototype/Trends_DataAnalysis.ipynb\" target=\"_parent\"><img src=\"https://colab.research.google.com/assets/colab-badge.svg\" alt=\"Open In Colab\"/></a>"
      ]
    },
    {
      "cell_type": "markdown",
      "source": [
        "# Pre process Text"
      ],
      "metadata": {
        "id": "p5AOIK9cAfaV"
      }
    },
    {
      "cell_type": "markdown",
      "source": [
        "## Identify if the text is English"
      ],
      "metadata": {
        "id": "Woeg-2WqAlUD"
      }
    },
    {
      "cell_type": "code",
      "source": [
        ""
      ],
      "metadata": {
        "id": "XWXr5K3RAfKY"
      },
      "execution_count": null,
      "outputs": []
    },
    {
      "cell_type": "markdown",
      "source": [
        "## Split Hashtag"
      ],
      "metadata": {
        "id": "e_j1PTapH7ho"
      }
    },
    {
      "cell_type": "code",
      "source": [
        ""
      ],
      "metadata": {
        "id": "qIhz4-SoH-k5"
      },
      "execution_count": null,
      "outputs": []
    },
    {
      "cell_type": "markdown",
      "metadata": {
        "id": "cBd3tn-Yp1WL"
      },
      "source": [
        "# Fetch Twitter Trends data from Twitter API"
      ]
    },
    {
      "cell_type": "code",
      "source": [
        "auth_token = \"AAAAAAAAAAAAAAAAAAAAAEAvTAEAAAAAQeWT9FEvcpxz3Ebg5IS45oASCjM%3DT67USoXi0iCtPoLRMHpDGQw3unxzJlEXHY2CZWR04UcCvtTcmn\""
      ],
      "metadata": {
        "id": "RkXD_unn515d"
      },
      "execution_count": 1,
      "outputs": []
    },
    {
      "cell_type": "code",
      "metadata": {
        "id": "a5qCettBpb1l",
        "colab": {
          "base_uri": "https://localhost:8080/"
        },
        "outputId": "9adcb4fa-b805-4ad4-c9b4-0e1733f330fa"
      },
      "source": [
        "import requests\n",
        "\n",
        "def fetch_twitter_trends(woeid=1):\n",
        "\n",
        "  url = \"https://api.twitter.com/1.1/trends/place.json?id=\" + str(woeid)\n",
        "\n",
        "  payload={}\n",
        "  headers = {\n",
        "    'Authorization': 'Bearer ' + auth_token,\n",
        "    'Cookie': 'guest_id=v1%3A164302265238123185; guest_id_ads=v1%3A164302265238123185; guest_id_marketing=v1%3A164302265238123185; personalization_id=\"v1_7SOW+P3aER3WzxCMuCXiWw==\"'\n",
        "  }\n",
        "\n",
        "  response = requests.request(\"GET\", url, headers=headers, data=payload)\n",
        "\n",
        "  if response.status_code != 200:\n",
        "    print('error')\n",
        "\n",
        "  trends = response.json()[0]['trends']\n",
        "  # print(trends)\n",
        "  return trends\n",
        "\n",
        "twitter_trends = fetch_twitter_trends()\n",
        "# twitter_trends = fetch_twitter_trends(woeid=2282863)\n",
        "\n",
        "print(twitter_trends)"
      ],
      "execution_count": 16,
      "outputs": [
        {
          "output_type": "stream",
          "name": "stdout",
          "text": [
            "[{'name': 'Scooby', 'url': 'http://twitter.com/search?q=Scooby', 'promoted_content': None, 'query': 'Scooby', 'tweet_volume': 269096}, {'name': 'Scooby', 'url': 'http://twitter.com/search?q=Scooby', 'promoted_content': None, 'query': 'Scooby', 'tweet_volume': 269096}, {'name': 'Rodrigo', 'url': 'http://twitter.com/search?q=Rodrigo', 'promoted_content': None, 'query': 'Rodrigo', 'tweet_volume': 370546}, {'name': 'Lina', 'url': 'http://twitter.com/search?q=Lina', 'promoted_content': None, 'query': 'Lina', 'tweet_volume': 100963}, {'name': 'Brunna', 'url': 'http://twitter.com/search?q=Brunna', 'promoted_content': None, 'query': 'Brunna', 'tweet_volume': 63427}, {'name': 'アルセウス', 'url': 'http://twitter.com/search?q=%E3%82%A2%E3%83%AB%E3%82%BB%E3%82%A6%E3%82%B9', 'promoted_content': None, 'query': '%E3%82%A2%E3%83%AB%E3%82%BB%E3%82%A6%E3%82%B9', 'tweet_volume': 359588}, {'name': 'Silvio Santos', 'url': 'http://twitter.com/search?q=%22Silvio+Santos%22', 'promoted_content': None, 'query': '%22Silvio+Santos%22', 'tweet_volume': 15751}, {'name': '#ProvaDoLider', 'url': 'http://twitter.com/search?q=%23ProvaDoLider', 'promoted_content': None, 'query': '%23ProvaDoLider', 'tweet_volume': 17663}, {'name': 'Wiggins', 'url': 'http://twitter.com/search?q=Wiggins', 'promoted_content': None, 'query': 'Wiggins', 'tweet_volume': 97599}, {'name': '#異性にモテない原因一覧表', 'url': 'http://twitter.com/search?q=%23%E7%95%B0%E6%80%A7%E3%81%AB%E3%83%A2%E3%83%86%E3%81%AA%E3%81%84%E5%8E%9F%E5%9B%A0%E4%B8%80%E8%A6%A7%E8%A1%A8', 'promoted_content': None, 'query': '%23%E7%95%B0%E6%80%A7%E3%81%AB%E3%83%A2%E3%83%86%E3%81%AA%E3%81%84%E5%8E%9F%E5%9B%A0%E4%B8%80%E8%A6%A7%E8%A1%A8', 'tweet_volume': None}, {'name': 'ブルボン', 'url': 'http://twitter.com/search?q=%E3%83%96%E3%83%AB%E3%83%9C%E3%83%B3', 'promoted_content': None, 'query': '%E3%83%96%E3%83%AB%E3%83%9C%E3%83%B3', 'tweet_volume': 68009}, {'name': '#BoysDontCry', 'url': 'http://twitter.com/search?q=%23BoysDontCry', 'promoted_content': None, 'query': '%23BoysDontCry', 'tweet_volume': 252771}, {'name': '#iHeartAwards', 'url': 'http://twitter.com/search?q=%23iHeartAwards', 'promoted_content': None, 'query': '%23iHeartAwards', 'tweet_volume': 2809408}, {'name': 'Chile', 'url': 'http://twitter.com/search?q=Chile', 'promoted_content': None, 'query': 'Chile', 'tweet_volume': 263423}, {'name': 'Tadeu narrando', 'url': 'http://twitter.com/search?q=%22Tadeu+narrando%22', 'promoted_content': None, 'query': '%22Tadeu+narrando%22', 'tweet_volume': 31184}, {'name': 'O Tadeu', 'url': 'http://twitter.com/search?q=%22O+Tadeu%22', 'promoted_content': None, 'query': '%22O+Tadeu%22', 'tweet_volume': 59648}, {'name': '26 X', 'url': 'http://twitter.com/search?q=%2226+X%22', 'promoted_content': None, 'query': '%2226+X%22', 'tweet_volume': None}, {'name': 'Anitta', 'url': 'http://twitter.com/search?q=Anitta', 'promoted_content': None, 'query': 'Anitta', 'tweet_volume': 307871}, {'name': 'Douglas e Arthur', 'url': 'http://twitter.com/search?q=%22Douglas+e+Arthur%22', 'promoted_content': None, 'query': '%22Douglas+e+Arthur%22', 'tweet_volume': 20991}, {'name': '#ReleaseTheTranscript', 'url': 'http://twitter.com/search?q=%23ReleaseTheTranscript', 'promoted_content': None, 'query': '%23ReleaseTheTranscript', 'tweet_volume': 50213}, {'name': 'Argentina', 'url': 'http://twitter.com/search?q=Argentina', 'promoted_content': None, 'query': 'Argentina', 'tweet_volume': 251081}, {'name': 'Fajardo', 'url': 'http://twitter.com/search?q=Fajardo', 'promoted_content': None, 'query': 'Fajardo', 'tweet_volume': 50176}, {'name': 'PABLO MoonlightReveal', 'url': 'http://twitter.com/search?q=%22PABLO+MoonlightReveal%22', 'promoted_content': None, 'query': '%22PABLO+MoonlightReveal%22', 'tweet_volume': 120672}, {'name': 'callahan', 'url': 'http://twitter.com/search?q=callahan', 'promoted_content': None, 'query': 'callahan', 'tweet_volume': None}, {'name': 'Lucas', 'url': 'http://twitter.com/search?q=Lucas', 'promoted_content': None, 'query': 'Lucas', 'tweet_volume': 285211}, {'name': 'De Paul', 'url': 'http://twitter.com/search?q=%22De+Paul%22', 'promoted_content': None, 'query': '%22De+Paul%22', 'tweet_volume': 42202}, {'name': 'Berrettini', 'url': 'http://twitter.com/search?q=Berrettini', 'promoted_content': None, 'query': 'Berrettini', 'tweet_volume': 12394}, {'name': 'VAI JADEEEEE', 'url': 'http://twitter.com/search?q=%22VAI+JADEEEEE%22', 'promoted_content': None, 'query': '%22VAI+JADEEEEE%22', 'tweet_volume': 11610}, {'name': 'とうらぶっち', 'url': 'http://twitter.com/search?q=%E3%81%A8%E3%81%86%E3%82%89%E3%81%B6%E3%81%A3%E3%81%A1', 'promoted_content': None, 'query': '%E3%81%A8%E3%81%86%E3%82%89%E3%81%B6%E3%81%A3%E3%81%A1', 'tweet_volume': None}, {'name': 'xuxa', 'url': 'http://twitter.com/search?q=xuxa', 'promoted_content': None, 'query': 'xuxa', 'tweet_volume': None}, {'name': 'Jamaica', 'url': 'http://twitter.com/search?q=Jamaica', 'promoted_content': None, 'query': 'Jamaica', 'tweet_volume': 39389}, {'name': 'Qatar', 'url': 'http://twitter.com/search?q=Qatar', 'promoted_content': None, 'query': 'Qatar', 'tweet_volume': 52127}, {'name': 'nate jacobs', 'url': 'http://twitter.com/search?q=%22nate+jacobs%22', 'promoted_content': None, 'query': '%22nate+jacobs%22', 'tweet_volume': 87335}, {'name': 'george lore', 'url': 'http://twitter.com/search?q=%22george+lore%22', 'promoted_content': None, 'query': '%22george+lore%22', 'tweet_volume': None}, {'name': 'Jequiti', 'url': 'http://twitter.com/search?q=Jequiti', 'promoted_content': None, 'query': 'Jequiti', 'tweet_volume': None}, {'name': 'あと半日', 'url': 'http://twitter.com/search?q=%E3%81%82%E3%81%A8%E5%8D%8A%E6%97%A5', 'promoted_content': None, 'query': '%E3%81%82%E3%81%A8%E5%8D%8A%E6%97%A5', 'tweet_volume': None}, {'name': 'Eslovênia', 'url': 'http://twitter.com/search?q=Eslov%C3%AAnia', 'promoted_content': None, 'query': 'Eslov%C3%AAnia', 'tweet_volume': 88202}, {'name': 'Costa Rica', 'url': 'http://twitter.com/search?q=%22Costa+Rica%22', 'promoted_content': None, 'query': '%22Costa+Rica%22', 'tweet_volume': 17441}, {'name': 'vargas', 'url': 'http://twitter.com/search?q=vargas', 'promoted_content': None, 'query': 'vargas', 'tweet_volume': 20632}, {'name': 'フラッシュ', 'url': 'http://twitter.com/search?q=%E3%83%95%E3%83%A9%E3%83%83%E3%82%B7%E3%83%A5', 'promoted_content': None, 'query': '%E3%83%95%E3%83%A9%E3%83%83%E3%82%B7%E3%83%A5', 'tweet_volume': 31053}, {'name': '조기퇴근', 'url': 'http://twitter.com/search?q=%EC%A1%B0%EA%B8%B0%ED%87%B4%EA%B7%BC', 'promoted_content': None, 'query': '%EC%A1%B0%EA%B8%B0%ED%87%B4%EA%B7%BC', 'tweet_volume': None}, {'name': 'Volpi', 'url': 'http://twitter.com/search?q=Volpi', 'promoted_content': None, 'query': 'Volpi', 'tweet_volume': None}, {'name': 'Seks Tiyatrosu', 'url': 'http://twitter.com/search?q=%22Seks+Tiyatrosu%22', 'promoted_content': None, 'query': '%22Seks+Tiyatrosu%22', 'tweet_volume': None}, {'name': 'Tata', 'url': 'http://twitter.com/search?q=Tata', 'promoted_content': None, 'query': 'Tata', 'tweet_volume': 77091}, {'name': 'Lasarte', 'url': 'http://twitter.com/search?q=Lasarte', 'promoted_content': None, 'query': 'Lasarte', 'tweet_volume': None}, {'name': 'Not Wordle', 'url': 'http://twitter.com/search?q=%22Not+Wordle%22', 'promoted_content': None, 'query': '%22Not+Wordle%22', 'tweet_volume': 42006}, {'name': 'NCT LAB', 'url': 'http://twitter.com/search?q=%22NCT+LAB%22', 'promoted_content': None, 'query': '%22NCT+LAB%22', 'tweet_volume': 131269}, {'name': 'Calama', 'url': 'http://twitter.com/search?q=Calama', 'promoted_content': None, 'query': 'Calama', 'tweet_volume': 21184}, {'name': 'umji', 'url': 'http://twitter.com/search?q=umji', 'promoted_content': None, 'query': 'umji', 'tweet_volume': 25019}, {'name': 'Embiid', 'url': 'http://twitter.com/search?q=Embiid', 'promoted_content': None, 'query': 'Embiid', 'tweet_volume': 41369}]\n"
          ]
        }
      ]
    },
    {
      "cell_type": "markdown",
      "source": [
        "test adding fields to dictionary"
      ],
      "metadata": {
        "id": "BD6djqS9_8w1"
      }
    },
    {
      "cell_type": "code",
      "source": [
        "twitter_trends[0]['random_field'] = \"random_string\"\n",
        "\n",
        "print(twitter_trends[0])"
      ],
      "metadata": {
        "colab": {
          "base_uri": "https://localhost:8080/"
        },
        "id": "m4Sn4Y7eA5H-",
        "outputId": "2b9241ed-fa45-4cd7-f08d-cbcd53766cad"
      },
      "execution_count": 17,
      "outputs": [
        {
          "output_type": "stream",
          "name": "stdout",
          "text": [
            "{'name': 'Scooby', 'url': 'http://twitter.com/search?q=Scooby', 'promoted_content': None, 'query': 'Scooby', 'tweet_volume': 269096, 'random_field': 'random_string'}\n"
          ]
        }
      ]
    },
    {
      "cell_type": "markdown",
      "source": [
        "Analyze available data"
      ],
      "metadata": {
        "id": "zsLlOb4RCuyl"
      }
    },
    {
      "cell_type": "code",
      "source": [
        "class bcolors:\n",
        "    HEADER = '\\033[95m'\n",
        "    OKBLUE = '\\033[94m'\n",
        "    OKCYAN = '\\033[96m'\n",
        "    OKGREEN = '\\033[92m'\n",
        "    WARNING = '\\033[93m'\n",
        "    FAIL = '\\033[91m'\n",
        "    ENDC = '\\033[0m'\n",
        "    BOLD = '\\033[1m'\n",
        "    UNDERLINE = '\\033[4m'\n",
        "\n",
        "# print(f\"{bcolors.WARNING}Warning: No active frommets remain. Continue?{bcolors.ENDC}\")\n",
        "# print(bcolors.WARNING + \"Warning: No active frommets remain. Continue?\" + bcolors.ENDC)"
      ],
      "metadata": {
        "id": "V49uMzPQAvXN"
      },
      "execution_count": 18,
      "outputs": []
    },
    {
      "cell_type": "code",
      "source": [
        "for trend in twitter_trends:\n",
        "  if trend['tweet_volume'] == None:\n",
        "    print(f\"{bcolors.WARNING}{trend}{bcolors.ENDC}\")\n",
        "  else:\n",
        "    # print(f\"{bcolors.OKGREEN}{trend}{bcolors.ENDC}\")\n",
        "      print(trend)"
      ],
      "metadata": {
        "colab": {
          "base_uri": "https://localhost:8080/"
        },
        "id": "9FNmOcjoABd4",
        "outputId": "a2eda590-322c-4cb6-ea9a-798e45a7e846"
      },
      "execution_count": 19,
      "outputs": [
        {
          "output_type": "stream",
          "name": "stdout",
          "text": [
            "{'name': 'Scooby', 'url': 'http://twitter.com/search?q=Scooby', 'promoted_content': None, 'query': 'Scooby', 'tweet_volume': 269096, 'random_field': 'random_string'}\n",
            "{'name': 'Scooby', 'url': 'http://twitter.com/search?q=Scooby', 'promoted_content': None, 'query': 'Scooby', 'tweet_volume': 269096}\n",
            "{'name': 'Rodrigo', 'url': 'http://twitter.com/search?q=Rodrigo', 'promoted_content': None, 'query': 'Rodrigo', 'tweet_volume': 370546}\n",
            "{'name': 'Lina', 'url': 'http://twitter.com/search?q=Lina', 'promoted_content': None, 'query': 'Lina', 'tweet_volume': 100963}\n",
            "{'name': 'Brunna', 'url': 'http://twitter.com/search?q=Brunna', 'promoted_content': None, 'query': 'Brunna', 'tweet_volume': 63427}\n",
            "{'name': 'アルセウス', 'url': 'http://twitter.com/search?q=%E3%82%A2%E3%83%AB%E3%82%BB%E3%82%A6%E3%82%B9', 'promoted_content': None, 'query': '%E3%82%A2%E3%83%AB%E3%82%BB%E3%82%A6%E3%82%B9', 'tweet_volume': 359588}\n",
            "{'name': 'Silvio Santos', 'url': 'http://twitter.com/search?q=%22Silvio+Santos%22', 'promoted_content': None, 'query': '%22Silvio+Santos%22', 'tweet_volume': 15751}\n",
            "{'name': '#ProvaDoLider', 'url': 'http://twitter.com/search?q=%23ProvaDoLider', 'promoted_content': None, 'query': '%23ProvaDoLider', 'tweet_volume': 17663}\n",
            "{'name': 'Wiggins', 'url': 'http://twitter.com/search?q=Wiggins', 'promoted_content': None, 'query': 'Wiggins', 'tweet_volume': 97599}\n",
            "\u001b[93m{'name': '#異性にモテない原因一覧表', 'url': 'http://twitter.com/search?q=%23%E7%95%B0%E6%80%A7%E3%81%AB%E3%83%A2%E3%83%86%E3%81%AA%E3%81%84%E5%8E%9F%E5%9B%A0%E4%B8%80%E8%A6%A7%E8%A1%A8', 'promoted_content': None, 'query': '%23%E7%95%B0%E6%80%A7%E3%81%AB%E3%83%A2%E3%83%86%E3%81%AA%E3%81%84%E5%8E%9F%E5%9B%A0%E4%B8%80%E8%A6%A7%E8%A1%A8', 'tweet_volume': None}\u001b[0m\n",
            "{'name': 'ブルボン', 'url': 'http://twitter.com/search?q=%E3%83%96%E3%83%AB%E3%83%9C%E3%83%B3', 'promoted_content': None, 'query': '%E3%83%96%E3%83%AB%E3%83%9C%E3%83%B3', 'tweet_volume': 68009}\n",
            "{'name': '#BoysDontCry', 'url': 'http://twitter.com/search?q=%23BoysDontCry', 'promoted_content': None, 'query': '%23BoysDontCry', 'tweet_volume': 252771}\n",
            "{'name': '#iHeartAwards', 'url': 'http://twitter.com/search?q=%23iHeartAwards', 'promoted_content': None, 'query': '%23iHeartAwards', 'tweet_volume': 2809408}\n",
            "{'name': 'Chile', 'url': 'http://twitter.com/search?q=Chile', 'promoted_content': None, 'query': 'Chile', 'tweet_volume': 263423}\n",
            "{'name': 'Tadeu narrando', 'url': 'http://twitter.com/search?q=%22Tadeu+narrando%22', 'promoted_content': None, 'query': '%22Tadeu+narrando%22', 'tweet_volume': 31184}\n",
            "{'name': 'O Tadeu', 'url': 'http://twitter.com/search?q=%22O+Tadeu%22', 'promoted_content': None, 'query': '%22O+Tadeu%22', 'tweet_volume': 59648}\n",
            "\u001b[93m{'name': '26 X', 'url': 'http://twitter.com/search?q=%2226+X%22', 'promoted_content': None, 'query': '%2226+X%22', 'tweet_volume': None}\u001b[0m\n",
            "{'name': 'Anitta', 'url': 'http://twitter.com/search?q=Anitta', 'promoted_content': None, 'query': 'Anitta', 'tweet_volume': 307871}\n",
            "{'name': 'Douglas e Arthur', 'url': 'http://twitter.com/search?q=%22Douglas+e+Arthur%22', 'promoted_content': None, 'query': '%22Douglas+e+Arthur%22', 'tweet_volume': 20991}\n",
            "{'name': '#ReleaseTheTranscript', 'url': 'http://twitter.com/search?q=%23ReleaseTheTranscript', 'promoted_content': None, 'query': '%23ReleaseTheTranscript', 'tweet_volume': 50213}\n",
            "{'name': 'Argentina', 'url': 'http://twitter.com/search?q=Argentina', 'promoted_content': None, 'query': 'Argentina', 'tweet_volume': 251081}\n",
            "{'name': 'Fajardo', 'url': 'http://twitter.com/search?q=Fajardo', 'promoted_content': None, 'query': 'Fajardo', 'tweet_volume': 50176}\n",
            "{'name': 'PABLO MoonlightReveal', 'url': 'http://twitter.com/search?q=%22PABLO+MoonlightReveal%22', 'promoted_content': None, 'query': '%22PABLO+MoonlightReveal%22', 'tweet_volume': 120672}\n",
            "\u001b[93m{'name': 'callahan', 'url': 'http://twitter.com/search?q=callahan', 'promoted_content': None, 'query': 'callahan', 'tweet_volume': None}\u001b[0m\n",
            "{'name': 'Lucas', 'url': 'http://twitter.com/search?q=Lucas', 'promoted_content': None, 'query': 'Lucas', 'tweet_volume': 285211}\n",
            "{'name': 'De Paul', 'url': 'http://twitter.com/search?q=%22De+Paul%22', 'promoted_content': None, 'query': '%22De+Paul%22', 'tweet_volume': 42202}\n",
            "{'name': 'Berrettini', 'url': 'http://twitter.com/search?q=Berrettini', 'promoted_content': None, 'query': 'Berrettini', 'tweet_volume': 12394}\n",
            "{'name': 'VAI JADEEEEE', 'url': 'http://twitter.com/search?q=%22VAI+JADEEEEE%22', 'promoted_content': None, 'query': '%22VAI+JADEEEEE%22', 'tweet_volume': 11610}\n",
            "\u001b[93m{'name': 'とうらぶっち', 'url': 'http://twitter.com/search?q=%E3%81%A8%E3%81%86%E3%82%89%E3%81%B6%E3%81%A3%E3%81%A1', 'promoted_content': None, 'query': '%E3%81%A8%E3%81%86%E3%82%89%E3%81%B6%E3%81%A3%E3%81%A1', 'tweet_volume': None}\u001b[0m\n",
            "\u001b[93m{'name': 'xuxa', 'url': 'http://twitter.com/search?q=xuxa', 'promoted_content': None, 'query': 'xuxa', 'tweet_volume': None}\u001b[0m\n",
            "{'name': 'Jamaica', 'url': 'http://twitter.com/search?q=Jamaica', 'promoted_content': None, 'query': 'Jamaica', 'tweet_volume': 39389}\n",
            "{'name': 'Qatar', 'url': 'http://twitter.com/search?q=Qatar', 'promoted_content': None, 'query': 'Qatar', 'tweet_volume': 52127}\n",
            "{'name': 'nate jacobs', 'url': 'http://twitter.com/search?q=%22nate+jacobs%22', 'promoted_content': None, 'query': '%22nate+jacobs%22', 'tweet_volume': 87335}\n",
            "\u001b[93m{'name': 'george lore', 'url': 'http://twitter.com/search?q=%22george+lore%22', 'promoted_content': None, 'query': '%22george+lore%22', 'tweet_volume': None}\u001b[0m\n",
            "\u001b[93m{'name': 'Jequiti', 'url': 'http://twitter.com/search?q=Jequiti', 'promoted_content': None, 'query': 'Jequiti', 'tweet_volume': None}\u001b[0m\n",
            "\u001b[93m{'name': 'あと半日', 'url': 'http://twitter.com/search?q=%E3%81%82%E3%81%A8%E5%8D%8A%E6%97%A5', 'promoted_content': None, 'query': '%E3%81%82%E3%81%A8%E5%8D%8A%E6%97%A5', 'tweet_volume': None}\u001b[0m\n",
            "{'name': 'Eslovênia', 'url': 'http://twitter.com/search?q=Eslov%C3%AAnia', 'promoted_content': None, 'query': 'Eslov%C3%AAnia', 'tweet_volume': 88202}\n",
            "{'name': 'Costa Rica', 'url': 'http://twitter.com/search?q=%22Costa+Rica%22', 'promoted_content': None, 'query': '%22Costa+Rica%22', 'tweet_volume': 17441}\n",
            "{'name': 'vargas', 'url': 'http://twitter.com/search?q=vargas', 'promoted_content': None, 'query': 'vargas', 'tweet_volume': 20632}\n",
            "{'name': 'フラッシュ', 'url': 'http://twitter.com/search?q=%E3%83%95%E3%83%A9%E3%83%83%E3%82%B7%E3%83%A5', 'promoted_content': None, 'query': '%E3%83%95%E3%83%A9%E3%83%83%E3%82%B7%E3%83%A5', 'tweet_volume': 31053}\n",
            "\u001b[93m{'name': '조기퇴근', 'url': 'http://twitter.com/search?q=%EC%A1%B0%EA%B8%B0%ED%87%B4%EA%B7%BC', 'promoted_content': None, 'query': '%EC%A1%B0%EA%B8%B0%ED%87%B4%EA%B7%BC', 'tweet_volume': None}\u001b[0m\n",
            "\u001b[93m{'name': 'Volpi', 'url': 'http://twitter.com/search?q=Volpi', 'promoted_content': None, 'query': 'Volpi', 'tweet_volume': None}\u001b[0m\n",
            "\u001b[93m{'name': 'Seks Tiyatrosu', 'url': 'http://twitter.com/search?q=%22Seks+Tiyatrosu%22', 'promoted_content': None, 'query': '%22Seks+Tiyatrosu%22', 'tweet_volume': None}\u001b[0m\n",
            "{'name': 'Tata', 'url': 'http://twitter.com/search?q=Tata', 'promoted_content': None, 'query': 'Tata', 'tweet_volume': 77091}\n",
            "\u001b[93m{'name': 'Lasarte', 'url': 'http://twitter.com/search?q=Lasarte', 'promoted_content': None, 'query': 'Lasarte', 'tweet_volume': None}\u001b[0m\n",
            "{'name': 'Not Wordle', 'url': 'http://twitter.com/search?q=%22Not+Wordle%22', 'promoted_content': None, 'query': '%22Not+Wordle%22', 'tweet_volume': 42006}\n",
            "{'name': 'NCT LAB', 'url': 'http://twitter.com/search?q=%22NCT+LAB%22', 'promoted_content': None, 'query': '%22NCT+LAB%22', 'tweet_volume': 131269}\n",
            "{'name': 'Calama', 'url': 'http://twitter.com/search?q=Calama', 'promoted_content': None, 'query': 'Calama', 'tweet_volume': 21184}\n",
            "{'name': 'umji', 'url': 'http://twitter.com/search?q=umji', 'promoted_content': None, 'query': 'umji', 'tweet_volume': 25019}\n",
            "{'name': 'Embiid', 'url': 'http://twitter.com/search?q=Embiid', 'promoted_content': None, 'query': 'Embiid', 'tweet_volume': 41369}\n"
          ]
        }
      ]
    },
    {
      "cell_type": "markdown",
      "source": [
        "Add all trends words into a list"
      ],
      "metadata": {
        "id": "5VmGPKEVAzUP"
      }
    },
    {
      "cell_type": "code",
      "source": [
        "bag_of_trending_words = []\n",
        "\n",
        "for trend in twitter_trends:\n",
        "  if trend['name'] not in bag_of_trending_words :\n",
        "    # ignore duplicates (twitter API bug? sometimes trends are duplicated) \n",
        "    if trend['name'][0:1] != '#':\n",
        "      bag_of_trending_words.append(trend['name'])\n",
        "    # else:\n",
        "      # split hashtag and add to array\n",
        "\n",
        "print(bag_of_trending_words)"
      ],
      "metadata": {
        "colab": {
          "base_uri": "https://localhost:8080/"
        },
        "id": "KTWPtm23C2Hp",
        "outputId": "5f0fd870-4db9-42e9-8619-cbeb83805a51"
      },
      "execution_count": 29,
      "outputs": [
        {
          "output_type": "stream",
          "name": "stdout",
          "text": [
            "['Scooby', 'Rodrigo', 'Lina', 'Brunna', 'アルセウス', 'Silvio Santos', 'Wiggins', 'ブルボン', 'Chile', 'Tadeu narrando', 'O Tadeu', '26 X', 'Anitta', 'Douglas e Arthur', 'Argentina', 'Fajardo', 'PABLO MoonlightReveal', 'callahan', 'Lucas', 'De Paul', 'Berrettini', 'VAI JADEEEEE', 'とうらぶっち', 'xuxa', 'Jamaica', 'Qatar', 'nate jacobs', 'george lore', 'Jequiti', 'あと半日', 'Eslovênia', 'Costa Rica', 'vargas', 'フラッシュ', '조기퇴근', 'Volpi', 'Seks Tiyatrosu', 'Tata', 'Lasarte', 'Not Wordle', 'NCT LAB', 'Calama', 'umji', 'Embiid']\n"
          ]
        }
      ]
    },
    {
      "cell_type": "markdown",
      "source": [
        "replace url with the sentiment of tweets (top 8) from the url"
      ],
      "metadata": {
        "id": "I2aGqfPyzAds"
      }
    },
    {
      "cell_type": "code",
      "source": [
        "# TODO\n",
        "\n",
        "# remove trends with negative sentiment"
      ],
      "metadata": {
        "id": "fzWpg6k3zKTt"
      },
      "execution_count": null,
      "outputs": []
    },
    {
      "cell_type": "markdown",
      "source": [
        "make use of tweet volume? and sentiment score?\n",
        "\n",
        "use these as a bias/ score?"
      ],
      "metadata": {
        "id": "xt91TvfazTta"
      }
    },
    {
      "cell_type": "code",
      "source": [
        ""
      ],
      "metadata": {
        "id": "gHCbxFrQzUmP"
      },
      "execution_count": null,
      "outputs": []
    },
    {
      "cell_type": "markdown",
      "source": [
        "# Fetch Tweets from Twitter"
      ],
      "metadata": {
        "id": "1ocIrSKvmuzs"
      }
    },
    {
      "cell_type": "markdown",
      "source": [
        "## Parse Tweets\n",
        "\n"
      ],
      "metadata": {
        "id": "mgah3lgnmyQg"
      }
    },
    {
      "cell_type": "markdown",
      "source": [
        "# Fetch Python Trends"
      ],
      "metadata": {
        "id": "E03MdUVTS8MX"
      }
    },
    {
      "cell_type": "markdown",
      "source": [
        "# Parse Websites/ News sites"
      ],
      "metadata": {
        "id": "xuHVYxAfS_Kq"
      }
    }
  ]
}