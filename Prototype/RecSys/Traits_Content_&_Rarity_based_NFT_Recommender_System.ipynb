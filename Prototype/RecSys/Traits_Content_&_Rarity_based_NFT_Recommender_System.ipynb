{
  "cells": [
    {
      "cell_type": "markdown",
      "metadata": {
        "id": "view-in-github",
        "colab_type": "text"
      },
      "source": [
        "<a href=\"https://colab.research.google.com/github/dinuka-rp/nerdy-panda/blob/main/Prototype/RecSys/Traits_Content_%26_Rarity_based_NFT_Recommender_System.ipynb\" target=\"_parent\"><img src=\"https://colab.research.google.com/assets/colab-badge.svg\" alt=\"Open In Colab\"/></a>"
      ]
    },
    {
      "cell_type": "markdown",
      "metadata": {
        "id": "dRFsDN25De-H"
      },
      "source": [
        "# Traits Content-based NFT Recommender System\n",
        "\n",
        "https://towardsdatascience.com/how-to-build-from-scratch-a-content-based-movie-recommender-with-natural-language-processing-25ad400eb243\n",
        "\n",
        "Check this later (not that different): https://medium.com/dataseries/recommendation-system-in-python-4d4cf6d33166 , https://gist.github.com/deansublett/06f010a886831f9dac5b1f9bce4f4229?source=post_page---------------------------"
      ]
    },
    {
      "cell_type": "code",
      "execution_count": null,
      "metadata": {
        "id": "pqIK6p1N9BcM"
      },
      "outputs": [],
      "source": [
        "# !pip install rake-nltk"
      ]
    },
    {
      "cell_type": "code",
      "execution_count": null,
      "metadata": {
        "id": "NP40xztN7UMv"
      },
      "outputs": [],
      "source": [
        "import pandas as pd\n",
        "# from rake_nltk import Rake\n",
        "import numpy as np\n",
        "from sklearn.metrics.pairwise import cosine_similarity\n",
        "from sklearn.feature_extraction.text import CountVectorizer\n",
        "# import nltk\n",
        "\n",
        "# nltk.download('stopwords')\n",
        "# from nltk.corpus import stopwords\n",
        "# nltk.download('punkt')"
      ]
    },
    {
      "cell_type": "markdown",
      "metadata": {
        "id": "_JyF3MVS8UMl"
      },
      "source": [
        "## Get Dataset"
      ]
    },
    {
      "cell_type": "code",
      "execution_count": null,
      "metadata": {
        "colab": {
          "base_uri": "https://localhost:8080/",
          "height": 404
        },
        "id": "NGiaUABT8RS9",
        "outputId": "c9d45340-6d8a-4661-a0ec-a4ec21d117a6"
      },
      "outputs": [
        {
          "name": "stdout",
          "output_type": "stream",
          "text": [
            "Mounted at drive\n"
          ]
        },
        {
          "data": {
            "text/html": [
              "\n",
              "  <div id=\"df-22974806-4a47-454b-9657-16018f46919b\">\n",
              "    <div class=\"colab-df-container\">\n",
              "      <div>\n",
              "<style scoped>\n",
              "    .dataframe tbody tr th:only-of-type {\n",
              "        vertical-align: middle;\n",
              "    }\n",
              "\n",
              "    .dataframe tbody tr th {\n",
              "        vertical-align: top;\n",
              "    }\n",
              "\n",
              "    .dataframe thead th {\n",
              "        text-align: right;\n",
              "    }\n",
              "</style>\n",
              "<table border=\"1\" class=\"dataframe\">\n",
              "  <thead>\n",
              "    <tr style=\"text-align: right;\">\n",
              "      <th></th>\n",
              "      <th>nft_id</th>\n",
              "      <th>name</th>\n",
              "      <th>asset_description</th>\n",
              "      <th>asset_contract_address</th>\n",
              "      <th>collection_name</th>\n",
              "      <th>collection_description</th>\n",
              "      <th>collection_slug</th>\n",
              "      <th>collection_verification</th>\n",
              "      <th>creator_username</th>\n",
              "      <th>creator_address</th>\n",
              "      <th>...</th>\n",
              "      <th>owner_profile_img_url</th>\n",
              "      <th>traits_string</th>\n",
              "      <th>total_rarity</th>\n",
              "      <th>num_sales</th>\n",
              "      <th>last_sale_timestamp</th>\n",
              "      <th>last_sale_total_price</th>\n",
              "      <th>last_sale_from_account_address</th>\n",
              "      <th>top_bid</th>\n",
              "      <th>open_sea_link</th>\n",
              "      <th>image_url</th>\n",
              "    </tr>\n",
              "  </thead>\n",
              "  <tbody>\n",
              "    <tr>\n",
              "      <th>0</th>\n",
              "      <td>9974</td>\n",
              "      <td>NaN</td>\n",
              "      <td>NaN</td>\n",
              "      <td>0xbc4ca0eda7647a8ab7c2061c2e118a18a936f13d</td>\n",
              "      <td>Bored Ape Yacht Club</td>\n",
              "      <td>The Bored Ape Yacht Club is a collection of 10...</td>\n",
              "      <td>boredapeyachtclub</td>\n",
              "      <td>True</td>\n",
              "      <td>BoredApeYachtClub</td>\n",
              "      <td>0xaba7161a7fb69c88e16ed9f455ce62b791ee4d03</td>\n",
              "      <td>...</td>\n",
              "      <td>https://storage.googleapis.com/opensea-static/...</td>\n",
              "      <td>eyeseyepatch;hatseaman'shat;clothesrainbowsusp...</td>\n",
              "      <td>204.051791</td>\n",
              "      <td>2</td>\n",
              "      <td>2021-05-09T16:46:27</td>\n",
              "      <td>500000000000000000</td>\n",
              "      <td>0x994cf01f34c51426bcb12bd30ff7079e280e1140</td>\n",
              "      <td>NaN</td>\n",
              "      <td>https://opensea.io/assets/0xbc4ca0eda7647a8ab7...</td>\n",
              "      <td>https://lh3.googleusercontent.com/G60LFd7Xhb4-...</td>\n",
              "    </tr>\n",
              "    <tr>\n",
              "      <th>1</th>\n",
              "      <td>9973</td>\n",
              "      <td>NaN</td>\n",
              "      <td>NaN</td>\n",
              "      <td>0xbc4ca0eda7647a8ab7c2061c2e118a18a936f13d</td>\n",
              "      <td>Bored Ape Yacht Club</td>\n",
              "      <td>The Bored Ape Yacht Club is a collection of 10...</td>\n",
              "      <td>boredapeyachtclub</td>\n",
              "      <td>True</td>\n",
              "      <td>BoredApeYachtClub</td>\n",
              "      <td>0xaba7161a7fb69c88e16ed9f455ce62b791ee4d03</td>\n",
              "      <td>...</td>\n",
              "      <td>https://storage.googleapis.com/opensea-static/...</td>\n",
              "      <td>furdmt;hatgirl'shairpink;eyesrobot;backgroundy...</td>\n",
              "      <td>182.516792</td>\n",
              "      <td>1</td>\n",
              "      <td>2021-05-01T16:24:22</td>\n",
              "      <td>580000000000000000</td>\n",
              "      <td>0x078ad2aa3b4527e4996d087906b2a3da51bba122</td>\n",
              "      <td>NaN</td>\n",
              "      <td>https://opensea.io/assets/0xbc4ca0eda7647a8ab7...</td>\n",
              "      <td>https://lh3.googleusercontent.com/-4Pz6B1FkH8k...</td>\n",
              "    </tr>\n",
              "    <tr>\n",
              "      <th>2</th>\n",
              "      <td>9949</td>\n",
              "      <td>NaN</td>\n",
              "      <td>NaN</td>\n",
              "      <td>0xbc4ca0eda7647a8ab7c2061c2e118a18a936f13d</td>\n",
              "      <td>Bored Ape Yacht Club</td>\n",
              "      <td>The Bored Ape Yacht Club is a collection of 10...</td>\n",
              "      <td>boredapeyachtclub</td>\n",
              "      <td>True</td>\n",
              "      <td>BoredApeYachtClub</td>\n",
              "      <td>0xaba7161a7fb69c88e16ed9f455ce62b791ee4d03</td>\n",
              "      <td>...</td>\n",
              "      <td>https://storage.googleapis.com/opensea-static/...</td>\n",
              "      <td>mouthgringoldgrill;furtan;hatseaman'shat;eyes3...</td>\n",
              "      <td>221.356456</td>\n",
              "      <td>7</td>\n",
              "      <td>2021-11-21T10:04:02</td>\n",
              "      <td>85800000000000000000</td>\n",
              "      <td>0x91e1543bf18cc3c7a25e682f9c20cf8bd6f28548</td>\n",
              "      <td>NaN</td>\n",
              "      <td>https://opensea.io/assets/0xbc4ca0eda7647a8ab7...</td>\n",
              "      <td>https://lh3.googleusercontent.com/RcXAgekWgaH5...</td>\n",
              "    </tr>\n",
              "    <tr>\n",
              "      <th>3</th>\n",
              "      <td>9972</td>\n",
              "      <td>NaN</td>\n",
              "      <td>NaN</td>\n",
              "      <td>0xbc4ca0eda7647a8ab7c2061c2e118a18a936f13d</td>\n",
              "      <td>Bored Ape Yacht Club</td>\n",
              "      <td>The Bored Ape Yacht Club is a collection of 10...</td>\n",
              "      <td>boredapeyachtclub</td>\n",
              "      <td>True</td>\n",
              "      <td>BoredApeYachtClub</td>\n",
              "      <td>0xaba7161a7fb69c88e16ed9f455ce62b791ee4d03</td>\n",
              "      <td>...</td>\n",
              "      <td>https://storage.googleapis.com/opensea-static/...</td>\n",
              "      <td>eyeshypnotized;mouthrage;backgroundaquamarine;...</td>\n",
              "      <td>149.528746</td>\n",
              "      <td>1</td>\n",
              "      <td>2021-05-01T11:03:09</td>\n",
              "      <td>150000000000000000</td>\n",
              "      <td>0x02eb75be1e72e988de64f0088d654d8ea1081e87</td>\n",
              "      <td>NaN</td>\n",
              "      <td>https://opensea.io/assets/0xbc4ca0eda7647a8ab7...</td>\n",
              "      <td>https://lh3.googleusercontent.com/vcL_TRKR8FRq...</td>\n",
              "    </tr>\n",
              "    <tr>\n",
              "      <th>4</th>\n",
              "      <td>9948</td>\n",
              "      <td>NaN</td>\n",
              "      <td>NaN</td>\n",
              "      <td>0xbc4ca0eda7647a8ab7c2061c2e118a18a936f13d</td>\n",
              "      <td>Bored Ape Yacht Club</td>\n",
              "      <td>The Bored Ape Yacht Club is a collection of 10...</td>\n",
              "      <td>boredapeyachtclub</td>\n",
              "      <td>True</td>\n",
              "      <td>BoredApeYachtClub</td>\n",
              "      <td>0xaba7161a7fb69c88e16ed9f455ce62b791ee4d03</td>\n",
              "      <td>...</td>\n",
              "      <td>https://storage.googleapis.com/opensea-static/...</td>\n",
              "      <td>hattrippycaptain'shat;furcream;eyesbloodshot;m...</td>\n",
              "      <td>268.580759</td>\n",
              "      <td>2</td>\n",
              "      <td>2021-05-03T02:45:55</td>\n",
              "      <td>1750000000000000000</td>\n",
              "      <td>0xecba5f51925e6ccec26da38dcd7d5305f6bdfbcb</td>\n",
              "      <td>NaN</td>\n",
              "      <td>https://opensea.io/assets/0xbc4ca0eda7647a8ab7...</td>\n",
              "      <td>https://lh3.googleusercontent.com/jMsgIXhlR0Xe...</td>\n",
              "    </tr>\n",
              "  </tbody>\n",
              "</table>\n",
              "<p>5 rows × 23 columns</p>\n",
              "</div>\n",
              "      <button class=\"colab-df-convert\" onclick=\"convertToInteractive('df-22974806-4a47-454b-9657-16018f46919b')\"\n",
              "              title=\"Convert this dataframe to an interactive table.\"\n",
              "              style=\"display:none;\">\n",
              "        \n",
              "  <svg xmlns=\"http://www.w3.org/2000/svg\" height=\"24px\"viewBox=\"0 0 24 24\"\n",
              "       width=\"24px\">\n",
              "    <path d=\"M0 0h24v24H0V0z\" fill=\"none\"/>\n",
              "    <path d=\"M18.56 5.44l.94 2.06.94-2.06 2.06-.94-2.06-.94-.94-2.06-.94 2.06-2.06.94zm-11 1L8.5 8.5l.94-2.06 2.06-.94-2.06-.94L8.5 2.5l-.94 2.06-2.06.94zm10 10l.94 2.06.94-2.06 2.06-.94-2.06-.94-.94-2.06-.94 2.06-2.06.94z\"/><path d=\"M17.41 7.96l-1.37-1.37c-.4-.4-.92-.59-1.43-.59-.52 0-1.04.2-1.43.59L10.3 9.45l-7.72 7.72c-.78.78-.78 2.05 0 2.83L4 21.41c.39.39.9.59 1.41.59.51 0 1.02-.2 1.41-.59l7.78-7.78 2.81-2.81c.8-.78.8-2.07 0-2.86zM5.41 20L4 18.59l7.72-7.72 1.47 1.35L5.41 20z\"/>\n",
              "  </svg>\n",
              "      </button>\n",
              "      \n",
              "  <style>\n",
              "    .colab-df-container {\n",
              "      display:flex;\n",
              "      flex-wrap:wrap;\n",
              "      gap: 12px;\n",
              "    }\n",
              "\n",
              "    .colab-df-convert {\n",
              "      background-color: #E8F0FE;\n",
              "      border: none;\n",
              "      border-radius: 50%;\n",
              "      cursor: pointer;\n",
              "      display: none;\n",
              "      fill: #1967D2;\n",
              "      height: 32px;\n",
              "      padding: 0 0 0 0;\n",
              "      width: 32px;\n",
              "    }\n",
              "\n",
              "    .colab-df-convert:hover {\n",
              "      background-color: #E2EBFA;\n",
              "      box-shadow: 0px 1px 2px rgba(60, 64, 67, 0.3), 0px 1px 3px 1px rgba(60, 64, 67, 0.15);\n",
              "      fill: #174EA6;\n",
              "    }\n",
              "\n",
              "    [theme=dark] .colab-df-convert {\n",
              "      background-color: #3B4455;\n",
              "      fill: #D2E3FC;\n",
              "    }\n",
              "\n",
              "    [theme=dark] .colab-df-convert:hover {\n",
              "      background-color: #434B5C;\n",
              "      box-shadow: 0px 1px 3px 1px rgba(0, 0, 0, 0.15);\n",
              "      filter: drop-shadow(0px 1px 2px rgba(0, 0, 0, 0.3));\n",
              "      fill: #FFFFFF;\n",
              "    }\n",
              "  </style>\n",
              "\n",
              "      <script>\n",
              "        const buttonEl =\n",
              "          document.querySelector('#df-22974806-4a47-454b-9657-16018f46919b button.colab-df-convert');\n",
              "        buttonEl.style.display =\n",
              "          google.colab.kernel.accessAllowed ? 'block' : 'none';\n",
              "\n",
              "        async function convertToInteractive(key) {\n",
              "          const element = document.querySelector('#df-22974806-4a47-454b-9657-16018f46919b');\n",
              "          const dataTable =\n",
              "            await google.colab.kernel.invokeFunction('convertToInteractive',\n",
              "                                                     [key], {});\n",
              "          if (!dataTable) return;\n",
              "\n",
              "          const docLinkHtml = 'Like what you see? Visit the ' +\n",
              "            '<a target=\"_blank\" href=https://colab.research.google.com/notebooks/data_table.ipynb>data table notebook</a>'\n",
              "            + ' to learn more about interactive tables.';\n",
              "          element.innerHTML = '';\n",
              "          dataTable['output_type'] = 'display_data';\n",
              "          await google.colab.output.renderOutput(dataTable, element);\n",
              "          const docLink = document.createElement('div');\n",
              "          docLink.innerHTML = docLinkHtml;\n",
              "          element.appendChild(docLink);\n",
              "        }\n",
              "      </script>\n",
              "    </div>\n",
              "  </div>\n",
              "  "
            ],
            "text/plain": [
              "   nft_id  name  asset_description  \\\n",
              "0    9974   NaN                NaN   \n",
              "1    9973   NaN                NaN   \n",
              "2    9949   NaN                NaN   \n",
              "3    9972   NaN                NaN   \n",
              "4    9948   NaN                NaN   \n",
              "\n",
              "                       asset_contract_address       collection_name  \\\n",
              "0  0xbc4ca0eda7647a8ab7c2061c2e118a18a936f13d  Bored Ape Yacht Club   \n",
              "1  0xbc4ca0eda7647a8ab7c2061c2e118a18a936f13d  Bored Ape Yacht Club   \n",
              "2  0xbc4ca0eda7647a8ab7c2061c2e118a18a936f13d  Bored Ape Yacht Club   \n",
              "3  0xbc4ca0eda7647a8ab7c2061c2e118a18a936f13d  Bored Ape Yacht Club   \n",
              "4  0xbc4ca0eda7647a8ab7c2061c2e118a18a936f13d  Bored Ape Yacht Club   \n",
              "\n",
              "                              collection_description    collection_slug  \\\n",
              "0  The Bored Ape Yacht Club is a collection of 10...  boredapeyachtclub   \n",
              "1  The Bored Ape Yacht Club is a collection of 10...  boredapeyachtclub   \n",
              "2  The Bored Ape Yacht Club is a collection of 10...  boredapeyachtclub   \n",
              "3  The Bored Ape Yacht Club is a collection of 10...  boredapeyachtclub   \n",
              "4  The Bored Ape Yacht Club is a collection of 10...  boredapeyachtclub   \n",
              "\n",
              "   collection_verification   creator_username  \\\n",
              "0                     True  BoredApeYachtClub   \n",
              "1                     True  BoredApeYachtClub   \n",
              "2                     True  BoredApeYachtClub   \n",
              "3                     True  BoredApeYachtClub   \n",
              "4                     True  BoredApeYachtClub   \n",
              "\n",
              "                              creator_address  ...  \\\n",
              "0  0xaba7161a7fb69c88e16ed9f455ce62b791ee4d03  ...   \n",
              "1  0xaba7161a7fb69c88e16ed9f455ce62b791ee4d03  ...   \n",
              "2  0xaba7161a7fb69c88e16ed9f455ce62b791ee4d03  ...   \n",
              "3  0xaba7161a7fb69c88e16ed9f455ce62b791ee4d03  ...   \n",
              "4  0xaba7161a7fb69c88e16ed9f455ce62b791ee4d03  ...   \n",
              "\n",
              "                               owner_profile_img_url  \\\n",
              "0  https://storage.googleapis.com/opensea-static/...   \n",
              "1  https://storage.googleapis.com/opensea-static/...   \n",
              "2  https://storage.googleapis.com/opensea-static/...   \n",
              "3  https://storage.googleapis.com/opensea-static/...   \n",
              "4  https://storage.googleapis.com/opensea-static/...   \n",
              "\n",
              "                                       traits_string total_rarity num_sales  \\\n",
              "0  eyeseyepatch;hatseaman'shat;clothesrainbowsusp...   204.051791         2   \n",
              "1  furdmt;hatgirl'shairpink;eyesrobot;backgroundy...   182.516792         1   \n",
              "2  mouthgringoldgrill;furtan;hatseaman'shat;eyes3...   221.356456         7   \n",
              "3  eyeshypnotized;mouthrage;backgroundaquamarine;...   149.528746         1   \n",
              "4  hattrippycaptain'shat;furcream;eyesbloodshot;m...   268.580759         2   \n",
              "\n",
              "   last_sale_timestamp  last_sale_total_price  \\\n",
              "0  2021-05-09T16:46:27     500000000000000000   \n",
              "1  2021-05-01T16:24:22     580000000000000000   \n",
              "2  2021-11-21T10:04:02   85800000000000000000   \n",
              "3  2021-05-01T11:03:09     150000000000000000   \n",
              "4  2021-05-03T02:45:55    1750000000000000000   \n",
              "\n",
              "               last_sale_from_account_address top_bid  \\\n",
              "0  0x994cf01f34c51426bcb12bd30ff7079e280e1140     NaN   \n",
              "1  0x078ad2aa3b4527e4996d087906b2a3da51bba122     NaN   \n",
              "2  0x91e1543bf18cc3c7a25e682f9c20cf8bd6f28548     NaN   \n",
              "3  0x02eb75be1e72e988de64f0088d654d8ea1081e87     NaN   \n",
              "4  0xecba5f51925e6ccec26da38dcd7d5305f6bdfbcb     NaN   \n",
              "\n",
              "                                       open_sea_link  \\\n",
              "0  https://opensea.io/assets/0xbc4ca0eda7647a8ab7...   \n",
              "1  https://opensea.io/assets/0xbc4ca0eda7647a8ab7...   \n",
              "2  https://opensea.io/assets/0xbc4ca0eda7647a8ab7...   \n",
              "3  https://opensea.io/assets/0xbc4ca0eda7647a8ab7...   \n",
              "4  https://opensea.io/assets/0xbc4ca0eda7647a8ab7...   \n",
              "\n",
              "                                           image_url  \n",
              "0  https://lh3.googleusercontent.com/G60LFd7Xhb4-...  \n",
              "1  https://lh3.googleusercontent.com/-4Pz6B1FkH8k...  \n",
              "2  https://lh3.googleusercontent.com/RcXAgekWgaH5...  \n",
              "3  https://lh3.googleusercontent.com/vcL_TRKR8FRq...  \n",
              "4  https://lh3.googleusercontent.com/jMsgIXhlR0Xe...  \n",
              "\n",
              "[5 rows x 23 columns]"
            ]
          },
          "execution_count": 2,
          "metadata": {},
          "output_type": "execute_result"
        }
      ],
      "source": [
        "from google.colab import drive\n",
        "drive.mount('drive')\n",
        "\n",
        "assets_file_path = \"/content/drive/MyDrive/Datasets/FYP/bayc-nft-assets\"\n",
        "df = pd.read_csv(assets_file_path, sep='\\t')\n",
        "\n",
        "# df = df[['nft_id','traits_string','asset_contract_address', 'total_rarity']]\n",
        "df.head()"
      ]
    },
    {
      "cell_type": "markdown",
      "metadata": {
        "id": "yw9o97Ho-V9V"
      },
      "source": [
        "## Data Cleaning"
      ]
    },
    {
      "cell_type": "code",
      "execution_count": null,
      "metadata": {
        "colab": {
          "base_uri": "https://localhost:8080/",
          "height": 490
        },
        "id": "E7o1v9j6Am0W",
        "outputId": "400a8ff6-15b7-4349-d88a-c89321624bab"
      },
      "outputs": [
        {
          "data": {
            "text/html": [
              "\n",
              "  <div id=\"df-c4027ffe-0717-4344-a6b4-54b83442dde1\">\n",
              "    <div class=\"colab-df-container\">\n",
              "      <div>\n",
              "<style scoped>\n",
              "    .dataframe tbody tr th:only-of-type {\n",
              "        vertical-align: middle;\n",
              "    }\n",
              "\n",
              "    .dataframe tbody tr th {\n",
              "        vertical-align: top;\n",
              "    }\n",
              "\n",
              "    .dataframe thead th {\n",
              "        text-align: right;\n",
              "    }\n",
              "</style>\n",
              "<table border=\"1\" class=\"dataframe\">\n",
              "  <thead>\n",
              "    <tr style=\"text-align: right;\">\n",
              "      <th></th>\n",
              "      <th>nft_id</th>\n",
              "      <th>name</th>\n",
              "      <th>asset_description</th>\n",
              "      <th>asset_contract_address</th>\n",
              "      <th>collection_name</th>\n",
              "      <th>collection_description</th>\n",
              "      <th>collection_slug</th>\n",
              "      <th>collection_verification</th>\n",
              "      <th>creator_username</th>\n",
              "      <th>creator_address</th>\n",
              "      <th>...</th>\n",
              "      <th>traits_string</th>\n",
              "      <th>total_rarity</th>\n",
              "      <th>num_sales</th>\n",
              "      <th>last_sale_timestamp</th>\n",
              "      <th>last_sale_total_price</th>\n",
              "      <th>last_sale_from_account_address</th>\n",
              "      <th>top_bid</th>\n",
              "      <th>open_sea_link</th>\n",
              "      <th>image_url</th>\n",
              "      <th>reference_id</th>\n",
              "    </tr>\n",
              "  </thead>\n",
              "  <tbody>\n",
              "    <tr>\n",
              "      <th>0</th>\n",
              "      <td>9974</td>\n",
              "      <td>NaN</td>\n",
              "      <td>NaN</td>\n",
              "      <td>0xbc4ca0eda7647a8ab7c2061c2e118a18a936f13d</td>\n",
              "      <td>Bored Ape Yacht Club</td>\n",
              "      <td>The Bored Ape Yacht Club is a collection of 10...</td>\n",
              "      <td>boredapeyachtclub</td>\n",
              "      <td>True</td>\n",
              "      <td>BoredApeYachtClub</td>\n",
              "      <td>0xaba7161a7fb69c88e16ed9f455ce62b791ee4d03</td>\n",
              "      <td>...</td>\n",
              "      <td>eyeseyepatch hatseaman'shat clothesrainbowsusp...</td>\n",
              "      <td>204.051791</td>\n",
              "      <td>2</td>\n",
              "      <td>2021-05-09T16:46:27</td>\n",
              "      <td>500000000000000000</td>\n",
              "      <td>0x994cf01f34c51426bcb12bd30ff7079e280e1140</td>\n",
              "      <td>NaN</td>\n",
              "      <td>https://opensea.io/assets/0xbc4ca0eda7647a8ab7...</td>\n",
              "      <td>https://lh3.googleusercontent.com/G60LFd7Xhb4-...</td>\n",
              "      <td>0xbc4ca0eda7647a8ab7c2061c2e118a18a936f13d-9974</td>\n",
              "    </tr>\n",
              "    <tr>\n",
              "      <th>1</th>\n",
              "      <td>9973</td>\n",
              "      <td>NaN</td>\n",
              "      <td>NaN</td>\n",
              "      <td>0xbc4ca0eda7647a8ab7c2061c2e118a18a936f13d</td>\n",
              "      <td>Bored Ape Yacht Club</td>\n",
              "      <td>The Bored Ape Yacht Club is a collection of 10...</td>\n",
              "      <td>boredapeyachtclub</td>\n",
              "      <td>True</td>\n",
              "      <td>BoredApeYachtClub</td>\n",
              "      <td>0xaba7161a7fb69c88e16ed9f455ce62b791ee4d03</td>\n",
              "      <td>...</td>\n",
              "      <td>furdmt hatgirl'shairpink eyesrobot backgroundy...</td>\n",
              "      <td>182.516792</td>\n",
              "      <td>1</td>\n",
              "      <td>2021-05-01T16:24:22</td>\n",
              "      <td>580000000000000000</td>\n",
              "      <td>0x078ad2aa3b4527e4996d087906b2a3da51bba122</td>\n",
              "      <td>NaN</td>\n",
              "      <td>https://opensea.io/assets/0xbc4ca0eda7647a8ab7...</td>\n",
              "      <td>https://lh3.googleusercontent.com/-4Pz6B1FkH8k...</td>\n",
              "      <td>0xbc4ca0eda7647a8ab7c2061c2e118a18a936f13d-9973</td>\n",
              "    </tr>\n",
              "    <tr>\n",
              "      <th>2</th>\n",
              "      <td>9949</td>\n",
              "      <td>NaN</td>\n",
              "      <td>NaN</td>\n",
              "      <td>0xbc4ca0eda7647a8ab7c2061c2e118a18a936f13d</td>\n",
              "      <td>Bored Ape Yacht Club</td>\n",
              "      <td>The Bored Ape Yacht Club is a collection of 10...</td>\n",
              "      <td>boredapeyachtclub</td>\n",
              "      <td>True</td>\n",
              "      <td>BoredApeYachtClub</td>\n",
              "      <td>0xaba7161a7fb69c88e16ed9f455ce62b791ee4d03</td>\n",
              "      <td>...</td>\n",
              "      <td>mouthgringoldgrill furtan hatseaman'shat eyes3...</td>\n",
              "      <td>221.356456</td>\n",
              "      <td>7</td>\n",
              "      <td>2021-11-21T10:04:02</td>\n",
              "      <td>85800000000000000000</td>\n",
              "      <td>0x91e1543bf18cc3c7a25e682f9c20cf8bd6f28548</td>\n",
              "      <td>NaN</td>\n",
              "      <td>https://opensea.io/assets/0xbc4ca0eda7647a8ab7...</td>\n",
              "      <td>https://lh3.googleusercontent.com/RcXAgekWgaH5...</td>\n",
              "      <td>0xbc4ca0eda7647a8ab7c2061c2e118a18a936f13d-9949</td>\n",
              "    </tr>\n",
              "    <tr>\n",
              "      <th>3</th>\n",
              "      <td>9972</td>\n",
              "      <td>NaN</td>\n",
              "      <td>NaN</td>\n",
              "      <td>0xbc4ca0eda7647a8ab7c2061c2e118a18a936f13d</td>\n",
              "      <td>Bored Ape Yacht Club</td>\n",
              "      <td>The Bored Ape Yacht Club is a collection of 10...</td>\n",
              "      <td>boredapeyachtclub</td>\n",
              "      <td>True</td>\n",
              "      <td>BoredApeYachtClub</td>\n",
              "      <td>0xaba7161a7fb69c88e16ed9f455ce62b791ee4d03</td>\n",
              "      <td>...</td>\n",
              "      <td>eyeshypnotized mouthrage backgroundaquamarine ...</td>\n",
              "      <td>149.528746</td>\n",
              "      <td>1</td>\n",
              "      <td>2021-05-01T11:03:09</td>\n",
              "      <td>150000000000000000</td>\n",
              "      <td>0x02eb75be1e72e988de64f0088d654d8ea1081e87</td>\n",
              "      <td>NaN</td>\n",
              "      <td>https://opensea.io/assets/0xbc4ca0eda7647a8ab7...</td>\n",
              "      <td>https://lh3.googleusercontent.com/vcL_TRKR8FRq...</td>\n",
              "      <td>0xbc4ca0eda7647a8ab7c2061c2e118a18a936f13d-9972</td>\n",
              "    </tr>\n",
              "    <tr>\n",
              "      <th>4</th>\n",
              "      <td>9948</td>\n",
              "      <td>NaN</td>\n",
              "      <td>NaN</td>\n",
              "      <td>0xbc4ca0eda7647a8ab7c2061c2e118a18a936f13d</td>\n",
              "      <td>Bored Ape Yacht Club</td>\n",
              "      <td>The Bored Ape Yacht Club is a collection of 10...</td>\n",
              "      <td>boredapeyachtclub</td>\n",
              "      <td>True</td>\n",
              "      <td>BoredApeYachtClub</td>\n",
              "      <td>0xaba7161a7fb69c88e16ed9f455ce62b791ee4d03</td>\n",
              "      <td>...</td>\n",
              "      <td>hattrippycaptain'shat furcream eyesbloodshot m...</td>\n",
              "      <td>268.580759</td>\n",
              "      <td>2</td>\n",
              "      <td>2021-05-03T02:45:55</td>\n",
              "      <td>1750000000000000000</td>\n",
              "      <td>0xecba5f51925e6ccec26da38dcd7d5305f6bdfbcb</td>\n",
              "      <td>NaN</td>\n",
              "      <td>https://opensea.io/assets/0xbc4ca0eda7647a8ab7...</td>\n",
              "      <td>https://lh3.googleusercontent.com/jMsgIXhlR0Xe...</td>\n",
              "      <td>0xbc4ca0eda7647a8ab7c2061c2e118a18a936f13d-9948</td>\n",
              "    </tr>\n",
              "  </tbody>\n",
              "</table>\n",
              "<p>5 rows × 24 columns</p>\n",
              "</div>\n",
              "      <button class=\"colab-df-convert\" onclick=\"convertToInteractive('df-c4027ffe-0717-4344-a6b4-54b83442dde1')\"\n",
              "              title=\"Convert this dataframe to an interactive table.\"\n",
              "              style=\"display:none;\">\n",
              "        \n",
              "  <svg xmlns=\"http://www.w3.org/2000/svg\" height=\"24px\"viewBox=\"0 0 24 24\"\n",
              "       width=\"24px\">\n",
              "    <path d=\"M0 0h24v24H0V0z\" fill=\"none\"/>\n",
              "    <path d=\"M18.56 5.44l.94 2.06.94-2.06 2.06-.94-2.06-.94-.94-2.06-.94 2.06-2.06.94zm-11 1L8.5 8.5l.94-2.06 2.06-.94-2.06-.94L8.5 2.5l-.94 2.06-2.06.94zm10 10l.94 2.06.94-2.06 2.06-.94-2.06-.94-.94-2.06-.94 2.06-2.06.94z\"/><path d=\"M17.41 7.96l-1.37-1.37c-.4-.4-.92-.59-1.43-.59-.52 0-1.04.2-1.43.59L10.3 9.45l-7.72 7.72c-.78.78-.78 2.05 0 2.83L4 21.41c.39.39.9.59 1.41.59.51 0 1.02-.2 1.41-.59l7.78-7.78 2.81-2.81c.8-.78.8-2.07 0-2.86zM5.41 20L4 18.59l7.72-7.72 1.47 1.35L5.41 20z\"/>\n",
              "  </svg>\n",
              "      </button>\n",
              "      \n",
              "  <style>\n",
              "    .colab-df-container {\n",
              "      display:flex;\n",
              "      flex-wrap:wrap;\n",
              "      gap: 12px;\n",
              "    }\n",
              "\n",
              "    .colab-df-convert {\n",
              "      background-color: #E8F0FE;\n",
              "      border: none;\n",
              "      border-radius: 50%;\n",
              "      cursor: pointer;\n",
              "      display: none;\n",
              "      fill: #1967D2;\n",
              "      height: 32px;\n",
              "      padding: 0 0 0 0;\n",
              "      width: 32px;\n",
              "    }\n",
              "\n",
              "    .colab-df-convert:hover {\n",
              "      background-color: #E2EBFA;\n",
              "      box-shadow: 0px 1px 2px rgba(60, 64, 67, 0.3), 0px 1px 3px 1px rgba(60, 64, 67, 0.15);\n",
              "      fill: #174EA6;\n",
              "    }\n",
              "\n",
              "    [theme=dark] .colab-df-convert {\n",
              "      background-color: #3B4455;\n",
              "      fill: #D2E3FC;\n",
              "    }\n",
              "\n",
              "    [theme=dark] .colab-df-convert:hover {\n",
              "      background-color: #434B5C;\n",
              "      box-shadow: 0px 1px 3px 1px rgba(0, 0, 0, 0.15);\n",
              "      filter: drop-shadow(0px 1px 2px rgba(0, 0, 0, 0.3));\n",
              "      fill: #FFFFFF;\n",
              "    }\n",
              "  </style>\n",
              "\n",
              "      <script>\n",
              "        const buttonEl =\n",
              "          document.querySelector('#df-c4027ffe-0717-4344-a6b4-54b83442dde1 button.colab-df-convert');\n",
              "        buttonEl.style.display =\n",
              "          google.colab.kernel.accessAllowed ? 'block' : 'none';\n",
              "\n",
              "        async function convertToInteractive(key) {\n",
              "          const element = document.querySelector('#df-c4027ffe-0717-4344-a6b4-54b83442dde1');\n",
              "          const dataTable =\n",
              "            await google.colab.kernel.invokeFunction('convertToInteractive',\n",
              "                                                     [key], {});\n",
              "          if (!dataTable) return;\n",
              "\n",
              "          const docLinkHtml = 'Like what you see? Visit the ' +\n",
              "            '<a target=\"_blank\" href=https://colab.research.google.com/notebooks/data_table.ipynb>data table notebook</a>'\n",
              "            + ' to learn more about interactive tables.';\n",
              "          element.innerHTML = '';\n",
              "          dataTable['output_type'] = 'display_data';\n",
              "          await google.colab.output.renderOutput(dataTable, element);\n",
              "          const docLink = document.createElement('div');\n",
              "          docLink.innerHTML = docLinkHtml;\n",
              "          element.appendChild(docLink);\n",
              "        }\n",
              "      </script>\n",
              "    </div>\n",
              "  </div>\n",
              "  "
            ],
            "text/plain": [
              "   nft_id  name  asset_description  \\\n",
              "0    9974   NaN                NaN   \n",
              "1    9973   NaN                NaN   \n",
              "2    9949   NaN                NaN   \n",
              "3    9972   NaN                NaN   \n",
              "4    9948   NaN                NaN   \n",
              "\n",
              "                       asset_contract_address       collection_name  \\\n",
              "0  0xbc4ca0eda7647a8ab7c2061c2e118a18a936f13d  Bored Ape Yacht Club   \n",
              "1  0xbc4ca0eda7647a8ab7c2061c2e118a18a936f13d  Bored Ape Yacht Club   \n",
              "2  0xbc4ca0eda7647a8ab7c2061c2e118a18a936f13d  Bored Ape Yacht Club   \n",
              "3  0xbc4ca0eda7647a8ab7c2061c2e118a18a936f13d  Bored Ape Yacht Club   \n",
              "4  0xbc4ca0eda7647a8ab7c2061c2e118a18a936f13d  Bored Ape Yacht Club   \n",
              "\n",
              "                              collection_description    collection_slug  \\\n",
              "0  The Bored Ape Yacht Club is a collection of 10...  boredapeyachtclub   \n",
              "1  The Bored Ape Yacht Club is a collection of 10...  boredapeyachtclub   \n",
              "2  The Bored Ape Yacht Club is a collection of 10...  boredapeyachtclub   \n",
              "3  The Bored Ape Yacht Club is a collection of 10...  boredapeyachtclub   \n",
              "4  The Bored Ape Yacht Club is a collection of 10...  boredapeyachtclub   \n",
              "\n",
              "   collection_verification   creator_username  \\\n",
              "0                     True  BoredApeYachtClub   \n",
              "1                     True  BoredApeYachtClub   \n",
              "2                     True  BoredApeYachtClub   \n",
              "3                     True  BoredApeYachtClub   \n",
              "4                     True  BoredApeYachtClub   \n",
              "\n",
              "                              creator_address  ...  \\\n",
              "0  0xaba7161a7fb69c88e16ed9f455ce62b791ee4d03  ...   \n",
              "1  0xaba7161a7fb69c88e16ed9f455ce62b791ee4d03  ...   \n",
              "2  0xaba7161a7fb69c88e16ed9f455ce62b791ee4d03  ...   \n",
              "3  0xaba7161a7fb69c88e16ed9f455ce62b791ee4d03  ...   \n",
              "4  0xaba7161a7fb69c88e16ed9f455ce62b791ee4d03  ...   \n",
              "\n",
              "                                       traits_string total_rarity num_sales  \\\n",
              "0  eyeseyepatch hatseaman'shat clothesrainbowsusp...   204.051791         2   \n",
              "1  furdmt hatgirl'shairpink eyesrobot backgroundy...   182.516792         1   \n",
              "2  mouthgringoldgrill furtan hatseaman'shat eyes3...   221.356456         7   \n",
              "3  eyeshypnotized mouthrage backgroundaquamarine ...   149.528746         1   \n",
              "4  hattrippycaptain'shat furcream eyesbloodshot m...   268.580759         2   \n",
              "\n",
              "   last_sale_timestamp last_sale_total_price  \\\n",
              "0  2021-05-09T16:46:27    500000000000000000   \n",
              "1  2021-05-01T16:24:22    580000000000000000   \n",
              "2  2021-11-21T10:04:02  85800000000000000000   \n",
              "3  2021-05-01T11:03:09    150000000000000000   \n",
              "4  2021-05-03T02:45:55   1750000000000000000   \n",
              "\n",
              "               last_sale_from_account_address  top_bid  \\\n",
              "0  0x994cf01f34c51426bcb12bd30ff7079e280e1140      NaN   \n",
              "1  0x078ad2aa3b4527e4996d087906b2a3da51bba122      NaN   \n",
              "2  0x91e1543bf18cc3c7a25e682f9c20cf8bd6f28548      NaN   \n",
              "3  0x02eb75be1e72e988de64f0088d654d8ea1081e87      NaN   \n",
              "4  0xecba5f51925e6ccec26da38dcd7d5305f6bdfbcb      NaN   \n",
              "\n",
              "                                       open_sea_link  \\\n",
              "0  https://opensea.io/assets/0xbc4ca0eda7647a8ab7...   \n",
              "1  https://opensea.io/assets/0xbc4ca0eda7647a8ab7...   \n",
              "2  https://opensea.io/assets/0xbc4ca0eda7647a8ab7...   \n",
              "3  https://opensea.io/assets/0xbc4ca0eda7647a8ab7...   \n",
              "4  https://opensea.io/assets/0xbc4ca0eda7647a8ab7...   \n",
              "\n",
              "                                           image_url  \\\n",
              "0  https://lh3.googleusercontent.com/G60LFd7Xhb4-...   \n",
              "1  https://lh3.googleusercontent.com/-4Pz6B1FkH8k...   \n",
              "2  https://lh3.googleusercontent.com/RcXAgekWgaH5...   \n",
              "3  https://lh3.googleusercontent.com/vcL_TRKR8FRq...   \n",
              "4  https://lh3.googleusercontent.com/jMsgIXhlR0Xe...   \n",
              "\n",
              "                                      reference_id  \n",
              "0  0xbc4ca0eda7647a8ab7c2061c2e118a18a936f13d-9974  \n",
              "1  0xbc4ca0eda7647a8ab7c2061c2e118a18a936f13d-9973  \n",
              "2  0xbc4ca0eda7647a8ab7c2061c2e118a18a936f13d-9949  \n",
              "3  0xbc4ca0eda7647a8ab7c2061c2e118a18a936f13d-9972  \n",
              "4  0xbc4ca0eda7647a8ab7c2061c2e118a18a936f13d-9948  \n",
              "\n",
              "[5 rows x 24 columns]"
            ]
          },
          "execution_count": 3,
          "metadata": {},
          "output_type": "execute_result"
        }
      ],
      "source": [
        "for index, row in df.iterrows():\n",
        "    df.at[index,'reference_id'] = row[\"asset_contract_address\"] + \"-\" + str(row[\"nft_id\"])\n",
        "\n",
        "df['traits_string'] = df['traits_string'].str.replace(';',' ')\n",
        "\n",
        "df.head()"
      ]
    },
    {
      "cell_type": "code",
      "execution_count": null,
      "metadata": {
        "colab": {
          "base_uri": "https://localhost:8080/"
        },
        "id": "FsMWNETozPRs",
        "outputId": "b5ccb119-644e-4685-9ae7-5387d9edaea7"
      },
      "outputs": [
        {
          "data": {
            "text/plain": [
              "nft_id                                                                         9974\n",
              "name                                                                            NaN\n",
              "asset_description                                                               NaN\n",
              "asset_contract_address                   0xbc4ca0eda7647a8ab7c2061c2e118a18a936f13d\n",
              "collection_name                                                Bored Ape Yacht Club\n",
              "collection_description            The Bored Ape Yacht Club is a collection of 10...\n",
              "collection_slug                                                   boredapeyachtclub\n",
              "collection_verification                                                        True\n",
              "creator_username                                                  BoredApeYachtClub\n",
              "creator_address                          0xaba7161a7fb69c88e16ed9f455ce62b791ee4d03\n",
              "creator_profile_img_url           https://storage.googleapis.com/opensea-static/...\n",
              "owner_username                                                              mo31985\n",
              "owner_address                            0x994cf01f34c51426bcb12bd30ff7079e280e1140\n",
              "owner_profile_img_url             https://storage.googleapis.com/opensea-static/...\n",
              "traits_string                     eyeseyepatch hatseaman'shat clothesrainbowsusp...\n",
              "total_rarity                                                             204.051791\n",
              "num_sales                                                                         2\n",
              "last_sale_timestamp                                             2021-05-09T16:46:27\n",
              "last_sale_total_price                                            500000000000000000\n",
              "last_sale_from_account_address           0x994cf01f34c51426bcb12bd30ff7079e280e1140\n",
              "top_bid                                                                         NaN\n",
              "open_sea_link                     https://opensea.io/assets/0xbc4ca0eda7647a8ab7...\n",
              "image_url                         https://lh3.googleusercontent.com/G60LFd7Xhb4-...\n",
              "reference_id                        0xbc4ca0eda7647a8ab7c2061c2e118a18a936f13d-9974\n",
              "Name: 0, dtype: object"
            ]
          },
          "execution_count": 4,
          "metadata": {},
          "output_type": "execute_result"
        }
      ],
      "source": [
        "df.iloc[0]"
      ]
    },
    {
      "cell_type": "code",
      "execution_count": null,
      "metadata": {
        "id": "eBWFHApK-bF9"
      },
      "outputs": [],
      "source": [
        "# Rake Vectorizer\n",
        "# # initializing the new column\n",
        "# df['Key_words'] = \"\"\n",
        "\n",
        "# for index, row in df.iterrows():\n",
        "#     plot = row['Plot']\n",
        "    \n",
        "#     # instantiating Rake, by default it uses english stopwords from NLTK\n",
        "#     # and discards all puntuation characters as well\n",
        "#     r = Rake()\n",
        "\n",
        "#     # extracting the words by passing the text\n",
        "#     r.extract_keywords_from_text(plot)\n",
        "\n",
        "#     # getting the dictionary with key words as keys and their scores as values\n",
        "#     key_words_dict_scores = r.get_word_degrees()\n",
        "    \n",
        "#     # assigning the key words to the new column for the corresponding nft\n",
        "#     row['Key_words'] = list(key_words_dict_scores.keys())\n",
        "\n",
        "# # dropping the Plot column\n",
        "# df.drop(columns = ['Plot'], inplace = True)\n",
        "\n",
        "# df.head()"
      ]
    },
    {
      "cell_type": "code",
      "execution_count": null,
      "metadata": {
        "colab": {
          "base_uri": "https://localhost:8080/",
          "height": 522
        },
        "id": "XxeYGLjC_ebp",
        "outputId": "5cad4c61-bba8-4a4d-c98b-b14fb8e06f67"
      },
      "outputs": [
        {
          "data": {
            "text/html": [
              "\n",
              "  <div id=\"df-ea1cff73-50d0-46b3-b658-6687b17d64c2\">\n",
              "    <div class=\"colab-df-container\">\n",
              "      <div>\n",
              "<style scoped>\n",
              "    .dataframe tbody tr th:only-of-type {\n",
              "        vertical-align: middle;\n",
              "    }\n",
              "\n",
              "    .dataframe tbody tr th {\n",
              "        vertical-align: top;\n",
              "    }\n",
              "\n",
              "    .dataframe thead th {\n",
              "        text-align: right;\n",
              "    }\n",
              "</style>\n",
              "<table border=\"1\" class=\"dataframe\">\n",
              "  <thead>\n",
              "    <tr style=\"text-align: right;\">\n",
              "      <th></th>\n",
              "      <th>nft_id</th>\n",
              "      <th>name</th>\n",
              "      <th>asset_description</th>\n",
              "      <th>asset_contract_address</th>\n",
              "      <th>collection_name</th>\n",
              "      <th>collection_description</th>\n",
              "      <th>collection_slug</th>\n",
              "      <th>collection_verification</th>\n",
              "      <th>creator_username</th>\n",
              "      <th>creator_address</th>\n",
              "      <th>...</th>\n",
              "      <th>owner_profile_img_url</th>\n",
              "      <th>traits_string</th>\n",
              "      <th>total_rarity</th>\n",
              "      <th>num_sales</th>\n",
              "      <th>last_sale_timestamp</th>\n",
              "      <th>last_sale_total_price</th>\n",
              "      <th>last_sale_from_account_address</th>\n",
              "      <th>top_bid</th>\n",
              "      <th>open_sea_link</th>\n",
              "      <th>image_url</th>\n",
              "    </tr>\n",
              "    <tr>\n",
              "      <th>reference_id</th>\n",
              "      <th></th>\n",
              "      <th></th>\n",
              "      <th></th>\n",
              "      <th></th>\n",
              "      <th></th>\n",
              "      <th></th>\n",
              "      <th></th>\n",
              "      <th></th>\n",
              "      <th></th>\n",
              "      <th></th>\n",
              "      <th></th>\n",
              "      <th></th>\n",
              "      <th></th>\n",
              "      <th></th>\n",
              "      <th></th>\n",
              "      <th></th>\n",
              "      <th></th>\n",
              "      <th></th>\n",
              "      <th></th>\n",
              "      <th></th>\n",
              "      <th></th>\n",
              "    </tr>\n",
              "  </thead>\n",
              "  <tbody>\n",
              "    <tr>\n",
              "      <th>0xbc4ca0eda7647a8ab7c2061c2e118a18a936f13d-9974</th>\n",
              "      <td>9974</td>\n",
              "      <td>NaN</td>\n",
              "      <td>NaN</td>\n",
              "      <td>0xbc4ca0eda7647a8ab7c2061c2e118a18a936f13d</td>\n",
              "      <td>Bored Ape Yacht Club</td>\n",
              "      <td>The Bored Ape Yacht Club is a collection of 10...</td>\n",
              "      <td>boredapeyachtclub</td>\n",
              "      <td>True</td>\n",
              "      <td>BoredApeYachtClub</td>\n",
              "      <td>0xaba7161a7fb69c88e16ed9f455ce62b791ee4d03</td>\n",
              "      <td>...</td>\n",
              "      <td>https://storage.googleapis.com/opensea-static/...</td>\n",
              "      <td>eyeseyepatch hatseaman'shat clothesrainbowsusp...</td>\n",
              "      <td>204.051791</td>\n",
              "      <td>2</td>\n",
              "      <td>2021-05-09T16:46:27</td>\n",
              "      <td>500000000000000000</td>\n",
              "      <td>0x994cf01f34c51426bcb12bd30ff7079e280e1140</td>\n",
              "      <td>NaN</td>\n",
              "      <td>https://opensea.io/assets/0xbc4ca0eda7647a8ab7...</td>\n",
              "      <td>https://lh3.googleusercontent.com/G60LFd7Xhb4-...</td>\n",
              "    </tr>\n",
              "    <tr>\n",
              "      <th>0xbc4ca0eda7647a8ab7c2061c2e118a18a936f13d-9973</th>\n",
              "      <td>9973</td>\n",
              "      <td>NaN</td>\n",
              "      <td>NaN</td>\n",
              "      <td>0xbc4ca0eda7647a8ab7c2061c2e118a18a936f13d</td>\n",
              "      <td>Bored Ape Yacht Club</td>\n",
              "      <td>The Bored Ape Yacht Club is a collection of 10...</td>\n",
              "      <td>boredapeyachtclub</td>\n",
              "      <td>True</td>\n",
              "      <td>BoredApeYachtClub</td>\n",
              "      <td>0xaba7161a7fb69c88e16ed9f455ce62b791ee4d03</td>\n",
              "      <td>...</td>\n",
              "      <td>https://storage.googleapis.com/opensea-static/...</td>\n",
              "      <td>furdmt hatgirl'shairpink eyesrobot backgroundy...</td>\n",
              "      <td>182.516792</td>\n",
              "      <td>1</td>\n",
              "      <td>2021-05-01T16:24:22</td>\n",
              "      <td>580000000000000000</td>\n",
              "      <td>0x078ad2aa3b4527e4996d087906b2a3da51bba122</td>\n",
              "      <td>NaN</td>\n",
              "      <td>https://opensea.io/assets/0xbc4ca0eda7647a8ab7...</td>\n",
              "      <td>https://lh3.googleusercontent.com/-4Pz6B1FkH8k...</td>\n",
              "    </tr>\n",
              "    <tr>\n",
              "      <th>0xbc4ca0eda7647a8ab7c2061c2e118a18a936f13d-9949</th>\n",
              "      <td>9949</td>\n",
              "      <td>NaN</td>\n",
              "      <td>NaN</td>\n",
              "      <td>0xbc4ca0eda7647a8ab7c2061c2e118a18a936f13d</td>\n",
              "      <td>Bored Ape Yacht Club</td>\n",
              "      <td>The Bored Ape Yacht Club is a collection of 10...</td>\n",
              "      <td>boredapeyachtclub</td>\n",
              "      <td>True</td>\n",
              "      <td>BoredApeYachtClub</td>\n",
              "      <td>0xaba7161a7fb69c88e16ed9f455ce62b791ee4d03</td>\n",
              "      <td>...</td>\n",
              "      <td>https://storage.googleapis.com/opensea-static/...</td>\n",
              "      <td>mouthgringoldgrill furtan hatseaman'shat eyes3...</td>\n",
              "      <td>221.356456</td>\n",
              "      <td>7</td>\n",
              "      <td>2021-11-21T10:04:02</td>\n",
              "      <td>85800000000000000000</td>\n",
              "      <td>0x91e1543bf18cc3c7a25e682f9c20cf8bd6f28548</td>\n",
              "      <td>NaN</td>\n",
              "      <td>https://opensea.io/assets/0xbc4ca0eda7647a8ab7...</td>\n",
              "      <td>https://lh3.googleusercontent.com/RcXAgekWgaH5...</td>\n",
              "    </tr>\n",
              "    <tr>\n",
              "      <th>0xbc4ca0eda7647a8ab7c2061c2e118a18a936f13d-9972</th>\n",
              "      <td>9972</td>\n",
              "      <td>NaN</td>\n",
              "      <td>NaN</td>\n",
              "      <td>0xbc4ca0eda7647a8ab7c2061c2e118a18a936f13d</td>\n",
              "      <td>Bored Ape Yacht Club</td>\n",
              "      <td>The Bored Ape Yacht Club is a collection of 10...</td>\n",
              "      <td>boredapeyachtclub</td>\n",
              "      <td>True</td>\n",
              "      <td>BoredApeYachtClub</td>\n",
              "      <td>0xaba7161a7fb69c88e16ed9f455ce62b791ee4d03</td>\n",
              "      <td>...</td>\n",
              "      <td>https://storage.googleapis.com/opensea-static/...</td>\n",
              "      <td>eyeshypnotized mouthrage backgroundaquamarine ...</td>\n",
              "      <td>149.528746</td>\n",
              "      <td>1</td>\n",
              "      <td>2021-05-01T11:03:09</td>\n",
              "      <td>150000000000000000</td>\n",
              "      <td>0x02eb75be1e72e988de64f0088d654d8ea1081e87</td>\n",
              "      <td>NaN</td>\n",
              "      <td>https://opensea.io/assets/0xbc4ca0eda7647a8ab7...</td>\n",
              "      <td>https://lh3.googleusercontent.com/vcL_TRKR8FRq...</td>\n",
              "    </tr>\n",
              "    <tr>\n",
              "      <th>0xbc4ca0eda7647a8ab7c2061c2e118a18a936f13d-9948</th>\n",
              "      <td>9948</td>\n",
              "      <td>NaN</td>\n",
              "      <td>NaN</td>\n",
              "      <td>0xbc4ca0eda7647a8ab7c2061c2e118a18a936f13d</td>\n",
              "      <td>Bored Ape Yacht Club</td>\n",
              "      <td>The Bored Ape Yacht Club is a collection of 10...</td>\n",
              "      <td>boredapeyachtclub</td>\n",
              "      <td>True</td>\n",
              "      <td>BoredApeYachtClub</td>\n",
              "      <td>0xaba7161a7fb69c88e16ed9f455ce62b791ee4d03</td>\n",
              "      <td>...</td>\n",
              "      <td>https://storage.googleapis.com/opensea-static/...</td>\n",
              "      <td>hattrippycaptain'shat furcream eyesbloodshot m...</td>\n",
              "      <td>268.580759</td>\n",
              "      <td>2</td>\n",
              "      <td>2021-05-03T02:45:55</td>\n",
              "      <td>1750000000000000000</td>\n",
              "      <td>0xecba5f51925e6ccec26da38dcd7d5305f6bdfbcb</td>\n",
              "      <td>NaN</td>\n",
              "      <td>https://opensea.io/assets/0xbc4ca0eda7647a8ab7...</td>\n",
              "      <td>https://lh3.googleusercontent.com/jMsgIXhlR0Xe...</td>\n",
              "    </tr>\n",
              "  </tbody>\n",
              "</table>\n",
              "<p>5 rows × 23 columns</p>\n",
              "</div>\n",
              "      <button class=\"colab-df-convert\" onclick=\"convertToInteractive('df-ea1cff73-50d0-46b3-b658-6687b17d64c2')\"\n",
              "              title=\"Convert this dataframe to an interactive table.\"\n",
              "              style=\"display:none;\">\n",
              "        \n",
              "  <svg xmlns=\"http://www.w3.org/2000/svg\" height=\"24px\"viewBox=\"0 0 24 24\"\n",
              "       width=\"24px\">\n",
              "    <path d=\"M0 0h24v24H0V0z\" fill=\"none\"/>\n",
              "    <path d=\"M18.56 5.44l.94 2.06.94-2.06 2.06-.94-2.06-.94-.94-2.06-.94 2.06-2.06.94zm-11 1L8.5 8.5l.94-2.06 2.06-.94-2.06-.94L8.5 2.5l-.94 2.06-2.06.94zm10 10l.94 2.06.94-2.06 2.06-.94-2.06-.94-.94-2.06-.94 2.06-2.06.94z\"/><path d=\"M17.41 7.96l-1.37-1.37c-.4-.4-.92-.59-1.43-.59-.52 0-1.04.2-1.43.59L10.3 9.45l-7.72 7.72c-.78.78-.78 2.05 0 2.83L4 21.41c.39.39.9.59 1.41.59.51 0 1.02-.2 1.41-.59l7.78-7.78 2.81-2.81c.8-.78.8-2.07 0-2.86zM5.41 20L4 18.59l7.72-7.72 1.47 1.35L5.41 20z\"/>\n",
              "  </svg>\n",
              "      </button>\n",
              "      \n",
              "  <style>\n",
              "    .colab-df-container {\n",
              "      display:flex;\n",
              "      flex-wrap:wrap;\n",
              "      gap: 12px;\n",
              "    }\n",
              "\n",
              "    .colab-df-convert {\n",
              "      background-color: #E8F0FE;\n",
              "      border: none;\n",
              "      border-radius: 50%;\n",
              "      cursor: pointer;\n",
              "      display: none;\n",
              "      fill: #1967D2;\n",
              "      height: 32px;\n",
              "      padding: 0 0 0 0;\n",
              "      width: 32px;\n",
              "    }\n",
              "\n",
              "    .colab-df-convert:hover {\n",
              "      background-color: #E2EBFA;\n",
              "      box-shadow: 0px 1px 2px rgba(60, 64, 67, 0.3), 0px 1px 3px 1px rgba(60, 64, 67, 0.15);\n",
              "      fill: #174EA6;\n",
              "    }\n",
              "\n",
              "    [theme=dark] .colab-df-convert {\n",
              "      background-color: #3B4455;\n",
              "      fill: #D2E3FC;\n",
              "    }\n",
              "\n",
              "    [theme=dark] .colab-df-convert:hover {\n",
              "      background-color: #434B5C;\n",
              "      box-shadow: 0px 1px 3px 1px rgba(0, 0, 0, 0.15);\n",
              "      filter: drop-shadow(0px 1px 2px rgba(0, 0, 0, 0.3));\n",
              "      fill: #FFFFFF;\n",
              "    }\n",
              "  </style>\n",
              "\n",
              "      <script>\n",
              "        const buttonEl =\n",
              "          document.querySelector('#df-ea1cff73-50d0-46b3-b658-6687b17d64c2 button.colab-df-convert');\n",
              "        buttonEl.style.display =\n",
              "          google.colab.kernel.accessAllowed ? 'block' : 'none';\n",
              "\n",
              "        async function convertToInteractive(key) {\n",
              "          const element = document.querySelector('#df-ea1cff73-50d0-46b3-b658-6687b17d64c2');\n",
              "          const dataTable =\n",
              "            await google.colab.kernel.invokeFunction('convertToInteractive',\n",
              "                                                     [key], {});\n",
              "          if (!dataTable) return;\n",
              "\n",
              "          const docLinkHtml = 'Like what you see? Visit the ' +\n",
              "            '<a target=\"_blank\" href=https://colab.research.google.com/notebooks/data_table.ipynb>data table notebook</a>'\n",
              "            + ' to learn more about interactive tables.';\n",
              "          element.innerHTML = '';\n",
              "          dataTable['output_type'] = 'display_data';\n",
              "          await google.colab.output.renderOutput(dataTable, element);\n",
              "          const docLink = document.createElement('div');\n",
              "          docLink.innerHTML = docLinkHtml;\n",
              "          element.appendChild(docLink);\n",
              "        }\n",
              "      </script>\n",
              "    </div>\n",
              "  </div>\n",
              "  "
            ],
            "text/plain": [
              "                                                 nft_id  name  \\\n",
              "reference_id                                                    \n",
              "0xbc4ca0eda7647a8ab7c2061c2e118a18a936f13d-9974    9974   NaN   \n",
              "0xbc4ca0eda7647a8ab7c2061c2e118a18a936f13d-9973    9973   NaN   \n",
              "0xbc4ca0eda7647a8ab7c2061c2e118a18a936f13d-9949    9949   NaN   \n",
              "0xbc4ca0eda7647a8ab7c2061c2e118a18a936f13d-9972    9972   NaN   \n",
              "0xbc4ca0eda7647a8ab7c2061c2e118a18a936f13d-9948    9948   NaN   \n",
              "\n",
              "                                                 asset_description  \\\n",
              "reference_id                                                         \n",
              "0xbc4ca0eda7647a8ab7c2061c2e118a18a936f13d-9974                NaN   \n",
              "0xbc4ca0eda7647a8ab7c2061c2e118a18a936f13d-9973                NaN   \n",
              "0xbc4ca0eda7647a8ab7c2061c2e118a18a936f13d-9949                NaN   \n",
              "0xbc4ca0eda7647a8ab7c2061c2e118a18a936f13d-9972                NaN   \n",
              "0xbc4ca0eda7647a8ab7c2061c2e118a18a936f13d-9948                NaN   \n",
              "\n",
              "                                                                     asset_contract_address  \\\n",
              "reference_id                                                                                  \n",
              "0xbc4ca0eda7647a8ab7c2061c2e118a18a936f13d-9974  0xbc4ca0eda7647a8ab7c2061c2e118a18a936f13d   \n",
              "0xbc4ca0eda7647a8ab7c2061c2e118a18a936f13d-9973  0xbc4ca0eda7647a8ab7c2061c2e118a18a936f13d   \n",
              "0xbc4ca0eda7647a8ab7c2061c2e118a18a936f13d-9949  0xbc4ca0eda7647a8ab7c2061c2e118a18a936f13d   \n",
              "0xbc4ca0eda7647a8ab7c2061c2e118a18a936f13d-9972  0xbc4ca0eda7647a8ab7c2061c2e118a18a936f13d   \n",
              "0xbc4ca0eda7647a8ab7c2061c2e118a18a936f13d-9948  0xbc4ca0eda7647a8ab7c2061c2e118a18a936f13d   \n",
              "\n",
              "                                                      collection_name  \\\n",
              "reference_id                                                            \n",
              "0xbc4ca0eda7647a8ab7c2061c2e118a18a936f13d-9974  Bored Ape Yacht Club   \n",
              "0xbc4ca0eda7647a8ab7c2061c2e118a18a936f13d-9973  Bored Ape Yacht Club   \n",
              "0xbc4ca0eda7647a8ab7c2061c2e118a18a936f13d-9949  Bored Ape Yacht Club   \n",
              "0xbc4ca0eda7647a8ab7c2061c2e118a18a936f13d-9972  Bored Ape Yacht Club   \n",
              "0xbc4ca0eda7647a8ab7c2061c2e118a18a936f13d-9948  Bored Ape Yacht Club   \n",
              "\n",
              "                                                                            collection_description  \\\n",
              "reference_id                                                                                         \n",
              "0xbc4ca0eda7647a8ab7c2061c2e118a18a936f13d-9974  The Bored Ape Yacht Club is a collection of 10...   \n",
              "0xbc4ca0eda7647a8ab7c2061c2e118a18a936f13d-9973  The Bored Ape Yacht Club is a collection of 10...   \n",
              "0xbc4ca0eda7647a8ab7c2061c2e118a18a936f13d-9949  The Bored Ape Yacht Club is a collection of 10...   \n",
              "0xbc4ca0eda7647a8ab7c2061c2e118a18a936f13d-9972  The Bored Ape Yacht Club is a collection of 10...   \n",
              "0xbc4ca0eda7647a8ab7c2061c2e118a18a936f13d-9948  The Bored Ape Yacht Club is a collection of 10...   \n",
              "\n",
              "                                                   collection_slug  \\\n",
              "reference_id                                                         \n",
              "0xbc4ca0eda7647a8ab7c2061c2e118a18a936f13d-9974  boredapeyachtclub   \n",
              "0xbc4ca0eda7647a8ab7c2061c2e118a18a936f13d-9973  boredapeyachtclub   \n",
              "0xbc4ca0eda7647a8ab7c2061c2e118a18a936f13d-9949  boredapeyachtclub   \n",
              "0xbc4ca0eda7647a8ab7c2061c2e118a18a936f13d-9972  boredapeyachtclub   \n",
              "0xbc4ca0eda7647a8ab7c2061c2e118a18a936f13d-9948  boredapeyachtclub   \n",
              "\n",
              "                                                 collection_verification  \\\n",
              "reference_id                                                               \n",
              "0xbc4ca0eda7647a8ab7c2061c2e118a18a936f13d-9974                     True   \n",
              "0xbc4ca0eda7647a8ab7c2061c2e118a18a936f13d-9973                     True   \n",
              "0xbc4ca0eda7647a8ab7c2061c2e118a18a936f13d-9949                     True   \n",
              "0xbc4ca0eda7647a8ab7c2061c2e118a18a936f13d-9972                     True   \n",
              "0xbc4ca0eda7647a8ab7c2061c2e118a18a936f13d-9948                     True   \n",
              "\n",
              "                                                  creator_username  \\\n",
              "reference_id                                                         \n",
              "0xbc4ca0eda7647a8ab7c2061c2e118a18a936f13d-9974  BoredApeYachtClub   \n",
              "0xbc4ca0eda7647a8ab7c2061c2e118a18a936f13d-9973  BoredApeYachtClub   \n",
              "0xbc4ca0eda7647a8ab7c2061c2e118a18a936f13d-9949  BoredApeYachtClub   \n",
              "0xbc4ca0eda7647a8ab7c2061c2e118a18a936f13d-9972  BoredApeYachtClub   \n",
              "0xbc4ca0eda7647a8ab7c2061c2e118a18a936f13d-9948  BoredApeYachtClub   \n",
              "\n",
              "                                                                            creator_address  \\\n",
              "reference_id                                                                                  \n",
              "0xbc4ca0eda7647a8ab7c2061c2e118a18a936f13d-9974  0xaba7161a7fb69c88e16ed9f455ce62b791ee4d03   \n",
              "0xbc4ca0eda7647a8ab7c2061c2e118a18a936f13d-9973  0xaba7161a7fb69c88e16ed9f455ce62b791ee4d03   \n",
              "0xbc4ca0eda7647a8ab7c2061c2e118a18a936f13d-9949  0xaba7161a7fb69c88e16ed9f455ce62b791ee4d03   \n",
              "0xbc4ca0eda7647a8ab7c2061c2e118a18a936f13d-9972  0xaba7161a7fb69c88e16ed9f455ce62b791ee4d03   \n",
              "0xbc4ca0eda7647a8ab7c2061c2e118a18a936f13d-9948  0xaba7161a7fb69c88e16ed9f455ce62b791ee4d03   \n",
              "\n",
              "                                                 ...  \\\n",
              "reference_id                                     ...   \n",
              "0xbc4ca0eda7647a8ab7c2061c2e118a18a936f13d-9974  ...   \n",
              "0xbc4ca0eda7647a8ab7c2061c2e118a18a936f13d-9973  ...   \n",
              "0xbc4ca0eda7647a8ab7c2061c2e118a18a936f13d-9949  ...   \n",
              "0xbc4ca0eda7647a8ab7c2061c2e118a18a936f13d-9972  ...   \n",
              "0xbc4ca0eda7647a8ab7c2061c2e118a18a936f13d-9948  ...   \n",
              "\n",
              "                                                                             owner_profile_img_url  \\\n",
              "reference_id                                                                                         \n",
              "0xbc4ca0eda7647a8ab7c2061c2e118a18a936f13d-9974  https://storage.googleapis.com/opensea-static/...   \n",
              "0xbc4ca0eda7647a8ab7c2061c2e118a18a936f13d-9973  https://storage.googleapis.com/opensea-static/...   \n",
              "0xbc4ca0eda7647a8ab7c2061c2e118a18a936f13d-9949  https://storage.googleapis.com/opensea-static/...   \n",
              "0xbc4ca0eda7647a8ab7c2061c2e118a18a936f13d-9972  https://storage.googleapis.com/opensea-static/...   \n",
              "0xbc4ca0eda7647a8ab7c2061c2e118a18a936f13d-9948  https://storage.googleapis.com/opensea-static/...   \n",
              "\n",
              "                                                                                     traits_string  \\\n",
              "reference_id                                                                                         \n",
              "0xbc4ca0eda7647a8ab7c2061c2e118a18a936f13d-9974  eyeseyepatch hatseaman'shat clothesrainbowsusp...   \n",
              "0xbc4ca0eda7647a8ab7c2061c2e118a18a936f13d-9973  furdmt hatgirl'shairpink eyesrobot backgroundy...   \n",
              "0xbc4ca0eda7647a8ab7c2061c2e118a18a936f13d-9949  mouthgringoldgrill furtan hatseaman'shat eyes3...   \n",
              "0xbc4ca0eda7647a8ab7c2061c2e118a18a936f13d-9972  eyeshypnotized mouthrage backgroundaquamarine ...   \n",
              "0xbc4ca0eda7647a8ab7c2061c2e118a18a936f13d-9948  hattrippycaptain'shat furcream eyesbloodshot m...   \n",
              "\n",
              "                                                total_rarity num_sales  \\\n",
              "reference_id                                                             \n",
              "0xbc4ca0eda7647a8ab7c2061c2e118a18a936f13d-9974   204.051791         2   \n",
              "0xbc4ca0eda7647a8ab7c2061c2e118a18a936f13d-9973   182.516792         1   \n",
              "0xbc4ca0eda7647a8ab7c2061c2e118a18a936f13d-9949   221.356456         7   \n",
              "0xbc4ca0eda7647a8ab7c2061c2e118a18a936f13d-9972   149.528746         1   \n",
              "0xbc4ca0eda7647a8ab7c2061c2e118a18a936f13d-9948   268.580759         2   \n",
              "\n",
              "                                                 last_sale_timestamp  \\\n",
              "reference_id                                                           \n",
              "0xbc4ca0eda7647a8ab7c2061c2e118a18a936f13d-9974  2021-05-09T16:46:27   \n",
              "0xbc4ca0eda7647a8ab7c2061c2e118a18a936f13d-9973  2021-05-01T16:24:22   \n",
              "0xbc4ca0eda7647a8ab7c2061c2e118a18a936f13d-9949  2021-11-21T10:04:02   \n",
              "0xbc4ca0eda7647a8ab7c2061c2e118a18a936f13d-9972  2021-05-01T11:03:09   \n",
              "0xbc4ca0eda7647a8ab7c2061c2e118a18a936f13d-9948  2021-05-03T02:45:55   \n",
              "\n",
              "                                                 last_sale_total_price  \\\n",
              "reference_id                                                             \n",
              "0xbc4ca0eda7647a8ab7c2061c2e118a18a936f13d-9974     500000000000000000   \n",
              "0xbc4ca0eda7647a8ab7c2061c2e118a18a936f13d-9973     580000000000000000   \n",
              "0xbc4ca0eda7647a8ab7c2061c2e118a18a936f13d-9949   85800000000000000000   \n",
              "0xbc4ca0eda7647a8ab7c2061c2e118a18a936f13d-9972     150000000000000000   \n",
              "0xbc4ca0eda7647a8ab7c2061c2e118a18a936f13d-9948    1750000000000000000   \n",
              "\n",
              "                                                             last_sale_from_account_address  \\\n",
              "reference_id                                                                                  \n",
              "0xbc4ca0eda7647a8ab7c2061c2e118a18a936f13d-9974  0x994cf01f34c51426bcb12bd30ff7079e280e1140   \n",
              "0xbc4ca0eda7647a8ab7c2061c2e118a18a936f13d-9973  0x078ad2aa3b4527e4996d087906b2a3da51bba122   \n",
              "0xbc4ca0eda7647a8ab7c2061c2e118a18a936f13d-9949  0x91e1543bf18cc3c7a25e682f9c20cf8bd6f28548   \n",
              "0xbc4ca0eda7647a8ab7c2061c2e118a18a936f13d-9972  0x02eb75be1e72e988de64f0088d654d8ea1081e87   \n",
              "0xbc4ca0eda7647a8ab7c2061c2e118a18a936f13d-9948  0xecba5f51925e6ccec26da38dcd7d5305f6bdfbcb   \n",
              "\n",
              "                                                top_bid  \\\n",
              "reference_id                                              \n",
              "0xbc4ca0eda7647a8ab7c2061c2e118a18a936f13d-9974     NaN   \n",
              "0xbc4ca0eda7647a8ab7c2061c2e118a18a936f13d-9973     NaN   \n",
              "0xbc4ca0eda7647a8ab7c2061c2e118a18a936f13d-9949     NaN   \n",
              "0xbc4ca0eda7647a8ab7c2061c2e118a18a936f13d-9972     NaN   \n",
              "0xbc4ca0eda7647a8ab7c2061c2e118a18a936f13d-9948     NaN   \n",
              "\n",
              "                                                                                     open_sea_link  \\\n",
              "reference_id                                                                                         \n",
              "0xbc4ca0eda7647a8ab7c2061c2e118a18a936f13d-9974  https://opensea.io/assets/0xbc4ca0eda7647a8ab7...   \n",
              "0xbc4ca0eda7647a8ab7c2061c2e118a18a936f13d-9973  https://opensea.io/assets/0xbc4ca0eda7647a8ab7...   \n",
              "0xbc4ca0eda7647a8ab7c2061c2e118a18a936f13d-9949  https://opensea.io/assets/0xbc4ca0eda7647a8ab7...   \n",
              "0xbc4ca0eda7647a8ab7c2061c2e118a18a936f13d-9972  https://opensea.io/assets/0xbc4ca0eda7647a8ab7...   \n",
              "0xbc4ca0eda7647a8ab7c2061c2e118a18a936f13d-9948  https://opensea.io/assets/0xbc4ca0eda7647a8ab7...   \n",
              "\n",
              "                                                                                         image_url  \n",
              "reference_id                                                                                        \n",
              "0xbc4ca0eda7647a8ab7c2061c2e118a18a936f13d-9974  https://lh3.googleusercontent.com/G60LFd7Xhb4-...  \n",
              "0xbc4ca0eda7647a8ab7c2061c2e118a18a936f13d-9973  https://lh3.googleusercontent.com/-4Pz6B1FkH8k...  \n",
              "0xbc4ca0eda7647a8ab7c2061c2e118a18a936f13d-9949  https://lh3.googleusercontent.com/RcXAgekWgaH5...  \n",
              "0xbc4ca0eda7647a8ab7c2061c2e118a18a936f13d-9972  https://lh3.googleusercontent.com/vcL_TRKR8FRq...  \n",
              "0xbc4ca0eda7647a8ab7c2061c2e118a18a936f13d-9948  https://lh3.googleusercontent.com/jMsgIXhlR0Xe...  \n",
              "\n",
              "[5 rows x 23 columns]"
            ]
          },
          "execution_count": 5,
          "metadata": {},
          "output_type": "execute_result"
        }
      ],
      "source": [
        "df.set_index('reference_id', inplace = True)   # set reference_id as the index of the dataframe\n",
        "df.head()"
      ]
    },
    {
      "cell_type": "code",
      "execution_count": null,
      "metadata": {
        "colab": {
          "base_uri": "https://localhost:8080/",
          "height": 238
        },
        "id": "VvcY8tT_vycz",
        "outputId": "96bc9087-fba7-4279-8939-0f3bde5aa97e"
      },
      "outputs": [
        {
          "data": {
            "text/html": [
              "\n",
              "  <div id=\"df-648c502f-7a40-482f-89b1-6680d85f53e4\">\n",
              "    <div class=\"colab-df-container\">\n",
              "      <div>\n",
              "<style scoped>\n",
              "    .dataframe tbody tr th:only-of-type {\n",
              "        vertical-align: middle;\n",
              "    }\n",
              "\n",
              "    .dataframe tbody tr th {\n",
              "        vertical-align: top;\n",
              "    }\n",
              "\n",
              "    .dataframe thead th {\n",
              "        text-align: right;\n",
              "    }\n",
              "</style>\n",
              "<table border=\"1\" class=\"dataframe\">\n",
              "  <thead>\n",
              "    <tr style=\"text-align: right;\">\n",
              "      <th></th>\n",
              "      <th>traits_string</th>\n",
              "      <th>total_rarity</th>\n",
              "    </tr>\n",
              "    <tr>\n",
              "      <th>reference_id</th>\n",
              "      <th></th>\n",
              "      <th></th>\n",
              "    </tr>\n",
              "  </thead>\n",
              "  <tbody>\n",
              "    <tr>\n",
              "      <th>0xbc4ca0eda7647a8ab7c2061c2e118a18a936f13d-9974</th>\n",
              "      <td>eyeseyepatch hatseaman'shat clothesrainbowsusp...</td>\n",
              "      <td>204.051791</td>\n",
              "    </tr>\n",
              "    <tr>\n",
              "      <th>0xbc4ca0eda7647a8ab7c2061c2e118a18a936f13d-9973</th>\n",
              "      <td>furdmt hatgirl'shairpink eyesrobot backgroundy...</td>\n",
              "      <td>182.516792</td>\n",
              "    </tr>\n",
              "    <tr>\n",
              "      <th>0xbc4ca0eda7647a8ab7c2061c2e118a18a936f13d-9949</th>\n",
              "      <td>mouthgringoldgrill furtan hatseaman'shat eyes3...</td>\n",
              "      <td>221.356456</td>\n",
              "    </tr>\n",
              "    <tr>\n",
              "      <th>0xbc4ca0eda7647a8ab7c2061c2e118a18a936f13d-9972</th>\n",
              "      <td>eyeshypnotized mouthrage backgroundaquamarine ...</td>\n",
              "      <td>149.528746</td>\n",
              "    </tr>\n",
              "    <tr>\n",
              "      <th>0xbc4ca0eda7647a8ab7c2061c2e118a18a936f13d-9948</th>\n",
              "      <td>hattrippycaptain'shat furcream eyesbloodshot m...</td>\n",
              "      <td>268.580759</td>\n",
              "    </tr>\n",
              "  </tbody>\n",
              "</table>\n",
              "</div>\n",
              "      <button class=\"colab-df-convert\" onclick=\"convertToInteractive('df-648c502f-7a40-482f-89b1-6680d85f53e4')\"\n",
              "              title=\"Convert this dataframe to an interactive table.\"\n",
              "              style=\"display:none;\">\n",
              "        \n",
              "  <svg xmlns=\"http://www.w3.org/2000/svg\" height=\"24px\"viewBox=\"0 0 24 24\"\n",
              "       width=\"24px\">\n",
              "    <path d=\"M0 0h24v24H0V0z\" fill=\"none\"/>\n",
              "    <path d=\"M18.56 5.44l.94 2.06.94-2.06 2.06-.94-2.06-.94-.94-2.06-.94 2.06-2.06.94zm-11 1L8.5 8.5l.94-2.06 2.06-.94-2.06-.94L8.5 2.5l-.94 2.06-2.06.94zm10 10l.94 2.06.94-2.06 2.06-.94-2.06-.94-.94-2.06-.94 2.06-2.06.94z\"/><path d=\"M17.41 7.96l-1.37-1.37c-.4-.4-.92-.59-1.43-.59-.52 0-1.04.2-1.43.59L10.3 9.45l-7.72 7.72c-.78.78-.78 2.05 0 2.83L4 21.41c.39.39.9.59 1.41.59.51 0 1.02-.2 1.41-.59l7.78-7.78 2.81-2.81c.8-.78.8-2.07 0-2.86zM5.41 20L4 18.59l7.72-7.72 1.47 1.35L5.41 20z\"/>\n",
              "  </svg>\n",
              "      </button>\n",
              "      \n",
              "  <style>\n",
              "    .colab-df-container {\n",
              "      display:flex;\n",
              "      flex-wrap:wrap;\n",
              "      gap: 12px;\n",
              "    }\n",
              "\n",
              "    .colab-df-convert {\n",
              "      background-color: #E8F0FE;\n",
              "      border: none;\n",
              "      border-radius: 50%;\n",
              "      cursor: pointer;\n",
              "      display: none;\n",
              "      fill: #1967D2;\n",
              "      height: 32px;\n",
              "      padding: 0 0 0 0;\n",
              "      width: 32px;\n",
              "    }\n",
              "\n",
              "    .colab-df-convert:hover {\n",
              "      background-color: #E2EBFA;\n",
              "      box-shadow: 0px 1px 2px rgba(60, 64, 67, 0.3), 0px 1px 3px 1px rgba(60, 64, 67, 0.15);\n",
              "      fill: #174EA6;\n",
              "    }\n",
              "\n",
              "    [theme=dark] .colab-df-convert {\n",
              "      background-color: #3B4455;\n",
              "      fill: #D2E3FC;\n",
              "    }\n",
              "\n",
              "    [theme=dark] .colab-df-convert:hover {\n",
              "      background-color: #434B5C;\n",
              "      box-shadow: 0px 1px 3px 1px rgba(0, 0, 0, 0.15);\n",
              "      filter: drop-shadow(0px 1px 2px rgba(0, 0, 0, 0.3));\n",
              "      fill: #FFFFFF;\n",
              "    }\n",
              "  </style>\n",
              "\n",
              "      <script>\n",
              "        const buttonEl =\n",
              "          document.querySelector('#df-648c502f-7a40-482f-89b1-6680d85f53e4 button.colab-df-convert');\n",
              "        buttonEl.style.display =\n",
              "          google.colab.kernel.accessAllowed ? 'block' : 'none';\n",
              "\n",
              "        async function convertToInteractive(key) {\n",
              "          const element = document.querySelector('#df-648c502f-7a40-482f-89b1-6680d85f53e4');\n",
              "          const dataTable =\n",
              "            await google.colab.kernel.invokeFunction('convertToInteractive',\n",
              "                                                     [key], {});\n",
              "          if (!dataTable) return;\n",
              "\n",
              "          const docLinkHtml = 'Like what you see? Visit the ' +\n",
              "            '<a target=\"_blank\" href=https://colab.research.google.com/notebooks/data_table.ipynb>data table notebook</a>'\n",
              "            + ' to learn more about interactive tables.';\n",
              "          element.innerHTML = '';\n",
              "          dataTable['output_type'] = 'display_data';\n",
              "          await google.colab.output.renderOutput(dataTable, element);\n",
              "          const docLink = document.createElement('div');\n",
              "          docLink.innerHTML = docLinkHtml;\n",
              "          element.appendChild(docLink);\n",
              "        }\n",
              "      </script>\n",
              "    </div>\n",
              "  </div>\n",
              "  "
            ],
            "text/plain": [
              "                                                                                     traits_string  \\\n",
              "reference_id                                                                                         \n",
              "0xbc4ca0eda7647a8ab7c2061c2e118a18a936f13d-9974  eyeseyepatch hatseaman'shat clothesrainbowsusp...   \n",
              "0xbc4ca0eda7647a8ab7c2061c2e118a18a936f13d-9973  furdmt hatgirl'shairpink eyesrobot backgroundy...   \n",
              "0xbc4ca0eda7647a8ab7c2061c2e118a18a936f13d-9949  mouthgringoldgrill furtan hatseaman'shat eyes3...   \n",
              "0xbc4ca0eda7647a8ab7c2061c2e118a18a936f13d-9972  eyeshypnotized mouthrage backgroundaquamarine ...   \n",
              "0xbc4ca0eda7647a8ab7c2061c2e118a18a936f13d-9948  hattrippycaptain'shat furcream eyesbloodshot m...   \n",
              "\n",
              "                                                 total_rarity  \n",
              "reference_id                                                   \n",
              "0xbc4ca0eda7647a8ab7c2061c2e118a18a936f13d-9974    204.051791  \n",
              "0xbc4ca0eda7647a8ab7c2061c2e118a18a936f13d-9973    182.516792  \n",
              "0xbc4ca0eda7647a8ab7c2061c2e118a18a936f13d-9949    221.356456  \n",
              "0xbc4ca0eda7647a8ab7c2061c2e118a18a936f13d-9972    149.528746  \n",
              "0xbc4ca0eda7647a8ab7c2061c2e118a18a936f13d-9948    268.580759  "
            ]
          },
          "execution_count": 6,
          "metadata": {},
          "output_type": "execute_result"
        }
      ],
      "source": [
        "# df.drop(columns = [col for col in df.columns if ((col!= 'traits_string') or (col!= 'total_rarity'))], inplace = True)\n",
        "df = df[['traits_string','total_rarity']]\n",
        "df.head()"
      ]
    },
    {
      "cell_type": "code",
      "execution_count": null,
      "metadata": {
        "colab": {
          "base_uri": "https://localhost:8080/"
        },
        "id": "YKRUIaKWMgZg",
        "outputId": "1525af4b-0973-4c15-e253-e0cde2338678"
      },
      "outputs": [
        {
          "data": {
            "text/plain": [
              "10000"
            ]
          },
          "execution_count": 7,
          "metadata": {},
          "output_type": "execute_result"
        }
      ],
      "source": [
        "df['traits_string'].count()\n",
        "df['total_rarity'].count()"
      ]
    },
    {
      "cell_type": "markdown",
      "metadata": {
        "id": "IKtOY8-qC3-F"
      },
      "source": [
        "## Modeling"
      ]
    },
    {
      "cell_type": "markdown",
      "metadata": {
        "id": "YCjpnCOjEz35"
      },
      "source": [
        "In order to detect similarities between nfts, I need to vectorize, as I mentioned above. I decided to use CountVectorizer rather than TfIdfVectorizer for one simple reason: I need a simple frequency counter for each word in my bag_of_words column. Tf-Idf tends to give less importance to the words that are more present in the entire corpus (our whole column, in this case) which is not what we want for this application, because every word is important to detect similarity! \n",
        "\n",
        "*It seems like Tf-Idf would give more meaningful results* for ranking - check this later. For relevance, CountVectorizer seems to be ok.\n",
        "\n",
        "Once I have the matrix containing the count for each word, we can apply the cosine_similarity function"
      ]
    },
    {
      "cell_type": "code",
      "execution_count": null,
      "metadata": {
        "colab": {
          "base_uri": "https://localhost:8080/"
        },
        "id": "OVnqYs-tC4TD",
        "outputId": "a788f962-c77a-431e-e97f-725539f017e5"
      },
      "outputs": [
        {
          "data": {
            "text/plain": [
              "matrix([[1, 0, 0, ..., 0, 0, 1],\n",
              "        [0, 0, 0, ..., 1, 0, 0],\n",
              "        [0, 1, 0, ..., 0, 0, 1],\n",
              "        ...,\n",
              "        [1, 0, 0, ..., 0, 0, 1],\n",
              "        [0, 0, 0, ..., 0, 0, 0],\n",
              "        [0, 0, 0, ..., 0, 0, 0]])"
            ]
          },
          "execution_count": 8,
          "metadata": {},
          "output_type": "execute_result"
        }
      ],
      "source": [
        "# instantiating and generating the count matrix\n",
        "count = CountVectorizer()   # used to transform a given text into a vector on the basis of the frequency (count) of each word that occurs in the entire text\n",
        "count_matrix = count.fit_transform(df['traits_string'])\n",
        "\n",
        "# print(count_matrix)\n",
        "count_matrix.todense()"
      ]
    },
    {
      "cell_type": "code",
      "execution_count": null,
      "metadata": {
        "colab": {
          "base_uri": "https://localhost:8080/"
        },
        "id": "I3DT2RG9VGUE",
        "outputId": "84350810-58bf-407b-b0cf-14f27e09f427"
      },
      "outputs": [
        {
          "data": {
            "text/plain": [
              "(10000, 173)"
            ]
          },
          "execution_count": 9,
          "metadata": {},
          "output_type": "execute_result"
        }
      ],
      "source": [
        "count_matrix.shape"
      ]
    },
    {
      "cell_type": "markdown",
      "metadata": {
        "id": "OW7pylJiZLGf"
      },
      "source": [
        "in the count_matrix, i seems to be the NFT, j seems to be each word in the bag_of_words per NFT. the value at i, j gives the frequency of each word in the entire column of bag_of_words.\n",
        "\n",
        "For some reason (need to find out) this frequency is needed to calculate the cosine similarity between the content in NFTs. - *The definition of similarity between two vectors u and v is, in fact, the ratio between their dot product and the product of their magnitudes.*"
      ]
    },
    {
      "cell_type": "code",
      "execution_count": null,
      "metadata": {
        "colab": {
          "base_uri": "https://localhost:8080/"
        },
        "id": "kieNh7PLEM0j",
        "outputId": "d46797b9-3bbb-48e5-ebfb-1a5bd01784e8"
      },
      "outputs": [
        {
          "data": {
            "text/plain": [
              "0    0xbc4ca0eda7647a8ab7c2061c2e118a18a936f13d-9974\n",
              "1    0xbc4ca0eda7647a8ab7c2061c2e118a18a936f13d-9973\n",
              "2    0xbc4ca0eda7647a8ab7c2061c2e118a18a936f13d-9949\n",
              "3    0xbc4ca0eda7647a8ab7c2061c2e118a18a936f13d-9972\n",
              "4    0xbc4ca0eda7647a8ab7c2061c2e118a18a936f13d-9948\n",
              "Name: reference_id, dtype: object"
            ]
          },
          "execution_count": 10,
          "metadata": {},
          "output_type": "execute_result"
        }
      ],
      "source": [
        "# creating a Series for the reference_id so they are associated to an ordered numerical\n",
        "# list I will use later to match the indexes - easy to refer the NFT by index from the array that is created (cosine_sim)\n",
        "indices = pd.Series(df.index)\n",
        "indices[:5]"
      ]
    },
    {
      "cell_type": "markdown",
      "metadata": {
        "id": "6XVhQgRjFiMo"
      },
      "source": [
        "Check if this concern can be addressed: Having cosine_sim in-memory can be a memory constraint for larger datasets"
      ]
    },
    {
      "cell_type": "code",
      "execution_count": null,
      "metadata": {
        "id": "KHBsWy9HD8t5"
      },
      "outputs": [],
      "source": [
        "# generating the cosine similarity matrix\n",
        "cosine_sim = cosine_similarity(count_matrix, count_matrix)\n",
        "# cosine_sim.todense()"
      ]
    },
    {
      "cell_type": "code",
      "execution_count": null,
      "metadata": {
        "id": "K3fgJT_dEZ3Z"
      },
      "outputs": [],
      "source": [
        "# function that takes in reference_id as input and returns the top 10 recommended nfts\n",
        "def content_based_recommendations(reference_id, cosine_sim = cosine_sim):\n",
        "    \n",
        "    recommended_nfts = []\n",
        "    cosine_sim_scores_of_recommendations = []\n",
        "\n",
        "    # getting the index of the NFT that matches the reference_id\n",
        "    idx = indices[indices == reference_id].index[0]\n",
        "\n",
        "    # creating a Series with the similarity scores in descending order\n",
        "    score_series = pd.Series(cosine_sim[idx]).sort_values(ascending = False)\n",
        "\n",
        "    # getting the indexes of the 10 most similar nfts\n",
        "    top_10_indexes = list(score_series.iloc[1:11].index)\n",
        "    # getting the cosine similarities of the 10 most similar nfts\n",
        "    cosine_sim_scores_of_recommendations = list(score_series.iloc[1:11])\n",
        "    \n",
        "    # populating the list with the reference_ids of the best 10 matching nfts\n",
        "    for i in top_10_indexes:\n",
        "        recommended_nfts.append(list(df.index)[i])\n",
        "        \n",
        "    return recommended_nfts, cosine_sim_scores_of_recommendations"
      ]
    },
    {
      "cell_type": "code",
      "execution_count": null,
      "metadata": {
        "id": "zi6KYN5wQGuW"
      },
      "outputs": [],
      "source": [
        "def trait_rarity_recommendations(reference_id):\n",
        "\n",
        "    recommended_nfts = []\n",
        "    trait_rarity_scores_of_recommendations = []\n",
        "\n",
        "    input = df.loc[reference_id]['total_rarity']\n",
        "    # print(input)\n",
        "\n",
        "    #  This considers the entire dataframe. Need to do this only within a collection - send the filtered dataframe as a parameter\n",
        "    # the dataframe with 10 closest values.\n",
        "    df_sort = df.iloc[(df['total_rarity']-input).abs().argsort()[1:11]]\n",
        "\n",
        "    recommended_nfts = df_sort.index.tolist()\n",
        "    trait_rarity_scores_of_recommendations = df_sort['total_rarity'].tolist()\n",
        "    # print(df_sort['total_rarity'].tolist())\n",
        "\n",
        "    return recommended_nfts, trait_rarity_scores_of_recommendations"
      ]
    },
    {
      "cell_type": "markdown",
      "metadata": {
        "id": "yDSgM-UcFON9"
      },
      "source": [
        "## Testing"
      ]
    },
    {
      "cell_type": "markdown",
      "metadata": {
        "id": "ymUJfxexbvnh"
      },
      "source": [
        "Recommendation based on content similarity of traits matches"
      ]
    },
    {
      "cell_type": "code",
      "execution_count": null,
      "metadata": {
        "colab": {
          "base_uri": "https://localhost:8080/"
        },
        "id": "g6WcnjWxEb-k",
        "outputId": "2840faba-3f28-4022-9dcd-bdf28ff15d84"
      },
      "outputs": [
        {
          "data": {
            "text/plain": [
              "(['0xbc4ca0eda7647a8ab7c2061c2e118a18a936f13d-7474',\n",
              "  '0xbc4ca0eda7647a8ab7c2061c2e118a18a936f13d-633',\n",
              "  '0xbc4ca0eda7647a8ab7c2061c2e118a18a936f13d-8279',\n",
              "  '0xbc4ca0eda7647a8ab7c2061c2e118a18a936f13d-6352',\n",
              "  '0xbc4ca0eda7647a8ab7c2061c2e118a18a936f13d-4343',\n",
              "  '0xbc4ca0eda7647a8ab7c2061c2e118a18a936f13d-5900',\n",
              "  '0xbc4ca0eda7647a8ab7c2061c2e118a18a936f13d-6706',\n",
              "  '0xbc4ca0eda7647a8ab7c2061c2e118a18a936f13d-791',\n",
              "  '0xbc4ca0eda7647a8ab7c2061c2e118a18a936f13d-5693',\n",
              "  '0xbc4ca0eda7647a8ab7c2061c2e118a18a936f13d-6248'],\n",
              " [0.5714285714285713,\n",
              "  0.5714285714285713,\n",
              "  0.5714285714285713,\n",
              "  0.5714285714285713,\n",
              "  0.5714285714285713,\n",
              "  0.5714285714285713,\n",
              "  0.5345224838248487,\n",
              "  0.50709255283711,\n",
              "  0.50709255283711,\n",
              "  0.50709255283711])"
            ]
          },
          "execution_count": 15,
          "metadata": {},
          "output_type": "execute_result"
        }
      ],
      "source": [
        "content_based_recommendations('0xbc4ca0eda7647a8ab7c2061c2e118a18a936f13d-9948')"
      ]
    },
    {
      "cell_type": "markdown",
      "metadata": {
        "id": "SrfWa8lqbyL1"
      },
      "source": [
        "Recommendation based on total rarity score similarity"
      ]
    },
    {
      "cell_type": "code",
      "execution_count": null,
      "metadata": {
        "colab": {
          "base_uri": "https://localhost:8080/"
        },
        "id": "0WDjz2t_WX26",
        "outputId": "ebd5943f-73f6-4fea-f577-718918a863fb"
      },
      "outputs": [
        {
          "data": {
            "text/plain": [
              "(['0xbc4ca0eda7647a8ab7c2061c2e118a18a936f13d-9955',\n",
              "  '0xbc4ca0eda7647a8ab7c2061c2e118a18a936f13d-1063',\n",
              "  '0xbc4ca0eda7647a8ab7c2061c2e118a18a936f13d-6938',\n",
              "  '0xbc4ca0eda7647a8ab7c2061c2e118a18a936f13d-2293',\n",
              "  '0xbc4ca0eda7647a8ab7c2061c2e118a18a936f13d-688',\n",
              "  '0xbc4ca0eda7647a8ab7c2061c2e118a18a936f13d-3049',\n",
              "  '0xbc4ca0eda7647a8ab7c2061c2e118a18a936f13d-55',\n",
              "  '0xbc4ca0eda7647a8ab7c2061c2e118a18a936f13d-2865',\n",
              "  '0xbc4ca0eda7647a8ab7c2061c2e118a18a936f13d-1609',\n",
              "  '0xbc4ca0eda7647a8ab7c2061c2e118a18a936f13d-3197'],\n",
              " [268.5869483628186,\n",
              "  268.5956102194119,\n",
              "  268.69320516662947,\n",
              "  268.7376417146105,\n",
              "  268.4151140320821,\n",
              "  268.77389442436754,\n",
              "  268.3728638193646,\n",
              "  268.33485238639184,\n",
              "  268.86176385353434,\n",
              "  268.2467611254324])"
            ]
          },
          "execution_count": 16,
          "metadata": {},
          "output_type": "execute_result"
        }
      ],
      "source": [
        "trait_rarity_recommendations('0xbc4ca0eda7647a8ab7c2061c2e118a18a936f13d-9948')"
      ]
    },
    {
      "cell_type": "markdown",
      "metadata": {
        "id": "3-p3r5TVxz1p"
      },
      "source": [
        "## Evaluation\n",
        "\n",
        "precision@k, recall@k, MAP, MAE?\n",
        "\n",
        "reference: \n",
        "* http://sdsawtelle.github.io/blog/output/mean-average-precision-MAP-for-recommender-systems.html\n",
        "\n",
        "* https://bond-kirill-alexandrovich.medium.com/precision-and-recall-in-recommender-systems-and-some-metrics-stuff-ca2ad385c5f8"
      ]
    },
    {
      "cell_type": "markdown",
      "metadata": {
        "id": "L8veOf-EfUW6"
      },
      "source": [
        "![image.png](data:image/png;base64,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)"
      ]
    },
    {
      "cell_type": "code",
      "execution_count": null,
      "metadata": {
        "id": "2C0bCyiKlshs"
      },
      "outputs": [],
      "source": [
        "def calculate_precision_at_k(relevant_recommendations_count, recommended_count):\n",
        "  return relevant_recommendations_count / recommended_count\n",
        "\n",
        "def calculate_recall_at_k(relevant_recommendations_count, all_possible_relevant_recommendations_count):\n",
        "  return relevant_recommendations_count / all_possible_relevant_recommendations_count\n",
        "\n",
        "def calculate_f1_score_at_k(precision, recall):\n",
        "  return 2 * (precision * recall) / (precision + recall)\n",
        "\n",
        "# ---\n",
        "def get_formatted_output_line(title, result):\n",
        "  return '{:>12}  {:>12}'.format(title, result)"
      ]
    },
    {
      "cell_type": "code",
      "execution_count": null,
      "metadata": {
        "id": "JzZjIvxuOEH3"
      },
      "outputs": [],
      "source": [
        "reference_item = \"0xbc4ca0eda7647a8ab7c2061c2e118a18a936f13d-9948\"\n",
        "\n",
        "lists_of_trait_content_based_recommendations, cosine_sim_of_trait_content_based_recommendations = content_based_recommendations(reference_item)\n",
        "lists_of_trait_rarity_based_recommendations, total_rarity_of_trait_rarity_based_recommendations = trait_rarity_recommendations(reference_item)\n",
        "\n",
        "list_of_all_recommendations = lists_of_trait_rarity_based_recommendations + lists_of_trait_content_based_recommendations\n",
        "unique_set_of_all_recommendations = set(list_of_all_recommendations)\n"
      ]
    },
    {
      "cell_type": "code",
      "execution_count": null,
      "metadata": {
        "colab": {
          "base_uri": "https://localhost:8080/"
        },
        "id": "NEDr4e9cx2WE",
        "outputId": "fc194bba-1e3c-4a61-87fd-75412ec0b47e"
      },
      "outputs": [
        {
          "name": "stdout",
          "output_type": "stream",
          "text": [
            "----- Evaluation of Trait Content based Recommender (self-scored) -----\n",
            " precision@k           1.0\n",
            "    recall@k           1.0\n",
            "  f1_score@k           1.0\n",
            "\n",
            "\n",
            "----- Evaluation of Trait Content based Recommender (combined scored) -----\n",
            " precision@k           1.0\n",
            "    recall@k           0.5\n",
            "  f1_score@k          0.67\n",
            "\n",
            "\n",
            "----- Evaluation of Trait Rarity based Recommender (self-scored) -----\n",
            " precision@k           1.0\n",
            "    recall@k           1.0\n",
            "  f1_score@k           1.0\n",
            "\n",
            "\n",
            "----- Evaluation of Trait Rarity based Recommender (combined-scored) -----\n",
            " precision@k           1.0\n",
            "    recall@k           0.5\n",
            "  f1_score@k          0.67\n"
          ]
        }
      ],
      "source": [
        "evaluation_dict = {} # will be helpful to show comparison graphs\n",
        "\n",
        "# relevant_recommendations_count = 10\n",
        "# recommended_count = 10\n",
        "# relevant_recommendations_count = 10 # this will vary depending on the similarity of the output from the two models\n",
        "# all_possible_relevant_recommendations_count = 20 # this can be 20 or more because each model will give different outputs (trait_rarity & trait_content)\n",
        "#  actually these two models can't be compared here because trait rarity is not directly related to trait content, but we can check how \n",
        "#   normal content based filtering differs from social trends based filtering\n",
        "\n",
        "\n",
        "#  ----- evaluate trait content based recommender - self scored\n",
        "print(\"----- Evaluation of Trait Content based Recommender (self-scored) -----\")\n",
        "relevant_recommendations_count = len(lists_of_trait_content_based_recommendations)\n",
        "recommended_count = len(lists_of_trait_content_based_recommendations)\n",
        "all_possible_relevant_recommendations_count = 10\n",
        "\n",
        "precision_at_k = calculate_precision_at_k(relevant_recommendations_count, recommended_count)\n",
        "recall_at_k = calculate_recall_at_k(relevant_recommendations_count, all_possible_relevant_recommendations_count)\n",
        "f1_score_at_k = calculate_f1_score_at_k(precision_at_k, recall_at_k)\n",
        "\n",
        "print(get_formatted_output_line(\"precision@k\", precision_at_k))\n",
        "print(get_formatted_output_line(\"recall@k\", recall_at_k))\n",
        "print(get_formatted_output_line(\"f1_score@k\", round(f1_score_at_k, 2)))\n",
        "print(\"\\n\")\n",
        "\n",
        "#  ----- evaluate trait content based recommender - combined scored\n",
        "print(\"----- Evaluation of Trait Content based Recommender (combined scored) -----\")\n",
        "relevant_recommendations_count = len(lists_of_trait_content_based_recommendations)\n",
        "recommended_count = len(lists_of_trait_content_based_recommendations)\n",
        "# all_possible_relevant_recommendations_count = 20\n",
        "all_possible_relevant_recommendations_count = len(unique_set_of_all_recommendations)\n",
        "\n",
        "precision_at_k = calculate_precision_at_k(relevant_recommendations_count, recommended_count)\n",
        "recall_at_k = calculate_recall_at_k(relevant_recommendations_count, all_possible_relevant_recommendations_count)\n",
        "f1_score_at_k = calculate_f1_score_at_k(precision_at_k, recall_at_k)\n",
        "\n",
        "print(get_formatted_output_line(\"precision@k\", precision_at_k))\n",
        "print(get_formatted_output_line(\"recall@k\", recall_at_k))\n",
        "print(get_formatted_output_line(\"f1_score@k\", round(f1_score_at_k, 2)))\n",
        "print(\"\\n\")\n",
        "\n",
        "#  ----- evaluate trait rarity based recommender (self-scored)\n",
        "print(\"----- Evaluation of Trait Rarity based Recommender (self-scored) -----\")\n",
        "relevant_recommendations_count = len(lists_of_trait_rarity_based_recommendations)\n",
        "recommended_count = len(lists_of_trait_rarity_based_recommendations)\n",
        "all_possible_relevant_recommendations_count = 10\n",
        "\n",
        "precision_at_k = calculate_precision_at_k(relevant_recommendations_count, recommended_count)\n",
        "recall_at_k = calculate_recall_at_k(relevant_recommendations_count, all_possible_relevant_recommendations_count)\n",
        "f1_score_at_k = calculate_f1_score_at_k(precision_at_k, recall_at_k)\n",
        "\n",
        "print(get_formatted_output_line(\"precision@k\", precision_at_k))\n",
        "print(get_formatted_output_line(\"recall@k\", recall_at_k))\n",
        "print(get_formatted_output_line(\"f1_score@k\", round(f1_score_at_k, 2)))\n",
        "print(\"\\n\")\n",
        "\n",
        "#  ----- evaluate trait rarity based recommender (combined-scored)\n",
        "print(\"----- Evaluation of Trait Rarity based Recommender (combined-scored) -----\")\n",
        "relevant_recommendations_count = len(lists_of_trait_rarity_based_recommendations)\n",
        "recommended_count = len(lists_of_trait_rarity_based_recommendations)\n",
        "all_possible_relevant_recommendations_count = len(list_of_all_recommendations)\n",
        "\n",
        "precision_at_k = calculate_precision_at_k(relevant_recommendations_count, recommended_count)\n",
        "recall_at_k = calculate_recall_at_k(relevant_recommendations_count, all_possible_relevant_recommendations_count)\n",
        "f1_score_at_k = calculate_f1_score_at_k(precision_at_k, recall_at_k)\n",
        "\n",
        "print(get_formatted_output_line(\"precision@k\", precision_at_k))\n",
        "print(get_formatted_output_line(\"recall@k\", recall_at_k))\n",
        "print(get_formatted_output_line(\"f1_score@k\", round(f1_score_at_k, 2)))\n",
        "# print(\"\\n\")\n"
      ]
    },
    {
      "cell_type": "markdown",
      "metadata": {
        "id": "QbXcz88ZuQar"
      },
      "source": [
        "The reason to consider combined score seperately is because both the recommenders acrtually give relevant recommendations, but we need to show a user the best possible recommendations at the top.\n",
        "Even if a weighted bias is used, we need data (that is not available at present) to define what weightage to give to each pipeline.\n",
        "\n",
        "Therefore, it was decided to design the system in a way that allows a user to choose a relavant bias. This is updated for all users who don't choose a bias based on everyone else's selection."
      ]
    },
    {
      "cell_type": "markdown",
      "metadata": {
        "id": "yd-ydlJRwDMe"
      },
      "source": [
        "Apply the above evaluation metrics for multiple recommendations and graphically represent them (AOC RUC curve??\n",
        "\n",
        "***It doesn't have to be a rating but in order to evaluate the recommendation you need to know some information about the user's preferences.)***\n",
        "\n",
        "This data is not currently available. We can use owners to find connections, but it won't give us every possible option. ...\n",
        "\n",
        "\n",
        "Mean Average Precision can also be calculated only for items that have user-reviews? We need a personalized relationship to measure these."
      ]
    },
    {
      "cell_type": "markdown",
      "metadata": {
        "id": "wXZ_5gJ2t27d"
      },
      "source": [
        "### Evaluation of Diversity in generated Recommendations"
      ]
    },
    {
      "cell_type": "code",
      "execution_count": null,
      "metadata": {
        "id": "DnLP-vfFt3Z1"
      },
      "outputs": [],
      "source": [
        "# difference (diversity) in recommendations using both methods for the same item, to generate recommendations\n",
        "\n",
        "# bar chart to show uniqueness in recommendations\n",
        "\n",
        "# show how difference the two are placed in opposite charts \n",
        "# >> (cosine sim chart for trend_scores, trend scores for content similarity)"
      ]
    },
    {
      "cell_type": "code",
      "execution_count": null,
      "metadata": {
        "id": "LmarQMSRPQvu"
      },
      "outputs": [],
      "source": [
        "# graph representation of precisoin@k, recall@k - check if this makes sense"
      ]
    },
    {
      "cell_type": "code",
      "execution_count": null,
      "metadata": {
        "id": "7TLs84XvQlv_"
      },
      "outputs": [],
      "source": [
        "def get_cosine_sim(initial_reference, item_reference_id):\n",
        "    # getting the index of the initial NFT that was used for recommendations\n",
        "    initial_idx = indices[indices == initial_reference].index[0]\n",
        "    recommended_idx = indices[indices == item_reference_id].index[0]\n",
        "\n",
        "    return cosine_sim[initial_idx][recommended_idx]"
      ]
    },
    {
      "cell_type": "code",
      "execution_count": null,
      "metadata": {
        "id": "AwJliQ1t4W7D"
      },
      "outputs": [],
      "source": [
        "def get_total_rarity_score(item_reference_id):\n",
        "    return df.loc[item_reference_id]['total_rarity']"
      ]
    },
    {
      "cell_type": "code",
      "execution_count": null,
      "metadata": {
        "id": "mTrB8679T9Nt"
      },
      "outputs": [],
      "source": [
        "# define this at the top, before getting recommendations\n",
        "\n",
        "main_reference_item = \"0xbc4ca0eda7647a8ab7c2061c2e118a18a936f13d-9948\""
      ]
    },
    {
      "cell_type": "markdown",
      "metadata": {
        "id": "NxqEanC-Vy5k"
      },
      "source": [
        "### Cosine similarity representation graph for all the recommended items (trait content + rarity recommendation models)\n",
        "\n",
        "TODO: add axis labels & name graph"
      ]
    },
    {
      "cell_type": "code",
      "execution_count": null,
      "metadata": {
        "id": "LN7I9ByITj1_"
      },
      "outputs": [],
      "source": [
        "cosine_sim_of_trait_rarity_based_recommendations = []\n",
        "for trait_rarity_rec in lists_of_trait_rarity_based_recommendations:\n",
        "  cosine_sim_of_trait_rarity_based_recommendations.append(get_cosine_sim(main_reference_item, trait_rarity_rec))"
      ]
    },
    {
      "cell_type": "code",
      "execution_count": null,
      "metadata": {
        "id": "yc5sSTRe0qLO"
      },
      "outputs": [],
      "source": [
        "import matplotlib.pyplot as plt\n",
        "from matplotlib import style\n",
        "\n",
        "# style.use('fivethirtyeight')"
      ]
    },
    {
      "cell_type": "code",
      "execution_count": null,
      "metadata": {
        "id": "QxUFJQZy1b6H"
      },
      "outputs": [],
      "source": [
        "trait_content_based_xs = lists_of_trait_content_based_recommendations\n",
        "trait_content_based_ys = cosine_sim_of_trait_content_based_recommendations\n",
        "\n",
        "# plot those from opposite recommendation models in a different colour\n",
        "trait_rarity_based_xs = lists_of_trait_rarity_based_recommendations\n",
        "trait_rarity_based_ys = cosine_sim_of_trait_rarity_based_recommendations"
      ]
    },
    {
      "cell_type": "markdown",
      "metadata": {
        "id": "8Iy-1KMB4L1z"
      },
      "source": [
        "* have xs as name of NFT\n",
        "* ys as cosine_sim or trait_rarity"
      ]
    },
    {
      "cell_type": "code",
      "execution_count": null,
      "metadata": {
        "colab": {
          "base_uri": "https://localhost:8080/",
          "height": 572
        },
        "id": "qW_TqFA5_lcW",
        "outputId": "a26e25dc-3a00-4bd4-fae3-aa79189da8db"
      },
      "outputs": [
        {
          "data": {
            "image/png": "[encoded data removed]",
            "text/plain": [
              "<Figure size 432x288 with 1 Axes>"
            ]
          },
          "metadata": {},
          "output_type": "display_data"
        }
      ],
      "source": [
        "# visualizing data\n",
        "plt.scatter(trait_content_based_xs, trait_content_based_ys)\n",
        "\n",
        "# plot the point of the initial reference item used - this will be close to 1 for content similarity\n",
        "cosine_sim_main_reference_item = get_cosine_sim(main_reference_item, main_reference_item)\n",
        "plt.scatter(main_reference_item, cosine_sim_main_reference_item, s=100)\n",
        "\n",
        "# plt.scatter(trait_rarity_based_xs, trait_rarity_based_ys, color='g')\n",
        "\n",
        "plt.xticks(rotation=90)\n",
        "\n",
        "plt.title(\"Cosine Similarities of Recommended NFTs - Trait Content Based Recomendations Model\")\n",
        "plt.xlabel(\"NFT Token Id\")\n",
        "plt.ylabel(\"Cosine Similarity\")\n",
        "\n",
        "plt.show()"
      ]
    },
    {
      "cell_type": "code",
      "execution_count": null,
      "metadata": {
        "colab": {
          "base_uri": "https://localhost:8080/",
          "height": 572
        },
        "id": "nOl1JiPVLGxW",
        "outputId": "84c4e87c-e86d-45ae-ff61-68ce8b9de4c8"
      },
      "outputs": [
        {
          "data": {
            "image/png": "[encoded data removed]",
            "text/plain": [
              "<Figure size 432x288 with 1 Axes>"
            ]
          },
          "metadata": {},
          "output_type": "display_data"
        }
      ],
      "source": [
        "# visualizing data\n",
        "plt.scatter(trait_content_based_xs, trait_content_based_ys)\n",
        "\n",
        "# plot the point of the initial reference item used - this will be close to 1 for content similarity\n",
        "cosine_sim_main_reference_item = get_cosine_sim(main_reference_item, main_reference_item)\n",
        "plt.scatter(main_reference_item, cosine_sim_main_reference_item, s=100)\n",
        "\n",
        "plt.scatter(trait_rarity_based_xs, trait_rarity_based_ys, color='g')\n",
        "\n",
        "plt.xticks(rotation=90)\n",
        "\n",
        "plt.title(\"Cosine Similarities of Recommended NFTs - Trait Content Based + Total Rarity Recomendations Models\")\n",
        "plt.xlabel(\"NFT Token Id\")\n",
        "plt.ylabel(\"Cosine Similarity\")\n",
        "\n",
        "plt.show()"
      ]
    },
    {
      "cell_type": "markdown",
      "metadata": {
        "id": "_vJlNXlKWOt_"
      },
      "source": [
        "### Trait rarity representation graph for all the recommended items (trait content + rarity recommendation models)"
      ]
    },
    {
      "cell_type": "code",
      "execution_count": null,
      "metadata": {
        "id": "IXAxJlVa-LIY"
      },
      "outputs": [],
      "source": [
        "trait_rarity_of_content_based_recommendations = []\n",
        "for trait_content_rec_reference_id in lists_of_trait_content_based_recommendations:\n",
        "  trait_rarity_of_content_based_recommendations.append(get_total_rarity_score(trait_content_rec_reference_id))"
      ]
    },
    {
      "cell_type": "code",
      "execution_count": null,
      "metadata": {
        "colab": {
          "base_uri": "https://localhost:8080/",
          "height": 542
        },
        "id": "2IaTJKodXXSG",
        "outputId": "72a3ded9-3e21-4cd1-b71a-d4481c64530b"
      },
      "outputs": [
        {
          "data": {
            "image/png": "[encoded data removed]",
            "text/plain": [
              "<Figure size 432x288 with 1 Axes>"
            ]
          },
          "metadata": {},
          "output_type": "display_data"
        }
      ],
      "source": [
        "# have xs as name of NFT\n",
        "# ys as cosine_sim or trait_rarity\n",
        "\n",
        "trait_content_based_xs = lists_of_trait_content_based_recommendations\n",
        "trait_content_based_ys = trait_rarity_of_content_based_recommendations\n",
        "\n",
        "# plot those from opposite recommendation models in a different colour\n",
        "trait_rarity_based_xs = lists_of_trait_rarity_based_recommendations\n",
        "trait_rarity_based_ys = total_rarity_of_trait_rarity_based_recommendations\n",
        "\n",
        "# visualizing data\n",
        "# plt.scatter(trait_content_based_xs, trait_content_based_ys)\n",
        "\n",
        "# plot the point of the initial reference item used - this will be close to 1 for content similarity\n",
        "total_trait_rarity_main_reference_item = get_total_rarity_score(main_reference_item)\n",
        "plt.scatter(main_reference_item, total_trait_rarity_main_reference_item, s=100, color='orange')\n",
        "\n",
        "plt.scatter(trait_rarity_based_xs, trait_rarity_based_ys, color='g')\n",
        "\n",
        "plt.xticks(rotation=90)\n",
        "\n",
        "plt.show()"
      ]
    },
    {
      "cell_type": "code",
      "execution_count": null,
      "metadata": {
        "colab": {
          "base_uri": "https://localhost:8080/",
          "height": 542
        },
        "id": "rSLkQNwy_gHH",
        "outputId": "b0e67d37-ca87-4f6c-9968-bd70b49d8cee"
      },
      "outputs": [
        {
          "data": {
            "image/png": "[encoded data removed]",
            "text/plain": [
              "<Figure size 432x288 with 1 Axes>"
            ]
          },
          "metadata": {},
          "output_type": "display_data"
        }
      ],
      "source": [
        "# visualizing data\n",
        "plt.scatter(trait_content_based_xs, trait_content_based_ys)\n",
        "\n",
        "# plot the point of the initial reference item used - this will be close to 1 for content similarity\n",
        "total_trait_rarity_main_reference_item = get_total_rarity_score(main_reference_item)\n",
        "plt.scatter(main_reference_item, total_trait_rarity_main_reference_item, s=100)\n",
        "\n",
        "plt.scatter(trait_rarity_based_xs, trait_rarity_based_ys, color='g')\n",
        "\n",
        "plt.xticks(rotation=90)\n",
        "\n",
        "plt.show()"
      ]
    },
    {
      "cell_type": "markdown",
      "metadata": {
        "id": "GHZNH9IrBKAP"
      },
      "source": [
        "### Diversity in Recommendations produced by the two models, for multiple recommendations"
      ]
    },
    {
      "cell_type": "code",
      "execution_count": null,
      "metadata": {
        "id": "SA_BPpdBBYKY"
      },
      "outputs": [],
      "source": [
        "diversity_items_dict = {}\n",
        "similarity_items_dict = {}\n",
        "\n",
        "def calculate_diversity_in_recommendations(reference_item):\n",
        "  lists_of_trait_content_based_recommendations, _ = content_based_recommendations(reference_item)\n",
        "  lists_of_trait_rarity_based_recommendations, _ = trait_rarity_recommendations(reference_item)\n",
        "\n",
        "  list_of_all_recommendations = lists_of_trait_rarity_based_recommendations + lists_of_trait_content_based_recommendations\n",
        "  unique_set_of_all_recommendations = set(list_of_all_recommendations)\n",
        "\n",
        "  similarity = len(list_of_all_recommendations) - len(unique_set_of_all_recommendations)\n",
        "  diversity = len(unique_set_of_all_recommendations)\n",
        "\n",
        "  similarity_items_dict[reference_item] = similarity\n",
        "  diversity_items_dict[reference_item] = diversity\n",
        "\n",
        "for index, row in df.iterrows():\n",
        "  reference_item = index\n",
        "  calculate_diversity_in_recommendations(reference_item)"
      ]
    },
    {
      "cell_type": "code",
      "execution_count": null,
      "metadata": {
        "id": "taR0Y_AAG0jW"
      },
      "outputs": [],
      "source": [
        "len(diversity_items_dict)"
      ]
    },
    {
      "cell_type": "code",
      "execution_count": null,
      "metadata": {
        "colab": {
          "background_save": true
        },
        "id": "PvEhds6mHHFr",
        "outputId": "3f5a2cb3-ce08-465d-f23d-295fc9ab740e"
      },
      "outputs": [
        {
          "data": {
            "image/png": "[encoded data removed]",
            "text/plain": [
              "<Figure size 432x288 with 1 Axes>"
            ]
          },
          "metadata": {},
          "output_type": "display_data"
        }
      ],
      "source": [
        "# reference: https://stackoverflow.com/a/37266356/11005638\n",
        "\n",
        "lists = sorted(diversity_items_dict.items()) # sorted by key, return a list of tuples\n",
        "\n",
        "x, y = zip(*lists) # unpack a list of pairs into two tuples\n",
        "\n",
        "plt.plot(x, y)\n",
        "plt.show()"
      ]
    },
    {
      "cell_type": "code",
      "execution_count": 78,
      "metadata": {
        "id": "GJUM7m9SKrEQ",
        "colab": {
          "base_uri": "https://localhost:8080/",
          "height": 265
        },
        "outputId": "128fb050-a949-4c1d-afe4-db7c19800a6a"
      },
      "outputs": [
        {
          "output_type": "display_data",
          "data": {
            "text/plain": [
              "<Figure size 432x288 with 1 Axes>"
            ],
            "image/png": "[encoded data removed]"
          },
          "metadata": {
            "needs_background": "light"
          }
        }
      ],
      "source": [
        "lists = sorted(similarity_items_dict.items()) # sorted by key, return a list of tuples\n",
        "\n",
        "x, y = zip(*lists) # unpack a list of pairs into two tuples\n",
        "\n",
        "plt.plot(x, y)\n",
        "plt.show()"
      ]
    },
    {
      "cell_type": "markdown",
      "metadata": {
        "id": "tQ1Kf6AvWKw7"
      },
      "source": [
        "# Test Functions"
      ]
    },
    {
      "cell_type": "code",
      "execution_count": null,
      "metadata": {
        "id": "taI1QgOlS7AS"
      },
      "outputs": [],
      "source": [
        "# get_cosine_sim(\"0xbc4ca0eda7647a8ab7c2061c2e118a18a936f13d-9948\", \"0xbc4ca0eda7647a8ab7c2061c2e118a18a936f13d-7474\")"
      ]
    },
    {
      "cell_type": "markdown",
      "metadata": {
        "id": "OeDIqKPedMoj"
      },
      "source": [
        "# Custom Integration to rerank using Social Trends\n",
        "\n",
        "doesn't seems to be too usedful for trait matches at the moment"
      ]
    },
    {
      "cell_type": "markdown",
      "metadata": {
        "id": "l6fEzXWM1UWv"
      },
      "source": [
        "Phrase-Based Matching"
      ]
    },
    {
      "cell_type": "code",
      "execution_count": null,
      "metadata": {
        "id": "qbMWtBEtdSs0"
      },
      "outputs": [],
      "source": [
        "trending_phrases = ['ROMCOM SERIES FOR HAESOO', 'Golden Corral', 'Wordle 228', 'Tietê', 'BOP TRACKLIST', '伊東純也', 'JIKJIN FOCUS FILM', 'NINJAPAN 2021', '一気読み', 'ムササビ', 'オーストラリア', 'WONPIL Concept Photo 3', 'Benzine 39', 'あーりん', 'البليهي', 'Kraft', '花枝ちゃん', 'HAPPY BIRTHDAY GEONU', 'ちゃん誕生日', 'サウジアラビア', '도영듀스', '凛ちゃん', 'SECRETCRUSH TRAILER', 'Best Entertainer Jungkook', 'UM CORPO DE VERÃO', 'Quito', 'Damn Brady', 'Schefter', '日村さん', 'SMILE FOR MEW', 'HBCUs', 'もやとらっしー']\n",
        "# phrases contains all trending words"
      ]
    },
    {
      "cell_type": "code",
      "execution_count": null,
      "metadata": {
        "id": "B2oQGjVa2O0b"
      },
      "outputs": [],
      "source": [
        "import spacy\n",
        "from spacy.matcher import PhraseMatcher"
      ]
    },
    {
      "cell_type": "code",
      "execution_count": null,
      "metadata": {
        "id": "Vj5zSIWa2RWh"
      },
      "outputs": [],
      "source": [
        "nlp = spacy.load(\"en_core_web_sm\")\n",
        "matcher = PhraseMatcher(nlp.vocab)\n",
        "\n",
        "# Only run nlp.make_doc to speed things up\n",
        "patterns = [nlp.make_doc(text) for text in trending_phrases]\n",
        "matcher.add(\"TerminologyList\", patterns)\n"
      ]
    }
  ],
  "metadata": {
    "colab": {
      "collapsed_sections": [
        "tQ1Kf6AvWKw7",
        "OeDIqKPedMoj"
      ],
      "name": "Traits Content & Rarity based NFT Recommender System.ipynb",
      "provenance": [],
      "toc_visible": true,
      "authorship_tag": "ABX9TyPRDtCFo13Ky4p8XdQuSIKc",
      "include_colab_link": true
    },
    "kernelspec": {
      "display_name": "Python 3",
      "name": "python3"
    },
    "language_info": {
      "name": "python"
    }
  },
  "nbformat": 4,
  "nbformat_minor": 0
}